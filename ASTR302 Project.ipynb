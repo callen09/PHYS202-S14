{
 "metadata": {
  "name": "",
  "signature": "sha256:b2f168ef806fec3747c921d7a681ec222148ff0b799d5fb901785040143e2b0f"
 },
 "nbformat": 3,
 "nbformat_minor": 0,
 "worksheets": [
  {
   "cells": [
    {
     "cell_type": "heading",
     "level": 2,
     "metadata": {},
     "source": [
      "                                                ASTR 302 Project - Galaxy Zoo Pt. 5"
     ]
    },
    {
     "cell_type": "heading",
     "level": 4,
     "metadata": {},
     "source": [
      "by Cameron Allen"
     ]
    },
    {
     "cell_type": "markdown",
     "metadata": {},
     "source": [
      "   For my project, I wanted to see what the average distance of various galactic objects was. This is partly tied to the extent that the Sloan Digital Sky Survey can reach - we aren't looking at the Hubble Ultra Deep Field, but neither are we looking at just nearby stars. The goal of my project is to get an idea of what sort of scale we are looking at as we classify galaxies. To do that, I needed to go beyond the scope of this class and bring in some handy relations from cosmology, namely Redshift **z** and the Robertson-Walker Scale Factor **a**.\n",
      "   \n",
      "   The scale factor is a measurement that relates the distance between objects (the proper distance) as a function of time, due to the expansion of the Universe. The redshift is, as in all other physics-based uses, a measure of how the wavelength of emitted light increases as it moves away from us. When we observe objects in the sky moving away from us due to the expansion of the Universe, it is easy to see how the scale factor and the redshift may be related. They are the following equation:   \n",
      "<img class=\"mwe-math-fallback-png-inline tex\" alt=\"1+z = \\frac{a_\\mathrm{now}}{a_\\mathrm{then}}\" src=\"//upload.wikimedia.org/math/a/c/b/acbf960034d91632c14658bff23e7e71.png\">\n",
      "which can also be rewritten (with some math) as: \n",
      "<img class=\"mwe-math-fallback-png-inline tex\" alt=\"a(t) = \\frac{1}{1 + z}\" src=\"//upload.wikimedia.org/math/1/1/8/118904d08ccd82cd992c5e4d3790dab7.png\">\n",
      "and in turn can be related to distance by\n",
      "<img class=\"mwe-math-fallback-png-inline tex\" alt=\"d(t) = a(t)d_0,\\,\" src=\"//upload.wikimedia.org/math/9/e/7/9e711087f3e9058aa9bfbf3faa45ab11.png\">\n",
      "where d0 is the current distance and d(t) is the distance when the light was emitted. From this, the Angular Diameter distance can be determined through the use of more advanced cosmological parameters and equations.\n",
      "\n",
      "The next question is how do we obtain either value? For that, we turn to Galaxy Zoo and the SDSS Data Release 8, which has a handy database of values for each image. Galaxy Zoo's SkyServer is accessed from every galaxy's page on Galaxy Zoo, and returns a whole slew of information regarding that image, such as positions, filters, and assorted telescope data. Unfortunately, this is not the information that can get the required results. \n",
      "\n",
      "For some select images - I am unaware of why some and not others - there is associated spectroscopic data that contains the calculated z value of that image. This is the redshift value determined by the SDSS for that galaxy, and allows us to determine the distance. To actually do the calculations, based on many cosmological parameters, I used the CosmoCalc created by Edward Wright, using the base values for the parameters. Plugging in our z to this returns to us the angular diameter distance DA, which is a good approximation for the true distance between Earth and these galaxies. \n",
      "\n",
      "The greatest issue in this project however, was finding galaxies that had spectra to pull data from. They are far rarer than their non-spectra cousins, so this makes it much more difficult to acquire data. While I initially wanted to sample ~ 50 galaxies, I have only found 31 before Friday. This obviously will lessen the impact of the data and its reliability, but it's easily correctable with more time and spectra. \n",
      "\n",
      "Below is the collected data, with the Galaxy Zoo/DR8 Object ID's, followed by the redshift value found from its spectra, and the calculated angular diameter distance."
     ]
    },
    {
     "cell_type": "code",
     "collapsed": false,
     "input": [
      "#ObjectID, Redshift z, Distance DA(Mpc)\n",
      "GalaxyData={1:['1237661382235455598',0.065,248.7], \n",
      "            2:['1237648720684712156',0.159,533.4],\n",
      "            3:['1237648720709288178',0.102,370.1],\n",
      "            4:['1237655123938050200',0.086,319.2],\n",
      "            5:['1237661949735338056',0.166,551.8],\n",
      "            6:['1237651823248933122',0.115,409.7],\n",
      "            7:['1237658298985742779',0.073,276.1],\n",
      "            8:['1237661124538728716',0.062,238.3],\n",
      "            9:['1237651753473867993',0.041,162.6],\n",
      "            10:['1237668348669001947',0.076,286.2],\n",
      "            11:['1237662263783588048',0.061,234.8],\n",
      "            12:['1237661949198336156',0.114,406.7],\n",
      "            13:['1237662534357745828',0.087,322.5],\n",
      "            14:['1237655499745460434',0.107,385.5],\n",
      "            15:['1237661949731602490',0.034,136.2],\n",
      "            16:['1237662263245668643',0.124,463.3],\n",
      "            17:['1237662236404613215',0.082,306.1],\n",
      "            18:['1237649921113718918',0.169,559.5],\n",
      "            19:['1237661972259340454',0.091,335.4],\n",
      "            20:['1237658491208728775',0.087,322.5],\n",
      "            21:['1237661817635340414',0.065,248.7],\n",
      "            22:['1237658491208794289',0.092,338.6],\n",
      "            23:['1237648722300305504',0.105,379.4],\n",
      "            24:['1237662199356784668',0.078,292.9],\n",
      "            25:['1237655123938050200',0.086,319.2],\n",
      "            26:['1237664289928052869',0.082,306.1],\n",
      "            27:['1237655468064375017',0.096,351.3],\n",
      "            28:['1237648720684712156',0.159,533.4],\n",
      "            29:['1237648720709288178',0.102,370.1],\n",
      "            30:['1237662637439910050',0.084,312.7],\n",
      "            31:['1237659161195249685',0.026,105.5],\n",
      "            }"
     ],
     "language": "python",
     "metadata": {},
     "outputs": [],
     "prompt_number": 1
    },
    {
     "cell_type": "code",
     "collapsed": false,
     "input": [
      "Distance = []\n",
      "Sub200 = 0\n",
      "Over400 = 0\n",
      "Galaxy = sorted(GalaxyData)\n",
      "for i in Galaxy:\n",
      "        Distance.append(GalaxyData[i].pop())\n",
      "\n",
      "for j in Distance:\n",
      "    if j >= 400:\n",
      "        Over400 += 1\n",
      "    if j <= 200:\n",
      "        Sub200 += 1\n"
     ],
     "language": "python",
     "metadata": {},
     "outputs": [],
     "prompt_number": 2
    },
    {
     "cell_type": "markdown",
     "metadata": {},
     "source": [
      "Once the distance measurements are sorted out, we can easily find all the relations we want, such as the average distance (the goal of the project), the standard deviation, and extremes. This is easily accomplished through Python's NumPy library.  "
     ]
    },
    {
     "cell_type": "code",
     "collapsed": false,
     "input": [
      "import numpy as np\n",
      "Distance = np.array([Distance])\n",
      "Avg_Distance = Distance.mean()\n",
      "StdDev = Distance.std()\n",
      "mini = Distance.min()\n",
      "maxi = Distance.max()\n",
      "print  \"The average distance is %.4f Mpc, with a standard deviation of %.4f Mpc.\" %(Avg_Distance,StdDev)\n",
      "print \"There are %i galaxies closer than 200 Mpc and %i galaxies farther than 400 Mpc in this sampling.\" %(Sub200,Over400)\n",
      "print \"The nearest galaxy is %.1f Mpc away, while the farthest is %.1f Mpc away.\" %(mini,maxi)\n"
     ],
     "language": "python",
     "metadata": {},
     "outputs": [
      {
       "output_type": "stream",
       "stream": "stdout",
       "text": [
        "The average distance is 336.3387 Mpc, with a standard deviation of 110.3251 Mpc.\n",
        "There are 3 galaxies closer than 200 Mpc and 7 galaxies farther than 400 Mpc in this sampling.\n",
        "The nearest galaxy is 105.5 Mpc away, while the farthest is 559.5 Mpc away.\n"
       ]
      }
     ],
     "prompt_number": 3
    },
    {
     "cell_type": "markdown",
     "metadata": {},
     "source": [
      "As seen, the average distance from Earth is roughly 336 Mpc - or 1,095,885,429 lightyears away. The galaxies we are observing are not exactly that many years old, due to the expansion of the Universe, but it is still mind-boggling to see images of something that could even be close to a billion years old and a billion lightyears away. "
     ]
    },
    {
     "cell_type": "heading",
     "level": 4,
     "metadata": {},
     "source": [
      "Conclusion"
     ]
    },
    {
     "cell_type": "markdown",
     "metadata": {},
     "source": [
      "With only 31 galaxies, its obviously not going to be the most precise measurement of where these galaxies are in general, but thats a good stepstone. There is plenty of room to move onto further galaxies, gathering more data and getting better numbers. It is possible to step past Galaxy Zoo and use the entire SDSS SkyServer, up to Data Release 10, and catalogue more than just galaxies - there are many QSO to be found within the release, in addition to stars, atifacts, and a whole host of incredible galactic objects to catalogue and map. "
     ]
    },
    {
     "cell_type": "heading",
     "level": 4,
     "metadata": {},
     "source": [
      "Citations"
     ]
    },
    {
     "cell_type": "markdown",
     "metadata": {},
     "source": [
      "Wright E. L., 2006, PASP, 118, 1711 - CosmoCalc"
     ]
    }
   ],
   "metadata": {}
  }
 ]
}
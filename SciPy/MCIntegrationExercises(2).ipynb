{
 "metadata": {
  "name": "",
  "signature": "sha256:cb3a3c704896a3e1538986009c3d86f408f7b80f5239db0f645e007c8fe25762"
 },
 "nbformat": 3,
 "nbformat_minor": 0,
 "worksheets": [
  {
   "cells": [
    {
     "cell_type": "markdown",
     "metadata": {},
     "source": [
      "Hi Dr. Klay- \n",
      "\n",
      "The reason for this extra MC Integration file is because I ran into trouble with the first, running some code, and it ran, froze, and locked up everything. I had to hard restart my laptop. Upon going back to the notebook, everything except the MC Integration file was perfect - but this was gone. Pulling didn't fix anything, and I was at a loss. It tells me \"Error Loading Notebook, Bad Request\" and a blank notebook page. Seeing as how this is due in less than 2.5 hours, I'm doing what I can, and hope you can see from previous commits that there was work done, and lost.\n",
      "\n",
      "Thank you, Cameron"
     ]
    },
    {
     "cell_type": "code",
     "collapsed": false,
     "input": [
      "%pylab inline\n",
      "import numpy as np\n",
      "import matplotlib.pyplot as plt"
     ],
     "language": "python",
     "metadata": {},
     "outputs": [
      {
       "output_type": "stream",
       "stream": "stdout",
       "text": [
        "Populating the interactive namespace from numpy and matplotlib\n"
       ]
      }
     ],
     "prompt_number": 3
    },
    {
     "cell_type": "heading",
     "level": 2,
     "metadata": {},
     "source": [
      "Question 2"
     ]
    },
    {
     "cell_type": "markdown",
     "metadata": {},
     "source": [
      "<div class=\"inner_cell\">\n",
      "<div class=\"text_cell_render border-box-sizing rendered_html\">\n",
      "<p>Use the sample mean method to compute the volume of a sphere with radius 1 using spherical coordinates:</p>\n",
      "<p><span class=\"math\"><span class=\"MathJax_Preview\"></span><div class=\"MathJax_Display\" role=\"textbox\" aria-readonly=\"true\" style=\"text-align: center;\"><span class=\"MathJax\" id=\"MathJax-Element-13-Frame\"><nobr><span class=\"math\" id=\"MathJax-Span-116\" style=\"width: 16.789em; display: inline-block;\"><span style=\"display: inline-block; position: relative; width: 13.991em; height: 0px; font-size: 120%;\"><span style=\"position: absolute; clip: rect(0.479em 1000.003em 3.277em -0.473em); top: -2.199em; left: 0.003em;\"><span class=\"mrow\" id=\"MathJax-Span-117\"><span class=\"mi\" id=\"MathJax-Span-118\" style=\"font-family: MathJax_Math; font-style: italic;\">V<span style=\"display: inline-block; overflow: hidden; height: 1px; width: 0.182em;\"></span></span><span class=\"mo\" id=\"MathJax-Span-119\" style=\"font-family: MathJax_Main; padding-left: 0.301em;\">=</span><span class=\"msubsup\" id=\"MathJax-Span-120\" style=\"padding-left: 0.301em;\"><span style=\"display: inline-block; position: relative; width: 1.551em; height: 0px;\"><span style=\"position: absolute; clip: rect(1.551em 1000.003em 4.11em -0.473em); top: -3.092em; left: 0.003em;\"><span class=\"mo\" id=\"MathJax-Span-121\" style=\"font-family: MathJax_Size2; vertical-align: 0.003em;\">\u222b<span style=\"display: inline-block; overflow: hidden; height: 1px; width: 0.42em;\"></span></span><span style=\"display: inline-block; width: 0px; height: 3.098em;\"></span></span><span style=\"position: absolute; clip: rect(1.551em 1000.003em 2.384em -0.473em); top: -3.271em; left: 1.134em;\"><span class=\"mn\" id=\"MathJax-Span-122\" style=\"font-size: 70.7%; font-family: MathJax_Main;\">1</span><span style=\"display: inline-block; width: 0px; height: 2.205em;\"></span></span><span style=\"position: absolute; clip: rect(1.551em 1000.003em 2.384em -0.533em); top: -1.307em; left: 0.539em;\"><span class=\"mn\" id=\"MathJax-Span-123\" style=\"font-size: 70.7%; font-family: MathJax_Main;\">0</span><span style=\"display: inline-block; width: 0px; height: 2.205em;\"></span></span></span></span><span class=\"msubsup\" id=\"MathJax-Span-124\" style=\"padding-left: 0.182em;\"><span style=\"display: inline-block; position: relative; width: 1.61em; height: 0px;\"><span style=\"position: absolute; clip: rect(1.551em 1000.003em 4.11em -0.473em); top: -3.092em; left: 0.003em;\"><span class=\"mo\" id=\"MathJax-Span-125\" style=\"font-family: MathJax_Size2; vertical-align: 0.003em;\">\u222b<span style=\"display: inline-block; overflow: hidden; height: 1px; width: 0.42em;\"></span></span><span style=\"display: inline-block; width: 0px; height: 3.098em;\"></span></span><span style=\"position: absolute; clip: rect(1.729em 1000.003em 2.384em -0.533em); top: -3.271em; left: 1.134em;\"><span class=\"texatom\" id=\"MathJax-Span-126\"><span class=\"mrow\" id=\"MathJax-Span-127\"><span class=\"mi\" id=\"MathJax-Span-128\" style=\"font-size: 70.7%; font-family: MathJax_Math; font-style: italic;\">\u03c0<span style=\"display: inline-block; overflow: hidden; height: 1px; width: 0.003em;\"></span></span></span></span><span style=\"display: inline-block; width: 0px; height: 2.205em;\"></span></span><span style=\"position: absolute; clip: rect(1.551em 1000.003em 2.384em -0.533em); top: -1.307em; left: 0.539em;\"><span class=\"mn\" id=\"MathJax-Span-129\" style=\"font-size: 70.7%; font-family: MathJax_Main;\">0</span><span style=\"display: inline-block; width: 0px; height: 2.205em;\"></span></span></span></span><span class=\"msubsup\" id=\"MathJax-Span-130\" style=\"padding-left: 0.182em;\"><span style=\"display: inline-block; position: relative; width: 2.027em; height: 0px;\"><span style=\"position: absolute; clip: rect(1.551em 1000.003em 4.11em -0.473em); top: -3.092em; left: 0.003em;\"><span class=\"mo\" id=\"MathJax-Span-131\" style=\"font-family: MathJax_Size2; vertical-align: 0.003em;\">\u222b<span style=\"display: inline-block; overflow: hidden; height: 1px; width: 0.42em;\"></span></span><span style=\"display: inline-block; width: 0px; height: 3.098em;\"></span></span><span style=\"position: absolute; clip: rect(1.551em 1000.003em 2.384em -0.473em); top: -3.271em; left: 1.134em;\"><span class=\"texatom\" id=\"MathJax-Span-132\"><span class=\"mrow\" id=\"MathJax-Span-133\"><span class=\"mn\" id=\"MathJax-Span-134\" style=\"font-size: 70.7%; font-family: MathJax_Main;\">2</span><span class=\"mi\" id=\"MathJax-Span-135\" style=\"font-size: 70.7%; font-family: MathJax_Math; font-style: italic;\">\u03c0<span style=\"display: inline-block; overflow: hidden; height: 1px; width: 0.003em;\"></span></span></span></span><span style=\"display: inline-block; width: 0px; height: 2.205em;\"></span></span><span style=\"position: absolute; clip: rect(1.551em 1000.003em 2.384em -0.533em); top: -1.307em; left: 0.539em;\"><span class=\"mn\" id=\"MathJax-Span-136\" style=\"font-size: 70.7%; font-family: MathJax_Main;\">0</span><span style=\"display: inline-block; width: 0px; height: 2.205em;\"></span></span></span></span><span class=\"msubsup\" id=\"MathJax-Span-137\" style=\"padding-left: 0.182em;\"><span style=\"display: inline-block; position: relative; width: 0.836em; height: 0px;\"><span style=\"position: absolute; clip: rect(1.61em 1000.003em 2.384em -0.533em); top: -2.199em; left: 0.003em;\"><span class=\"mi\" id=\"MathJax-Span-138\" style=\"font-family: MathJax_Math; font-style: italic;\">r</span><span style=\"display: inline-block; width: 0px; height: 2.205em;\"></span></span><span style=\"position: absolute; top: -2.616em; left: 0.42em;\"><span class=\"mn\" id=\"MathJax-Span-139\" style=\"font-size: 70.7%; font-family: MathJax_Main;\">2</span><span style=\"display: inline-block; width: 0px; height: 2.205em;\"></span></span></span></span><span class=\"mi\" id=\"MathJax-Span-140\" style=\"font-family: MathJax_Main; padding-left: 0.182em;\">sin</span><span class=\"mo\" id=\"MathJax-Span-141\"></span><span class=\"mo\" id=\"MathJax-Span-142\" style=\"font-family: MathJax_Main;\">(</span><span class=\"mi\" id=\"MathJax-Span-143\" style=\"font-family: MathJax_Math; font-style: italic;\">\u03b8</span><span class=\"mo\" id=\"MathJax-Span-144\" style=\"font-family: MathJax_Main;\">)</span><span class=\"mi\" id=\"MathJax-Span-145\" style=\"font-family: MathJax_Math; font-style: italic;\">d<span style=\"display: inline-block; overflow: hidden; height: 1px; width: 0.003em;\"></span></span><span class=\"mi\" id=\"MathJax-Span-146\" style=\"font-family: MathJax_Math; font-style: italic;\">r</span><span class=\"mi\" id=\"MathJax-Span-147\" style=\"font-family: MathJax_Math; font-style: italic;\">d<span style=\"display: inline-block; overflow: hidden; height: 1px; width: 0.003em;\"></span></span><span class=\"mi\" id=\"MathJax-Span-148\" style=\"font-family: MathJax_Math; font-style: italic;\">\u03b8</span><span class=\"mi\" id=\"MathJax-Span-149\" style=\"font-family: MathJax_Math; font-style: italic;\">d<span style=\"display: inline-block; overflow: hidden; height: 1px; width: 0.003em;\"></span></span><span class=\"mi\" id=\"MathJax-Span-150\" style=\"font-family: MathJax_Math; font-style: italic;\">\u03d5</span></span><span style=\"display: inline-block; width: 0px; height: 2.205em;\"></span></span></span><span style=\"border-left-width: 0.004em; border-left-style: solid; display: inline-block; overflow: hidden; width: 0px; height: 3.146em; vertical-align: -1.139em;\"></span></span></nobr></span></div><script type=\"math/tex; mode=display\" id=\"MathJax-Element-13\">\n",
      "V = \\int_0^1\\int_0^{\\pi}\\int_0^{2\\pi} r^2\\sin(\\theta)drd\\theta d\\phi\n",
      "</script></span></p>\n",
      "<p>for <span class=\"math\"><span class=\"MathJax_Preview\"></span><span class=\"MathJax\" id=\"MathJax-Element-14-Frame\" role=\"textbox\" aria-readonly=\"true\"><nobr><span class=\"math\" id=\"MathJax-Span-151\" style=\"width: 16.015em; display: inline-block;\"><span style=\"display: inline-block; position: relative; width: 13.336em; height: 0px; font-size: 120%;\"><span style=\"position: absolute; clip: rect(1.134em 1000.003em 2.622em -0.473em); top: -2.199em; left: 0.003em;\"><span class=\"mrow\" id=\"MathJax-Span-152\"><span class=\"mi\" id=\"MathJax-Span-153\" style=\"font-family: MathJax_Math; font-style: italic;\">N<span style=\"display: inline-block; overflow: hidden; height: 1px; width: 0.063em;\"></span></span><span class=\"mo\" id=\"MathJax-Span-154\" style=\"font-family: MathJax_Main; padding-left: 0.301em;\">=</span><span class=\"mo\" id=\"MathJax-Span-155\" style=\"font-family: MathJax_Main; padding-left: 0.301em;\">(</span><span class=\"msubsup\" id=\"MathJax-Span-156\"><span style=\"display: inline-block; position: relative; width: 1.372em; height: 0px;\"><span style=\"position: absolute; clip: rect(1.372em 1000.003em 2.384em -0.473em); top: -2.199em; left: 0.003em;\"><span class=\"mn\" id=\"MathJax-Span-157\" style=\"font-family: MathJax_Main;\">10</span><span style=\"display: inline-block; width: 0px; height: 2.205em;\"></span></span><span style=\"position: absolute; top: -2.616em; left: 0.955em;\"><span class=\"mn\" id=\"MathJax-Span-158\" style=\"font-size: 70.7%; font-family: MathJax_Main;\">1</span><span style=\"display: inline-block; width: 0px; height: 2.205em;\"></span></span></span></span><span class=\"mo\" id=\"MathJax-Span-159\" style=\"font-family: MathJax_Main;\">,</span><span class=\"msubsup\" id=\"MathJax-Span-160\" style=\"padding-left: 0.182em;\"><span style=\"display: inline-block; position: relative; width: 1.372em; height: 0px;\"><span style=\"position: absolute; clip: rect(1.372em 1000.003em 2.384em -0.473em); top: -2.199em; left: 0.003em;\"><span class=\"mn\" id=\"MathJax-Span-161\" style=\"font-family: MathJax_Main;\">10</span><span style=\"display: inline-block; width: 0px; height: 2.205em;\"></span></span><span style=\"position: absolute; top: -2.616em; left: 0.955em;\"><span class=\"mn\" id=\"MathJax-Span-162\" style=\"font-size: 70.7%; font-family: MathJax_Main;\">2</span><span style=\"display: inline-block; width: 0px; height: 2.205em;\"></span></span></span></span><span class=\"mo\" id=\"MathJax-Span-163\" style=\"font-family: MathJax_Main;\">,</span><span class=\"msubsup\" id=\"MathJax-Span-164\" style=\"padding-left: 0.182em;\"><span style=\"display: inline-block; position: relative; width: 1.372em; height: 0px;\"><span style=\"position: absolute; clip: rect(1.372em 1000.003em 2.384em -0.473em); top: -2.199em; left: 0.003em;\"><span class=\"mn\" id=\"MathJax-Span-165\" style=\"font-family: MathJax_Main;\">10</span><span style=\"display: inline-block; width: 0px; height: 2.205em;\"></span></span><span style=\"position: absolute; top: -2.616em; left: 0.955em;\"><span class=\"mn\" id=\"MathJax-Span-166\" style=\"font-size: 70.7%; font-family: MathJax_Main;\">3</span><span style=\"display: inline-block; width: 0px; height: 2.205em;\"></span></span></span></span><span class=\"mo\" id=\"MathJax-Span-167\" style=\"font-family: MathJax_Main;\">,</span><span class=\"msubsup\" id=\"MathJax-Span-168\" style=\"padding-left: 0.182em;\"><span style=\"display: inline-block; position: relative; width: 1.372em; height: 0px;\"><span style=\"position: absolute; clip: rect(1.372em 1000.003em 2.384em -0.473em); top: -2.199em; left: 0.003em;\"><span class=\"mn\" id=\"MathJax-Span-169\" style=\"font-family: MathJax_Main;\">10</span><span style=\"display: inline-block; width: 0px; height: 2.205em;\"></span></span><span style=\"position: absolute; top: -2.616em; left: 0.955em;\"><span class=\"mn\" id=\"MathJax-Span-170\" style=\"font-size: 70.7%; font-family: MathJax_Main;\">4</span><span style=\"display: inline-block; width: 0px; height: 2.205em;\"></span></span></span></span><span class=\"mo\" id=\"MathJax-Span-171\" style=\"font-family: MathJax_Main;\">,</span><span class=\"msubsup\" id=\"MathJax-Span-172\" style=\"padding-left: 0.182em;\"><span style=\"display: inline-block; position: relative; width: 1.372em; height: 0px;\"><span style=\"position: absolute; clip: rect(1.372em 1000.003em 2.384em -0.473em); top: -2.199em; left: 0.003em;\"><span class=\"mn\" id=\"MathJax-Span-173\" style=\"font-family: MathJax_Main;\">10</span><span style=\"display: inline-block; width: 0px; height: 2.205em;\"></span></span><span style=\"position: absolute; top: -2.616em; left: 0.955em;\"><span class=\"mn\" id=\"MathJax-Span-174\" style=\"font-size: 70.7%; font-family: MathJax_Main;\">5</span><span style=\"display: inline-block; width: 0px; height: 2.205em;\"></span></span></span></span><span class=\"mo\" id=\"MathJax-Span-175\" style=\"font-family: MathJax_Main;\">,</span><span class=\"msubsup\" id=\"MathJax-Span-176\" style=\"padding-left: 0.182em;\"><span style=\"display: inline-block; position: relative; width: 1.372em; height: 0px;\"><span style=\"position: absolute; clip: rect(1.372em 1000.003em 2.384em -0.473em); top: -2.199em; left: 0.003em;\"><span class=\"mn\" id=\"MathJax-Span-177\" style=\"font-family: MathJax_Main;\">10</span><span style=\"display: inline-block; width: 0px; height: 2.205em;\"></span></span><span style=\"position: absolute; top: -2.616em; left: 0.955em;\"><span class=\"mn\" id=\"MathJax-Span-178\" style=\"font-size: 70.7%; font-family: MathJax_Main;\">6</span><span style=\"display: inline-block; width: 0px; height: 2.205em;\"></span></span></span></span><span class=\"mo\" id=\"MathJax-Span-179\" style=\"font-family: MathJax_Main;\">)</span></span><span style=\"display: inline-block; width: 0px; height: 2.205em;\"></span></span></span><span style=\"border-left-width: 0.004em; border-left-style: solid; display: inline-block; overflow: hidden; width: 0px; height: 1.504em; vertical-align: -0.354em;\"></span></span></nobr></span><script type=\"math/tex\" id=\"MathJax-Element-14\">N = (10^1,10^2,10^3,10^4,10^5,10^6)</script></span>. Report the value and statistical uncertainty for each sample size. How does the result depend on <span class=\"math\"><span class=\"MathJax_Preview\"></span><span class=\"MathJax\" id=\"MathJax-Element-15-Frame\" role=\"textbox\" aria-readonly=\"true\"><nobr><span class=\"math\" id=\"MathJax-Span-180\" style=\"width: 1.074em; display: inline-block;\"><span style=\"display: inline-block; position: relative; width: 0.896em; height: 0px; font-size: 120%;\"><span style=\"position: absolute; clip: rect(1.372em 1000.003em 2.384em -0.473em); top: -2.199em; left: 0.003em;\"><span class=\"mrow\" id=\"MathJax-Span-181\"><span class=\"mi\" id=\"MathJax-Span-182\" style=\"font-family: MathJax_Math; font-style: italic;\">N<span style=\"display: inline-block; overflow: hidden; height: 1px; width: 0.063em;\"></span></span></span><span style=\"display: inline-block; width: 0px; height: 2.205em;\"></span></span></span><span style=\"border-left-width: 0.004em; border-left-style: solid; display: inline-block; overflow: hidden; width: 0px; height: 0.932em; vertical-align: -0.068em;\"></span></span></nobr></span><script type=\"math/tex\" id=\"MathJax-Element-15\">N</script></span>?</p>\n",
      "</div>\n",
      "</div>"
     ]
    },
    {
     "cell_type": "code",
     "collapsed": false,
     "input": [
      "N = [10**1,10**2,10**3,10**4,10**5,10**6]\n",
      "\n",
      "for i in N:\n",
      "    f = lambda r, phi, theta: r**2*np.sin(theta)\n",
      "    rmax = 1\n",
      "    phimax = 2*np.pi\n",
      "    thetamax = np.pi\n",
      "    \n",
      "    Iexact = 4*np.pi/3\n",
      "\n",
      "    samples_r = rmax*np.random.random_sample(i);\n",
      "    samples_phi = phimax*np.random.random_sample(i);\n",
      "    samples_theta = thetamax*np.random.random_sample(i);\n",
      "\n",
      "    I = f(samples_r,samples_phi,samples_theta).mean()*(rmax*phimax*thetamax)\n",
      "\n",
      "    Iunc = (rmax*phimax*thetamax)*np.sqrt( ((f(samples_r,samples_phi,samples_theta)**2).mean()-(f(samples_r,samples_phi,samples_theta).mean())**2)/i )\n",
      "    Ierr = 100*np.abs(Iexact-I)/Iexact\n",
      "\n",
      "    print \"Calculated I =\",I,\"+/-\",Iunc\n",
      "    print \"Error on I =\", Ierr, \"%, compared to exact value\",Iexact\n",
      "    print\n"
     ],
     "language": "python",
     "metadata": {},
     "outputs": [
      {
       "output_type": "stream",
       "stream": "stdout",
       "text": [
        "Calculated I = 5.90872395403 +/- 1.60926723546\n",
        "Error on I = 41.0603936975 %, compared to exact value 4.18879020479\n",
        "\n",
        "Calculated I = 4.24247932966 +/- 0.422836365934\n",
        "Error on I = 1.28173344218 %, compared to exact value 4.18879020479\n",
        "\n",
        "Calculated I = 4.27090775836 +/- 0.153045381003\n",
        "Error on I = 1.96041218484 %, compared to exact value 4.18879020479\n",
        "\n",
        "Calculated I = 4.18099899372 +/- 0.0467091773828\n",
        "Error on I = 0.186001463167 %, compared to exact value 4.18879020479\n",
        "\n",
        "Calculated I = 4.19092658175 +/- 0.0146051078395\n",
        "Error on I = 0.0510022431345 %, compared to exact value 4.18879020479\n",
        "\n",
        "Calculated I ="
       ]
      },
      {
       "output_type": "stream",
       "stream": "stdout",
       "text": [
        " 4.18368850687 +/- 0.00462305076274\n",
        "Error on I = 0.121794066211 %, compared to exact value 4.18879020479\n",
        "\n"
       ]
      }
     ],
     "prompt_number": 17
    },
    {
     "cell_type": "heading",
     "level": 2,
     "metadata": {},
     "source": [
      "Question 3"
     ]
    },
    {
     "cell_type": "markdown",
     "metadata": {},
     "source": [
      "<div class=\"inner_cell\">\n",
      "<div class=\"text_cell_render border-box-sizing rendered_html\">\n",
      "<p><strong>(a)</strong> Use the hit or miss Monte Carlo method to estimate the integral of <span class=\"math\"><span class=\"MathJax_Preview\"></span><span class=\"MathJax\" id=\"MathJax-Element-16-Frame\" role=\"textbox\" aria-readonly=\"true\"><nobr><span class=\"math\" id=\"MathJax-Span-183\" style=\"width: 8.693em; display: inline-block;\"><span style=\"display: inline-block; position: relative; width: 7.205em; height: 0px; font-size: 120%;\"><span style=\"position: absolute; clip: rect(1.134em 1000.003em 2.622em -0.473em); top: -2.199em; left: 0.003em;\"><span class=\"mrow\" id=\"MathJax-Span-184\"><span class=\"mi\" id=\"MathJax-Span-185\" style=\"font-family: MathJax_Math; font-style: italic;\">f<span style=\"display: inline-block; overflow: hidden; height: 1px; width: 0.063em;\"></span></span><span class=\"mo\" id=\"MathJax-Span-186\" style=\"font-family: MathJax_Main;\">(</span><span class=\"mi\" id=\"MathJax-Span-187\" style=\"font-family: MathJax_Math; font-style: italic;\">x</span><span class=\"mo\" id=\"MathJax-Span-188\" style=\"font-family: MathJax_Main;\">)</span><span class=\"mo\" id=\"MathJax-Span-189\" style=\"font-family: MathJax_Main; padding-left: 0.301em;\">=</span><span class=\"mn\" id=\"MathJax-Span-190\" style=\"font-family: MathJax_Main; padding-left: 0.301em;\">4</span><span class=\"msqrt\" id=\"MathJax-Span-191\"><span style=\"display: inline-block; position: relative; width: 3.515em; height: 0px;\"><span style=\"position: absolute; clip: rect(1.253em 1000.003em 2.384em -0.473em); top: -2.199em; left: 0.836em;\"><span class=\"mrow\" id=\"MathJax-Span-192\"><span class=\"mn\" id=\"MathJax-Span-193\" style=\"font-family: MathJax_Main;\">1</span><span class=\"mo\" id=\"MathJax-Span-194\" style=\"font-family: MathJax_Main; padding-left: 0.241em;\">\u2212</span><span class=\"msubsup\" id=\"MathJax-Span-195\" style=\"padding-left: 0.241em;\"><span style=\"display: inline-block; position: relative; width: 0.955em; height: 0px;\"><span style=\"position: absolute; clip: rect(1.61em 1000.003em 2.384em -0.473em); top: -2.199em; left: 0.003em;\"><span class=\"mi\" id=\"MathJax-Span-196\" style=\"font-family: MathJax_Math; font-style: italic;\">x</span><span style=\"display: inline-block; width: 0px; height: 2.205em;\"></span></span><span style=\"position: absolute; top: -2.497em; left: 0.539em;\"><span class=\"mn\" id=\"MathJax-Span-197\" style=\"font-size: 70.7%; font-family: MathJax_Main;\">2</span><span style=\"display: inline-block; width: 0px; height: 2.205em;\"></span></span></span></span></span><span style=\"display: inline-block; width: 0px; height: 2.205em;\"></span></span><span style=\"position: absolute; clip: rect(3.515em 1000.003em 4.051em -0.533em); top: -4.58em; left: 0.836em;\"><span style=\"display: inline-block; position: relative; width: 2.682em; height: 0px;\"><span style=\"position: absolute; font-family: MathJax_Main; top: -3.985em; left: -0.057em;\">\u2212<span style=\"display: inline-block; width: 0px; height: 3.991em;\"></span></span><span style=\"position: absolute; font-family: MathJax_Main; top: -3.985em; left: 2.027em;\">\u2212<span style=\"display: inline-block; width: 0px; height: 3.991em;\"></span></span><span style=\"font-family: MathJax_Main; position: absolute; top: -3.985em; left: 0.42em;\">\u2212<span style=\"display: inline-block; width: 0px; height: 3.991em;\"></span></span><span style=\"font-family: MathJax_Main; position: absolute; top: -3.985em; left: 0.955em;\">\u2212<span style=\"display: inline-block; width: 0px; height: 3.991em;\"></span></span><span style=\"font-family: MathJax_Main; position: absolute; top: -3.985em; left: 1.491em;\">\u2212<span style=\"display: inline-block; width: 0px; height: 3.991em;\"></span></span></span><span style=\"display: inline-block; width: 0px; height: 3.991em;\"></span></span><span style=\"position: absolute; clip: rect(3.039em 1000.003em 4.348em -0.473em); top: -4.045em; left: 0.003em;\"><span style=\"font-family: MathJax_Main;\">\u221a</span><span style=\"display: inline-block; width: 0px; height: 3.991em;\"></span></span></span></span></span><span style=\"display: inline-block; width: 0px; height: 2.205em;\"></span></span></span><span style=\"border-left-width: 0.004em; border-left-style: solid; display: inline-block; overflow: hidden; width: 0px; height: 1.504em; vertical-align: -0.354em;\"></span></span></nobr></span><script type=\"math/tex\" id=\"MathJax-Element-16\">f(x) = 4\\sqrt{1-x^2}</script></span> in the interval <span class=\"math\"><span class=\"MathJax_Preview\"></span><span class=\"MathJax\" id=\"MathJax-Element-17-Frame\" role=\"textbox\" aria-readonly=\"true\"><nobr><span class=\"math\" id=\"MathJax-Span-198\" style=\"width: 4.943em; display: inline-block;\"><span style=\"display: inline-block; position: relative; width: 4.11em; height: 0px; font-size: 120%;\"><span style=\"position: absolute; clip: rect(1.372em 1000.003em 2.503em -0.473em); top: -2.199em; left: 0.003em;\"><span class=\"mrow\" id=\"MathJax-Span-199\"><span class=\"mn\" id=\"MathJax-Span-200\" style=\"font-family: MathJax_Main;\">0</span><span class=\"mo\" id=\"MathJax-Span-201\" style=\"font-family: MathJax_Main; padding-left: 0.301em;\">\u2264</span><span class=\"mi\" id=\"MathJax-Span-202\" style=\"font-family: MathJax_Math; font-style: italic; padding-left: 0.301em;\">x</span><span class=\"mo\" id=\"MathJax-Span-203\" style=\"font-family: MathJax_Main; padding-left: 0.301em;\">\u2264</span><span class=\"mn\" id=\"MathJax-Span-204\" style=\"font-family: MathJax_Main; padding-left: 0.301em;\">1</span></span><span style=\"display: inline-block; width: 0px; height: 2.205em;\"></span></span></span><span style=\"border-left-width: 0.004em; border-left-style: solid; display: inline-block; overflow: hidden; width: 0px; height: 1.146em; vertical-align: -0.211em;\"></span></span></nobr></span><script type=\"math/tex\" id=\"MathJax-Element-17\">0\\leq x \\leq 1</script></span> as a function of <span class=\"math\"><span class=\"MathJax_Preview\"></span><span class=\"MathJax\" id=\"MathJax-Element-18-Frame\" role=\"textbox\" aria-readonly=\"true\"><nobr><span class=\"math\" id=\"MathJax-Span-205\" style=\"width: 1.074em; display: inline-block;\"><span style=\"display: inline-block; position: relative; width: 0.896em; height: 0px; font-size: 120%;\"><span style=\"position: absolute; clip: rect(1.372em 1000.003em 2.384em -0.473em); top: -2.199em; left: 0.003em;\"><span class=\"mrow\" id=\"MathJax-Span-206\"><span class=\"mi\" id=\"MathJax-Span-207\" style=\"font-family: MathJax_Math; font-style: italic;\">N<span style=\"display: inline-block; overflow: hidden; height: 1px; width: 0.063em;\"></span></span></span><span style=\"display: inline-block; width: 0px; height: 2.205em;\"></span></span></span><span style=\"border-left-width: 0.004em; border-left-style: solid; display: inline-block; overflow: hidden; width: 0px; height: 0.932em; vertical-align: -0.068em;\"></span></span></nobr></span><script type=\"math/tex\" id=\"MathJax-Element-18\">N</script></span>, the number of samples. Let <span class=\"math\"><span class=\"MathJax_Preview\"></span><span class=\"MathJax\" id=\"MathJax-Element-19-Frame\" role=\"textbox\" aria-readonly=\"true\"><nobr><span class=\"math\" id=\"MathJax-Span-208\" style=\"width: 1.074em; display: inline-block;\"><span style=\"display: inline-block; position: relative; width: 0.896em; height: 0px; font-size: 120%;\"><span style=\"position: absolute; clip: rect(1.372em 1000.003em 2.384em -0.473em); top: -2.199em; left: 0.003em;\"><span class=\"mrow\" id=\"MathJax-Span-209\"><span class=\"mi\" id=\"MathJax-Span-210\" style=\"font-family: MathJax_Math; font-style: italic;\">N<span style=\"display: inline-block; overflow: hidden; height: 1px; width: 0.063em;\"></span></span></span><span style=\"display: inline-block; width: 0px; height: 2.205em;\"></span></span></span><span style=\"border-left-width: 0.004em; border-left-style: solid; display: inline-block; overflow: hidden; width: 0px; height: 0.932em; vertical-align: -0.068em;\"></span></span></nobr></span><script type=\"math/tex\" id=\"MathJax-Element-19\">N</script></span> range from 10<span class=\"math\"><span class=\"MathJax_Preview\"></span><span class=\"MathJax\" id=\"MathJax-Element-20-Frame\" role=\"textbox\" aria-readonly=\"true\"><nobr><span class=\"math\" id=\"MathJax-Span-211\" style=\"width: 0.539em; display: inline-block;\"><span style=\"display: inline-block; position: relative; width: 0.42em; height: 0px; font-size: 120%;\"><span style=\"position: absolute; clip: rect(1.193em 1000.003em 2.384em -0.533em); top: -2.199em; left: 0.003em;\"><span class=\"mrow\" id=\"MathJax-Span-212\"><span class=\"msubsup\" id=\"MathJax-Span-213\"><span style=\"display: inline-block; position: relative; width: 0.42em; height: 0px;\"><span style=\"position: absolute; clip: rect(3.812em 1000.003em 4.17em -0.533em); top: -3.985em; left: 0.003em;\"><span class=\"mi\" id=\"MathJax-Span-214\"></span><span style=\"display: inline-block; width: 0px; height: 3.991em;\"></span></span><span style=\"position: absolute; top: -2.557em; left: 0.003em;\"><span class=\"mn\" id=\"MathJax-Span-215\" style=\"font-size: 70.7%; font-family: MathJax_Main;\">1</span><span style=\"display: inline-block; width: 0px; height: 2.205em;\"></span></span></span></span></span><span style=\"display: inline-block; width: 0px; height: 2.205em;\"></span></span></span><span style=\"border-left-width: 0.004em; border-left-style: solid; display: inline-block; overflow: hidden; width: 0px; height: 1.146em; vertical-align: -0.068em;\"></span></span></nobr></span><script type=\"math/tex\" id=\"MathJax-Element-20\">^1</script></span> to 10<span class=\"math\"><span class=\"MathJax_Preview\"></span><span class=\"MathJax\" id=\"MathJax-Element-21-Frame\" role=\"textbox\" aria-readonly=\"true\"><nobr><span class=\"math\" id=\"MathJax-Span-216\" style=\"width: 0.539em; display: inline-block;\"><span style=\"display: inline-block; position: relative; width: 0.42em; height: 0px; font-size: 120%;\"><span style=\"position: absolute; clip: rect(1.193em 1000.003em 2.384em -0.533em); top: -2.199em; left: 0.003em;\"><span class=\"mrow\" id=\"MathJax-Span-217\"><span class=\"msubsup\" id=\"MathJax-Span-218\"><span style=\"display: inline-block; position: relative; width: 0.42em; height: 0px;\"><span style=\"position: absolute; clip: rect(3.812em 1000.003em 4.17em -0.533em); top: -3.985em; left: 0.003em;\"><span class=\"mi\" id=\"MathJax-Span-219\"></span><span style=\"display: inline-block; width: 0px; height: 3.991em;\"></span></span><span style=\"position: absolute; top: -2.557em; left: 0.003em;\"><span class=\"mn\" id=\"MathJax-Span-220\" style=\"font-size: 70.7%; font-family: MathJax_Main;\">6</span><span style=\"display: inline-block; width: 0px; height: 2.205em;\"></span></span></span></span></span><span style=\"display: inline-block; width: 0px; height: 2.205em;\"></span></span></span><span style=\"border-left-width: 0.004em; border-left-style: solid; display: inline-block; overflow: hidden; width: 0px; height: 1.146em; vertical-align: -0.068em;\"></span></span></nobr></span><script type=\"math/tex\" id=\"MathJax-Element-21\">^6</script></span> and use at least 100 different values for <span class=\"math\"><span class=\"MathJax_Preview\"></span><span class=\"MathJax\" id=\"MathJax-Element-22-Frame\" role=\"textbox\" aria-readonly=\"true\"><nobr><span class=\"math\" id=\"MathJax-Span-221\" style=\"width: 1.074em; display: inline-block;\"><span style=\"display: inline-block; position: relative; width: 0.896em; height: 0px; font-size: 120%;\"><span style=\"position: absolute; clip: rect(1.372em 1000.003em 2.384em -0.473em); top: -2.199em; left: 0.003em;\"><span class=\"mrow\" id=\"MathJax-Span-222\"><span class=\"mi\" id=\"MathJax-Span-223\" style=\"font-family: MathJax_Math; font-style: italic;\">N<span style=\"display: inline-block; overflow: hidden; height: 1px; width: 0.063em;\"></span></span></span><span style=\"display: inline-block; width: 0px; height: 2.205em;\"></span></span></span><span style=\"border-left-width: 0.004em; border-left-style: solid; display: inline-block; overflow: hidden; width: 0px; height: 0.932em; vertical-align: -0.068em;\"></span></span></nobr></span><script type=\"math/tex\" id=\"MathJax-Element-22\">N</script></span>.</p>\n",
      "<p>(<code>np.logspace</code> might be useful here to get evenly spaced values for <span class=\"math\"><span class=\"MathJax_Preview\"></span><span class=\"MathJax\" id=\"MathJax-Element-23-Frame\" role=\"textbox\" aria-readonly=\"true\"><nobr><span class=\"math\" id=\"MathJax-Span-224\" style=\"width: 1.074em; display: inline-block;\"><span style=\"display: inline-block; position: relative; width: 0.896em; height: 0px; font-size: 120%;\"><span style=\"position: absolute; clip: rect(1.372em 1000.003em 2.384em -0.473em); top: -2.199em; left: 0.003em;\"><span class=\"mrow\" id=\"MathJax-Span-225\"><span class=\"mi\" id=\"MathJax-Span-226\" style=\"font-family: MathJax_Math; font-style: italic;\">N<span style=\"display: inline-block; overflow: hidden; height: 1px; width: 0.063em;\"></span></span></span><span style=\"display: inline-block; width: 0px; height: 2.205em;\"></span></span></span><span style=\"border-left-width: 0.004em; border-left-style: solid; display: inline-block; overflow: hidden; width: 0px; height: 0.932em; vertical-align: -0.068em;\"></span></span></nobr></span><script type=\"math/tex\" id=\"MathJax-Element-23\">N</script></span>.)</p>\n",
      "</div>\n",
      "</div>"
     ]
    },
    {
     "cell_type": "code",
     "collapsed": false,
     "input": [
      "N = np.logspace(1.,6.,100)\n",
      "for i in N:\n",
      "    \n",
      "    f = lambda x: 4*np.sqrt(1-x**2)\n",
      "    x = np.arange(0.,1.01,0.01)\n",
      "    xmin = 0.\n",
      "    xmax = 1.\n",
      "    subx = x[logical_and((x>xmin),(x<xmax))]\n",
      "    ymax = f(subx).max()*1.05\n",
      "    ymin = 0.\n",
      "    samples_x = xmin + (xmax-xmin)*np.random.random_sample(i);\n",
      "    samples_y = ymin + (ymax-ymin)*np.random.random_sample(i);\n",
      "    newmask = (samples_y < f(samples_x))\n",
      "    newmask.sum()\n",
      "\n",
      "I = (xmax-xmin)*(ymax-ymin)*newmask.sum()/newmask.size\n",
      "print \"Calculated I = \",I"
     ],
     "language": "python",
     "metadata": {},
     "outputs": [
      {
       "output_type": "stream",
       "stream": "stdout",
       "text": [
        "Calculated I =  3.14360580792\n"
       ]
      }
     ],
     "prompt_number": 14
    },
    {
     "cell_type": "markdown",
     "metadata": {},
     "source": [
      "<div class=\"inner_cell\">\n",
      "<div class=\"text_cell_render border-box-sizing rendered_html\">\n",
      "<p><strong>(b)</strong> Calculate the percent error for the <span class=\"math\"><span class=\"MathJax_Preview\"></span><span class=\"MathJax\" id=\"MathJax-Element-24-Frame\" role=\"textbox\" aria-readonly=\"true\"><nobr><span class=\"math\" id=\"MathJax-Span-227\" style=\"width: 1.074em; display: inline-block;\"><span style=\"display: inline-block; position: relative; width: 0.896em; height: 0px; font-size: 120%;\"><span style=\"position: absolute; clip: rect(1.372em 1000.003em 2.384em -0.473em); top: -2.199em; left: 0.003em;\"><span class=\"mrow\" id=\"MathJax-Span-228\"><span class=\"mi\" id=\"MathJax-Span-229\" style=\"font-family: MathJax_Math; font-style: italic;\">N<span style=\"display: inline-block; overflow: hidden; height: 1px; width: 0.063em;\"></span></span></span><span style=\"display: inline-block; width: 0px; height: 2.205em;\"></span></span></span><span style=\"border-left-width: 0.004em; border-left-style: solid; display: inline-block; overflow: hidden; width: 0px; height: 0.932em; vertical-align: -0.068em;\"></span></span></nobr></span><script type=\"math/tex\" id=\"MathJax-Element-24\">N</script></span> values from part (a) using the exact result <span class=\"math\"><span class=\"MathJax_Preview\"></span><span class=\"MathJax\" id=\"MathJax-Element-25-Frame\" role=\"textbox\" aria-readonly=\"true\"><nobr><span class=\"math\" id=\"MathJax-Span-230\" style=\"width: 0.717em; display: inline-block;\"><span style=\"display: inline-block; position: relative; width: 0.598em; height: 0px; font-size: 120%;\"><span style=\"position: absolute; clip: rect(1.61em 1000.003em 2.384em -0.533em); top: -2.199em; left: 0.003em;\"><span class=\"mrow\" id=\"MathJax-Span-231\"><span class=\"mi\" id=\"MathJax-Span-232\" style=\"font-family: MathJax_Math; font-style: italic;\">\u03c0<span style=\"display: inline-block; overflow: hidden; height: 1px; width: 0.003em;\"></span></span></span><span style=\"display: inline-block; width: 0px; height: 2.205em;\"></span></span></span><span style=\"border-left-width: 0.004em; border-left-style: solid; display: inline-block; overflow: hidden; width: 0px; height: 0.646em; vertical-align: -0.068em;\"></span></span></nobr></span><script type=\"math/tex\" id=\"MathJax-Element-25\">\\pi</script></span>. Make a log-log plot of the error as a function of <span class=\"math\"><span class=\"MathJax_Preview\"></span><span class=\"MathJax\" id=\"MathJax-Element-26-Frame\" role=\"textbox\" aria-readonly=\"true\"><nobr><span class=\"math\" id=\"MathJax-Span-233\" style=\"width: 1.074em; display: inline-block;\"><span style=\"display: inline-block; position: relative; width: 0.896em; height: 0px; font-size: 120%;\"><span style=\"position: absolute; clip: rect(1.372em 1000.003em 2.384em -0.473em); top: -2.199em; left: 0.003em;\"><span class=\"mrow\" id=\"MathJax-Span-234\"><span class=\"mi\" id=\"MathJax-Span-235\" style=\"font-family: MathJax_Math; font-style: italic;\">N<span style=\"display: inline-block; overflow: hidden; height: 1px; width: 0.063em;\"></span></span></span><span style=\"display: inline-block; width: 0px; height: 2.205em;\"></span></span></span><span style=\"border-left-width: 0.004em; border-left-style: solid; display: inline-block; overflow: hidden; width: 0px; height: 0.932em; vertical-align: -0.068em;\"></span></span></nobr></span><script type=\"math/tex\" id=\"MathJax-Element-26\">N</script></span>.</p>\n",
      "<p>What is the approximate functional dependence of the error on <span class=\"math\"><span class=\"MathJax_Preview\"></span><span class=\"MathJax\" id=\"MathJax-Element-27-Frame\" role=\"textbox\" aria-readonly=\"true\"><nobr><span class=\"math\" id=\"MathJax-Span-236\" style=\"width: 1.074em; display: inline-block;\"><span style=\"display: inline-block; position: relative; width: 0.896em; height: 0px; font-size: 120%;\"><span style=\"position: absolute; clip: rect(1.372em 1000.003em 2.384em -0.473em); top: -2.199em; left: 0.003em;\"><span class=\"mrow\" id=\"MathJax-Span-237\"><span class=\"mi\" id=\"MathJax-Span-238\" style=\"font-family: MathJax_Math; font-style: italic;\">N<span style=\"display: inline-block; overflow: hidden; height: 1px; width: 0.063em;\"></span></span></span><span style=\"display: inline-block; width: 0px; height: 2.205em;\"></span></span></span><span style=\"border-left-width: 0.004em; border-left-style: solid; display: inline-block; overflow: hidden; width: 0px; height: 0.932em; vertical-align: -0.068em;\"></span></span></nobr></span><script type=\"math/tex\" id=\"MathJax-Element-27\">N</script></span> for large <span class=\"math\"><span class=\"MathJax_Preview\"></span><span class=\"MathJax\" id=\"MathJax-Element-28-Frame\" role=\"textbox\" aria-readonly=\"true\"><nobr><span class=\"math\" id=\"MathJax-Span-239\" style=\"width: 1.074em; display: inline-block;\"><span style=\"display: inline-block; position: relative; width: 0.896em; height: 0px; font-size: 120%;\"><span style=\"position: absolute; clip: rect(1.372em 1000.003em 2.384em -0.473em); top: -2.199em; left: 0.003em;\"><span class=\"mrow\" id=\"MathJax-Span-240\"><span class=\"mi\" id=\"MathJax-Span-241\" style=\"font-family: MathJax_Math; font-style: italic;\">N<span style=\"display: inline-block; overflow: hidden; height: 1px; width: 0.063em;\"></span></span></span><span style=\"display: inline-block; width: 0px; height: 2.205em;\"></span></span></span><span style=\"border-left-width: 0.004em; border-left-style: solid; display: inline-block; overflow: hidden; width: 0px; height: 0.932em; vertical-align: -0.068em;\"></span></span></nobr></span><script type=\"math/tex\" id=\"MathJax-Element-28\">N</script></span>, for example <span class=\"math\"><span class=\"MathJax_Preview\"></span><span class=\"MathJax\" id=\"MathJax-Element-29-Frame\" role=\"textbox\" aria-readonly=\"true\"><nobr><span class=\"math\" id=\"MathJax-Span-242\" style=\"width: 4.229em; display: inline-block;\"><span style=\"display: inline-block; position: relative; width: 3.515em; height: 0px; font-size: 120%;\"><span style=\"position: absolute; clip: rect(1.134em 1000.003em 2.503em -0.473em); top: -2.199em; left: 0.003em;\"><span class=\"mrow\" id=\"MathJax-Span-243\"><span class=\"mi\" id=\"MathJax-Span-244\" style=\"font-family: MathJax_Math; font-style: italic;\">N<span style=\"display: inline-block; overflow: hidden; height: 1px; width: 0.063em;\"></span></span><span class=\"mo\" id=\"MathJax-Span-245\" style=\"font-family: MathJax_Main; padding-left: 0.301em;\">\u2265</span><span class=\"msubsup\" id=\"MathJax-Span-246\" style=\"padding-left: 0.301em;\"><span style=\"display: inline-block; position: relative; width: 1.372em; height: 0px;\"><span style=\"position: absolute; clip: rect(1.372em 1000.003em 2.384em -0.473em); top: -2.199em; left: 0.003em;\"><span class=\"mn\" id=\"MathJax-Span-247\" style=\"font-family: MathJax_Main;\">10</span><span style=\"display: inline-block; width: 0px; height: 2.205em;\"></span></span><span style=\"position: absolute; top: -2.616em; left: 0.955em;\"><span class=\"mn\" id=\"MathJax-Span-248\" style=\"font-size: 70.7%; font-family: MathJax_Main;\">4</span><span style=\"display: inline-block; width: 0px; height: 2.205em;\"></span></span></span></span></span><span style=\"display: inline-block; width: 0px; height: 2.205em;\"></span></span></span><span style=\"border-left-width: 0.004em; border-left-style: solid; display: inline-block; overflow: hidden; width: 0px; height: 1.361em; vertical-align: -0.211em;\"></span></span></nobr></span><script type=\"math/tex\" id=\"MathJax-Element-29\">N \\geq 10^4</script></span>?</p>\n",
      "</div>\n",
      "</div>"
     ]
    },
    {
     "cell_type": "code",
     "collapsed": false,
     "input": [
      "I = (xmax-xmin)*(ymax-ymin)*newmask.sum()/newmask.size\n",
      "Iexact = np.pi\n",
      "Ierr = 100*np.abs(Iexact-I)/Iexact\n",
      "print I,\"is\",Ierr,\"% off from\",Iexact"
     ],
     "language": "python",
     "metadata": {},
     "outputs": [
      {
       "output_type": "stream",
       "stream": "stdout",
       "text": [
        "3.14360580792 is 0.064080692575 % off from 3.14159265359\n"
       ]
      }
     ],
     "prompt_number": 21
    },
    {
     "cell_type": "code",
     "collapsed": false,
     "input": [
      "for i in N:\n",
      "    f = lambda x: 4*np.sqrt(1-x**2)\n",
      "    x = np.arange(0.,1.01,0.01)\n",
      "    xmin = 0.\n",
      "    xmax = 1.\n",
      "    subx = x[logical_and((x>xmin),(x<xmax))]\n",
      "    ymax = f(subx).max()*1.05\n",
      "    ymin = 0.\n",
      "    samples_x = xmin + (xmax-xmin)*np.random.random_sample(i);\n",
      "    samples_y = ymin + (ymax-ymin)*np.random.random_sample(i);\n",
      "    newmask = (samples_y < f(samples_x))\n",
      "    newmask.sum()\n",
      "\n",
      "    \n",
      "    I = (xmax-xmin)*(ymax-ymin)*newmask.sum()/newmask.size\n",
      "    Iexact = np.pi\n",
      "    Ierr = 100*np.abs(Iexact-I)/Iexact\n",
      "    print I,\"is\",Ierr,\"% off from\",Iexact\n",
      "    \n",
      "    plt.loglog(I,Ierr,'o',label = 'Error',alpha=0.5 )\n",
      "    plt.xlabel(r'$I$',fontsize = 20)\n",
      "    plt.ylabel(r'$I\\,Error$',fontsize = 20)\n",
      "plt.legend()\n",
      "plt.show()"
     ],
     "language": "python",
     "metadata": {},
     "outputs": [
      {
       "output_type": "stream",
       "stream": "stdout",
       "text": [
        "2.51987399685 is 19.7899194865 % off from 3.14159265359\n",
        "3.23383829596 is 2.9362699923 % off from 3.14159265359\n",
        "3.10784459611 is 1.07423403338 % off from 3.14159265359\n",
        "3.14690264307 is 0.16902221458 % off from 3.14159265359\n",
        "3.13829307358 is 0.105028893841 % off from 3.14159265359\n",
        "3.14153531145"
       ]
      },
      {
       "output_type": "stream",
       "stream": "stdout",
       "text": [
        " is 0.00182525691354 % off from 3.14159265359\n"
       ]
      },
      {
       "metadata": {},
       "output_type": "display_data",
       "png": "[encoded data removed]",
       "text": [
        "<matplotlib.figure.Figure at 0x9d88358>"
       ]
      }
     ],
     "prompt_number": 56
    },
    {
     "cell_type": "markdown",
     "metadata": {},
     "source": [
      "<div class=\"inner_cell\">\n",
      "<div class=\"text_cell_render border-box-sizing rendered_html\">\n",
      "<p><strong>(c)</strong> Estimate the same integral using the sample mean method and compute the statistical uncertainty and error as a function of the number of samples <span class=\"math\"><span class=\"MathJax_Preview\"></span><span class=\"MathJax\" id=\"MathJax-Element-30-Frame\" role=\"textbox\" aria-readonly=\"true\"><nobr><span class=\"math\" id=\"MathJax-Span-249\" style=\"width: 1.074em; display: inline-block;\"><span style=\"display: inline-block; position: relative; width: 0.896em; height: 0px; font-size: 120%;\"><span style=\"position: absolute; clip: rect(1.372em 1000.003em 2.384em -0.473em); top: -2.199em; left: 0.003em;\"><span class=\"mrow\" id=\"MathJax-Span-250\"><span class=\"mi\" id=\"MathJax-Span-251\" style=\"font-family: MathJax_Math; font-style: italic;\">N<span style=\"display: inline-block; overflow: hidden; height: 1px; width: 0.063em;\"></span></span></span><span style=\"display: inline-block; width: 0px; height: 2.205em;\"></span></span></span><span style=\"border-left-width: 0.004em; border-left-style: solid; display: inline-block; overflow: hidden; width: 0px; height: 0.932em; vertical-align: -0.068em;\"></span></span></nobr></span><script type=\"math/tex\" id=\"MathJax-Element-30\">N</script></span> for <span class=\"math\"><span class=\"MathJax_Preview\"></span><span class=\"MathJax\" id=\"MathJax-Element-31-Frame\" role=\"textbox\" aria-readonly=\"true\"><nobr><span class=\"math\" id=\"MathJax-Span-252\" style=\"width: 4.229em; display: inline-block;\"><span style=\"display: inline-block; position: relative; width: 3.515em; height: 0px; font-size: 120%;\"><span style=\"position: absolute; clip: rect(1.134em 1000.003em 2.503em -0.473em); top: -2.199em; left: 0.003em;\"><span class=\"mrow\" id=\"MathJax-Span-253\"><span class=\"mi\" id=\"MathJax-Span-254\" style=\"font-family: MathJax_Math; font-style: italic;\">N<span style=\"display: inline-block; overflow: hidden; height: 1px; width: 0.063em;\"></span></span><span class=\"mo\" id=\"MathJax-Span-255\" style=\"font-family: MathJax_Main; padding-left: 0.301em;\">\u2265</span><span class=\"msubsup\" id=\"MathJax-Span-256\" style=\"padding-left: 0.301em;\"><span style=\"display: inline-block; position: relative; width: 1.372em; height: 0px;\"><span style=\"position: absolute; clip: rect(1.372em 1000.003em 2.384em -0.473em); top: -2.199em; left: 0.003em;\"><span class=\"mn\" id=\"MathJax-Span-257\" style=\"font-family: MathJax_Main;\">10</span><span style=\"display: inline-block; width: 0px; height: 2.205em;\"></span></span><span style=\"position: absolute; top: -2.616em; left: 0.955em;\"><span class=\"mn\" id=\"MathJax-Span-258\" style=\"font-size: 70.7%; font-family: MathJax_Main;\">4</span><span style=\"display: inline-block; width: 0px; height: 2.205em;\"></span></span></span></span></span><span style=\"display: inline-block; width: 0px; height: 2.205em;\"></span></span></span><span style=\"border-left-width: 0.004em; border-left-style: solid; display: inline-block; overflow: hidden; width: 0px; height: 1.361em; vertical-align: -0.211em;\"></span></span></nobr></span><script type=\"math/tex\" id=\"MathJax-Element-31\">N \\geq 10^4</script></span>. Use at least 100 different values for <span class=\"math\"><span class=\"MathJax_Preview\"></span><span class=\"MathJax\" id=\"MathJax-Element-32-Frame\" role=\"textbox\" aria-readonly=\"true\"><nobr><span class=\"math\" id=\"MathJax-Span-259\" style=\"width: 1.074em; display: inline-block;\"><span style=\"display: inline-block; position: relative; width: 0.896em; height: 0px; font-size: 120%;\"><span style=\"position: absolute; clip: rect(1.372em 1000.003em 2.384em -0.473em); top: -2.199em; left: 0.003em;\"><span class=\"mrow\" id=\"MathJax-Span-260\"><span class=\"mi\" id=\"MathJax-Span-261\" style=\"font-family: MathJax_Math; font-style: italic;\">N<span style=\"display: inline-block; overflow: hidden; height: 1px; width: 0.063em;\"></span></span></span><span style=\"display: inline-block; width: 0px; height: 2.205em;\"></span></span></span><span style=\"border-left-width: 0.004em; border-left-style: solid; display: inline-block; overflow: hidden; width: 0px; height: 0.932em; vertical-align: -0.068em;\"></span></span></nobr></span><script type=\"math/tex\" id=\"MathJax-Element-32\">N</script></span>.</p>\n",
      "<p>Make a log-log plot of both the statistical uncertainty and the error as a function of <span class=\"math\"><span class=\"MathJax_Preview\"></span><span class=\"MathJax\" id=\"MathJax-Element-33-Frame\" role=\"textbox\" aria-readonly=\"true\"><nobr><span class=\"math\" id=\"MathJax-Span-262\" style=\"width: 1.074em; display: inline-block;\"><span style=\"display: inline-block; position: relative; width: 0.896em; height: 0px; font-size: 120%;\"><span style=\"position: absolute; clip: rect(1.372em 1000.003em 2.384em -0.473em); top: -2.199em; left: 0.003em;\"><span class=\"mrow\" id=\"MathJax-Span-263\"><span class=\"mi\" id=\"MathJax-Span-264\" style=\"font-family: MathJax_Math; font-style: italic;\">N<span style=\"display: inline-block; overflow: hidden; height: 1px; width: 0.063em;\"></span></span></span><span style=\"display: inline-block; width: 0px; height: 2.205em;\"></span></span></span><span style=\"border-left-width: 0.004em; border-left-style: solid; display: inline-block; overflow: hidden; width: 0px; height: 0.932em; vertical-align: -0.068em;\"></span></span></nobr></span><script type=\"math/tex\" id=\"MathJax-Element-33\">N</script></span>.</p>\n",
      "<p>How many samples are needed to determine the result to two decimal places? What is the approximate functional dependence of the error on <span class=\"math\"><span class=\"MathJax_Preview\"></span><span class=\"MathJax\" id=\"MathJax-Element-34-Frame\" role=\"textbox\" aria-readonly=\"true\"><nobr><span class=\"math\" id=\"MathJax-Span-265\" style=\"width: 1.074em; display: inline-block;\"><span style=\"display: inline-block; position: relative; width: 0.896em; height: 0px; font-size: 120%;\"><span style=\"position: absolute; clip: rect(1.372em 1000.003em 2.384em -0.473em); top: -2.199em; left: 0.003em;\"><span class=\"mrow\" id=\"MathJax-Span-266\"><span class=\"mi\" id=\"MathJax-Span-267\" style=\"font-family: MathJax_Math; font-style: italic;\">N<span style=\"display: inline-block; overflow: hidden; height: 1px; width: 0.063em;\"></span></span></span><span style=\"display: inline-block; width: 0px; height: 2.205em;\"></span></span></span><span style=\"border-left-width: 0.004em; border-left-style: solid; display: inline-block; overflow: hidden; width: 0px; height: 0.932em; vertical-align: -0.068em;\"></span></span></nobr></span><script type=\"math/tex\" id=\"MathJax-Element-34\">N</script></span> for large <span class=\"math\"><span class=\"MathJax_Preview\"></span><span class=\"MathJax\" id=\"MathJax-Element-35-Frame\" role=\"textbox\" aria-readonly=\"true\"><nobr><span class=\"math\" id=\"MathJax-Span-268\" style=\"width: 1.074em; display: inline-block;\"><span style=\"display: inline-block; position: relative; width: 0.896em; height: 0px; font-size: 120%;\"><span style=\"position: absolute; clip: rect(1.372em 1000.003em 2.384em -0.473em); top: -2.199em; left: 0.003em;\"><span class=\"mrow\" id=\"MathJax-Span-269\"><span class=\"mi\" id=\"MathJax-Span-270\" style=\"font-family: MathJax_Math; font-style: italic;\">N<span style=\"display: inline-block; overflow: hidden; height: 1px; width: 0.063em;\"></span></span></span><span style=\"display: inline-block; width: 0px; height: 2.205em;\"></span></span></span><span style=\"border-left-width: 0.004em; border-left-style: solid; display: inline-block; overflow: hidden; width: 0px; height: 0.932em; vertical-align: -0.068em;\"></span></span></nobr></span><script type=\"math/tex\" id=\"MathJax-Element-35\">N</script></span>?</p>\n",
      "</div>\n",
      "</div>"
     ]
    },
    {
     "cell_type": "code",
     "collapsed": false,
     "input": [
      "N = np.logspace(4.,6.,100)\n",
      "for i in N:\n",
      "    f = lambda x: 4*np.sqrt(1-x**2)\n",
      "    x = np.arange(0.,1.01,0.01)\n",
      "    xmin = 0.\n",
      "    xmax = 1.\n",
      "    subx = x[logical_and((x>xmin),(x<xmax))]\n",
      "    ymax = f(subx).max()*1.05\n",
      "    ymin = 0.\n",
      "    samples_x = xmin + (xmax-xmin)*np.random.random_sample(i);\n",
      "    samples_y = ymin + (ymax-ymin)*np.random.random_sample(i);\n",
      "    newmask = (samples_y < f(samples_x))\n",
      "    newmask.sum()\n",
      "\n",
      "    \n",
      "    I = (xmax-xmin)*(ymax-ymin)*newmask.sum()/newmask.size\n",
      "    Iexact = np.pi\n",
      "    Ierr = 100*np.abs(Iexact-I)/Iexact\n",
      "    print I,\"is\",Ierr,\"% off from\",Iexact\n",
      "    \n",
      "    plt.loglog(I,Ierr,'o',label = 'Error',alpha=0.5 )\n",
      "    plt.xlabel(r'$I$',fontsize = 20)\n",
      "    plt.ylabel(r'$I\\,Error$',fontsize = 20)\n",
      "\n",
      "plt.show()"
     ],
     "language": "python",
     "metadata": {},
     "outputs": [
      {
       "output_type": "stream",
       "stream": "stdout",
       "text": [
        "3.14732262207 is 0.182390561332 % off from 3.14159265359\n",
        "3.14182456938 is 0.00738210896605 % off from 3.14159265359\n",
        "3.12133107319 is 0.64494613512 % off from 3.14159265359\n",
        "3.13422615943 is 0.234482791796 % off from 3.14159265359\n",
        "3.14121279059 is 0.0120914147071 % off from 3.14159265359\n",
        "3.12704287531 is 0.463133826793 % off from 3.14159265359\n",
        "3.13896097648 is 0.0837688840369 % off from 3.14159265359\n",
        "3.13771138689 is 0.123544556081 % off from 3.14159265359\n",
        "3.13913169996 is 0.0783345868783 % off from 3.14159265359\n",
        "3.15529981907 is 0.436312628396 % off from 3.14159265359\n",
        "3.13467556196"
       ]
      },
      {
       "output_type": "stream",
       "stream": "stdout",
       "text": [
        " is 0.220177864783 % off from 3.14159265359\n",
        "3.14512179212 is 0.112335968502 % off from 3.14159265359\n",
        "3.14209181066 is 0.0158886631564 % off from 3.14159265359\n",
        "3.16446731783 is 0.728123177191 % off from 3.14159265359\n",
        "3.1528534514 is 0.358442326941 % off from 3.14159265359\n",
        "3.14921541215 is 0.242639940942 % off from 3.14159265359\n",
        "3.12634849293 is 0.485236704383 % off from 3.14159265359\n",
        "3.12865404035 is 0.411848850779 % off from 3.14159265359\n",
        "3.1546147781 is 0.414507097084 % off from 3.14159265359\n",
        "3.1384323811 is 0.100594597591 % off from 3.14159265359\n",
        "3.12453906366 is 0.542832626961 % off from 3.14159265359\n",
        "3.13814127394 is 0.109860826402 % off from 3.14159265359\n",
        "3.12965482628 is 0.379992845347 % off from 3.14159265359\n",
        "3.14357522797 is 0.0631073026614 % off from 3.14159265359\n",
        "3.14248481826 is 0.028398483471 % off from 3.14159265359\n",
        "3.12857574253 is 0.414341147934 % off from 3.14159265359\n",
        "3.12879091714 is 0.407491927189 % off from 3.14159265359\n",
        "3.13474114643 is 0.218090246329 % off from 3.14159265359\n",
        "3.12846276422 is 0.41793735923 % off from 3.14159265359\n",
        "3.15308484074 is 0.365807678534 % off from 3.14159265359\n",
        "3.15249532353"
       ]
      },
      {
       "output_type": "stream",
       "stream": "stdout",
       "text": [
        " is 0.347042762773 % off from 3.14159265359\n",
        "3.14527448462 is 0.117196321737 % off from 3.14159265359\n",
        "3.1456243167 is 0.128331822617 % off from 3.14159265359\n",
        "3.14592908623 is 0.138032938079 % off from 3.14159265359\n",
        "3.14902198841 is 0.236483072203 % off from 3.14159265359\n",
        "3.15456242652 is 0.412840694371 % off from 3.14159265359\n",
        "3.14153987184 is 0.00168009539542 % off from 3.14159265359\n",
        "3.14961713708 is 0.255427242644 % off from 3.14159265359\n",
        "3.15382215023 is 0.389276968421 % off from 3.14159265359\n",
        "3.14989383071 is 0.264234674354 % off from 3.14159265359\n",
        "3.144680962 is 0.0983039098255 % off from 3.14159265359\n",
        "3.13838274032 is 0.102174712801 % off from 3.14159265359\n",
        "3.1406747286 is 0.0292184600203 % off from 3.14159265359\n",
        "3.13471275076 is 0.21899410869 % off from 3.14159265359\n",
        "3.15269023422"
       ]
      },
      {
       "output_type": "stream",
       "stream": "stdout",
       "text": [
        " is 0.353246962784 % off from 3.14159265359\n",
        "3.14586860924 is 0.136107895525 % off from 3.14159265359\n",
        "3.14963244478 is 0.255914501958 % off from 3.14159265359\n",
        "3.14636315397 is 0.151849743409 % off from 3.14159265359\n",
        "3.13556699286 is 0.191802738002 % off from 3.14159265359\n",
        "3.13832208953 is 0.104105287489 % off from 3.14159265359\n",
        "3.14012807361 is 0.0466190286664 % off from 3.14159265359\n",
        "3.14042267723 is 0.037241504081 % off from 3.14159265359\n",
        "3.13698126544"
       ]
      },
      {
       "output_type": "stream",
       "stream": "stdout",
       "text": [
        " is 0.146785043691 % off from 3.14159265359\n",
        "3.14424841476 is 0.084535503598 % off from 3.14159265359\n",
        "3.13822599767 is 0.107163986372 % off from 3.14159265359\n",
        "3.13932302269 is 0.0722445951852 % off from 3.14159265359\n",
        "3.13118766112 is 0.331201196836 % off from 3.14159265359\n",
        "3.14257603895 is 0.0313021282274 % off from 3.14159265359\n",
        "3.14438403611"
       ]
      },
      {
       "output_type": "stream",
       "stream": "stdout",
       "text": [
        " is 0.0888524652497 % off from 3.14159265359\n",
        "3.14265463433 is 0.0338038968559 % off from 3.14159265359\n",
        "3.14040440381 is 0.0378231653644 % off from 3.14159265359\n",
        "3.13542174528 is 0.196426112101 % off from 3.14159265359\n",
        "3.14707181432 is 0.174407102801 % off from 3.14159265359\n",
        "3.14211557817"
       ]
      },
      {
       "output_type": "stream",
       "stream": "stdout",
       "text": [
        " is 0.0166452065116 % off from 3.14159265359\n",
        "3.14862302 is 0.223783513062 % off from 3.14159265359\n",
        "3.13897292468 is 0.0833885611671 % off from 3.14159265359\n",
        "3.13874568412 is 0.0906218526754 % off from 3.14159265359\n",
        "3.1386452766"
       ]
      },
      {
       "output_type": "stream",
       "stream": "stdout",
       "text": [
        " is 0.0938179233428 % off from 3.14159265359\n",
        "3.14449613327 is 0.0924206288017 % off from 3.14159265359\n",
        "3.14495531295 is 0.107036771978 % off from 3.14159265359\n",
        "3.13570573966 is 0.187386290358 % off from 3.14159265359\n",
        "3.14632796927"
       ]
      },
      {
       "output_type": "stream",
       "stream": "stdout",
       "text": [
        " is 0.150729779626 % off from 3.14159265359\n",
        "3.14079932863 is 0.0252523177723 % off from 3.14159265359\n",
        "3.14400093057 is 0.0766578370108 % off from 3.14159265359\n",
        "3.14493489652"
       ]
      },
      {
       "output_type": "stream",
       "stream": "stdout",
       "text": [
        " is 0.106386896769 % off from 3.14159265359\n",
        "3.1440645688 is 0.0786835050301 % off from 3.14159265359\n",
        "3.14126652406 is 0.0103810253343 % off from 3.14159265359\n",
        "3.14206242369"
       ]
      },
      {
       "output_type": "stream",
       "stream": "stdout",
       "text": [
        " is 0.014953246733 % off from 3.14159265359\n",
        "3.14630914091 is 0.150130454252 % off from 3.14159265359\n",
        "3.13877920869 is 0.089554732516 % off from 3.14159265359\n",
        "3.13833934789"
       ]
      },
      {
       "output_type": "stream",
       "stream": "stdout",
       "text": [
        " is 0.103555936595 % off from 3.14159265359\n",
        "3.13717160247 is 0.140726427764 % off from 3.14159265359\n",
        "3.14312588083"
       ]
      },
      {
       "output_type": "stream",
       "stream": "stdout",
       "text": [
        " is 0.0488041387032 % off from 3.14159265359\n",
        "3.13972272786 is 0.0595215845667 % off from 3.14159265359\n",
        "3.14195684611"
       ]
      },
      {
       "output_type": "stream",
       "stream": "stdout",
       "text": [
        " is 0.0115926081234 % off from 3.14159265359\n",
        "3.13656007623 is 0.160191912708 % off from 3.14159265359\n",
        "3.13856890087"
       ]
      },
      {
       "output_type": "stream",
       "stream": "stdout",
       "text": [
        " is 0.0962490383325 % off from 3.14159265359\n",
        "3.13798958775 is 0.114689147767 % off from 3.14159265359\n",
        "3.14351637165"
       ]
      },
      {
       "output_type": "stream",
       "stream": "stdout",
       "text": [
        " is 0.0612338477817 % off from 3.14159265359\n",
        "3.13947892281 is 0.0672821403074 % off from 3.14159265359\n",
        "3.14305225054"
       ]
      },
      {
       "output_type": "stream",
       "stream": "stdout",
       "text": [
        " is 0.0464604139245 % off from 3.14159265359\n",
        "3.14235550354 is 0.0242822679379 % off from 3.14159265359\n",
        "3.14075171421"
       ]
      },
      {
       "output_type": "stream",
       "stream": "stdout",
       "text": [
        " is 0.0267679319099 % off from 3.14159265359\n",
        "3.14198520127 is 0.0124951807577 % off from 3.14159265359\n",
        "3.1413446838"
       ]
      },
      {
       "output_type": "stream",
       "stream": "stdout",
       "text": [
        " is 0.00789312352957 % off from 3.14159265359\n",
        "3.14455239674"
       ]
      },
      {
       "output_type": "stream",
       "stream": "stdout",
       "text": [
        " is 0.0942115506064 % off from 3.14159265359\n",
        "3.14086225068"
       ]
      },
      {
       "output_type": "stream",
       "stream": "stdout",
       "text": [
        " is 0.0232494467715 % off from 3.14159265359\n",
        "3.14218419702"
       ]
      },
      {
       "output_type": "stream",
       "stream": "stdout",
       "text": [
        " is 0.0188294120442 % off from 3.14159265359\n",
        "3.13838109974"
       ]
      },
      {
       "output_type": "stream",
       "stream": "stdout",
       "text": [
        " is 0.102226934029 % off from 3.14159265359\n",
        "3.14429037369"
       ]
      },
      {
       "output_type": "stream",
       "stream": "stdout",
       "text": [
        " is 0.0858710977812 % off from 3.14159265359\n"
       ]
      },
      {
       "metadata": {},
       "output_type": "display_data",
       "png": "[encoded data removed]",
       "text": [
        "<matplotlib.figure.Figure at 0x9d7df60>"
       ]
      }
     ],
     "prompt_number": 58
    },
    {
     "cell_type": "code",
     "collapsed": false,
     "input": [],
     "language": "python",
     "metadata": {},
     "outputs": []
    }
   ],
   "metadata": {}
  }
 ]
}
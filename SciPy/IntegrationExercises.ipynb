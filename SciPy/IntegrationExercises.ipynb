{
 "metadata": {
  "name": "",
  "signature": "sha256:ad8f120f8edd290fd186f14fc28fe38b31bc6cb05ccc2bf42fda5dfc93a6f0e6"
 },
 "nbformat": 3,
 "nbformat_minor": 0,
 "worksheets": [
  {
   "cells": [
    {
     "cell_type": "heading",
     "level": 1,
     "metadata": {},
     "source": [
      "Integration Exercises"
     ]
    },
    {
     "cell_type": "code",
     "collapsed": false,
     "input": [
      "%pylab inline\n",
      "import numpy as np\n",
      "import matplotlib.pyplot as plt\n",
      "import scipy.integrate as integrate"
     ],
     "language": "python",
     "metadata": {},
     "outputs": [
      {
       "output_type": "stream",
       "stream": "stdout",
       "text": [
        "Populating the interactive namespace from numpy and matplotlib\n"
       ]
      }
     ],
     "prompt_number": 1
    },
    {
     "cell_type": "heading",
     "level": 2,
     "metadata": {},
     "source": [
      "Question 1"
     ]
    },
    {
     "cell_type": "markdown",
     "metadata": {},
     "source": [
      "**(a)** Write two functions trapz(func,x) and simps(func,x) to compute the integral of the function func over the variable x using the trapezoidal rule and Simpson's rule to a file called Integrators.py. Do not use the scipy.integrate built-in functions. Include docstrings with each function that describe what they do. Then import the module and use the functions to answer the following questions."
     ]
    },
    {
     "cell_type": "code",
     "collapsed": false,
     "input": [
      "%%file Integrators.py\n",
      "import numpy as np\n",
      "def trapz(func,a,b,N):\n",
      "    \"\"\"\n",
      "    Uses the trapezoid rule to integrate the passed function over x,\n",
      "    where a is the start point, b is the end point, and N is the number of slices.\n",
      "    \n",
      "    Use a,b,N as float values.\n",
      "    \"\"\"\n",
      "    h = float((b-a)/N)\n",
      "    k = np.arange(1,N)\n",
      "    I = h*(0.5*func(a) + 0.5*func(b) + func(a+k*h).sum())\n",
      "    return I\n",
      "\n",
      "def simps(func,a,b,N):\n",
      "    \"\"\"\n",
      "    Uses Simpson's Rule to integrate the passed function over x,\n",
      "    where a is the start point, b is the end point, and N is the number of slices.\n",
      "    \n",
      "    Use a,b,N as float values.\n",
      "    \"\"\"\n",
      "    h = float((b-a)/N)\n",
      "    k1 = np.arange(1,N/2+1)\n",
      "    k2 = np.arange(1,N/2)\n",
      "    I = (1./3.)*h*(func(a)+func(b)+4.*func(a+(2*k1-1)*h).sum() + 2.*func(a+2*k2*h).sum())\n",
      "    return I\n",
      "    "
     ],
     "language": "python",
     "metadata": {},
     "outputs": [
      {
       "output_type": "stream",
       "stream": "stdout",
       "text": [
        "Overwriting Integrators.py\n"
       ]
      }
     ],
     "prompt_number": 2
    },
    {
     "cell_type": "markdown",
     "metadata": {},
     "source": [
      "**(b)** Use your trapz and simps functions from part (a) to calculate the integral of x^4\u22122x+1 from x = 0 to x = 2 with N = 10, N = 100, and N = 1000. Then compare your result to the known correct value of 4.4. What is the percent error in each case?"
     ]
    },
    {
     "cell_type": "code",
     "collapsed": false,
     "input": [
      "import Integrators as myint\n",
      "func = lambda x: x**4 - 2*x + 1\n",
      "\n",
      "\n",
      "I1 = myint.trapz(func,0.,2.,10.)\n",
      "I2 = myint.trapz(func,0.,2.,100.)\n",
      "I3 = myint.trapz(func,0.,2.,1000.)\n",
      "\n",
      "print \"Value =\",I1 , \" Percent Error =\",(abs(I1-4.4)/4.4)*100\n",
      "print \"Value =\",I2 , \" Percent Error =\",(abs(I2-4.4)/4.4)*100\n",
      "print \"Value =\",I3 , \" Percent Error =a\",(abs(I3-4.4)/4.4)*100"
     ],
     "language": "python",
     "metadata": {},
     "outputs": [
      {
       "output_type": "stream",
       "stream": "stdout",
       "text": [
        "Value = 4.50656  Percent Error = 2.42181818182\n",
        "Value = 4.401066656  Percent Error = 0.0242421818182\n",
        "Value = 4.40001066667  Percent Error =a 0.000242424218175\n"
       ]
      }
     ],
     "prompt_number": 14
    },
    {
     "cell_type": "heading",
     "level": 2,
     "metadata": {},
     "source": [
      "Question 2"
     ]
    },
    {
     "cell_type": "markdown",
     "metadata": {},
     "source": [
      "Consider the integral\n",
      "\n",
      "E(x)=\u222bx0e\u2212t2dt\n",
      "\n",
      "This is the error function, commonly seen in probability and statistics. There is no known way to perform this particular integral analytically, although the integrand can be expanded in a Taylor series and terms computed to arbitrary order. For most applications, numerical approaches are the only way forward."
     ]
    },
    {
     "cell_type": "markdown",
     "metadata": {},
     "source": [
      "**(a)** Use scipy.integrate.cumtrapz to calculate E(x) for values of x from 0 to 3 in steps of 0.1. Print the result."
     ]
    },
    {
     "cell_type": "code",
     "collapsed": false,
     "input": [
      "y = np.exp(-t**2)\n",
      "\n",
      "Ex = integrate.cumtrapz(y,x=None,dx=.1,axis=-1, initial=0)\n",
      "print Ex"
     ],
     "language": "python",
     "metadata": {},
     "outputs": [
      {
       "output_type": "stream",
       "stream": "stdout",
       "text": [
        "[ 0.          0.09950249  0.19704446  0.29078049  0.37908424  0.46063146\n",
        "  0.53445532  0.59997046  0.6569664   0.70557392  0.7462108   0.77951463\n",
        "  0.80627088  0.82734325  0.84361215  0.85592503  0.86506023  0.87170427\n",
        "  0.87644128  0.87975207  0.88202044  0.88354398  0.88454709  0.88519453\n",
        "  0.88560418  0.88585826  0.88601274  0.88610482  0.88615862  0.88618943\n",
        "  0.88620673]\n"
       ]
      }
     ],
     "prompt_number": 51
    },
    {
     "cell_type": "markdown",
     "metadata": {},
     "source": [
      "**(b)** Plot the integrand as a function of t and E(x) as a function of x (both ranging from 0 to 3) on the same graph."
     ]
    },
    {
     "cell_type": "code",
     "collapsed": false,
     "input": [
      "x = np.arange(0,3.1,0.1)\n",
      "t = np.arange(0,3.1,0.1)\n",
      "plt.plot(x,Ex)\n",
      "plt.plot(x,np.exp(-t**2))\n",
      "plt.show()"
     ],
     "language": "python",
     "metadata": {},
     "outputs": [
      {
       "metadata": {},
       "output_type": "display_data",
       "png": "[encoded data removed]",
       "text": [
        "<matplotlib.figure.Figure at 0x106c24a10>"
       ]
      }
     ],
     "prompt_number": 52
    },
    {
     "cell_type": "heading",
     "level": 2,
     "metadata": {},
     "source": [
      "Question 3"
     ]
    },
    {
     "cell_type": "markdown",
     "metadata": {},
     "source": [
      "Consider a particle in a one-dimensional box of width L. The probability of finding the particle between a and b is given by\n",
      "\n",
      "P(a,b)=\u222bba|\u03c8(x)|2dx\n",
      "\n",
      "where\n",
      "\n",
      "\u03c8(x)=sqrt(2L)sin(n\u03c0xL)\n",
      "\n",
      "is the wavefunction.\n",
      "\n",
      "**(a)** What is the probability of finding the particle between L/3 and L/2 for the ground state (n = 1) and for the first excited state (n = 2)? Let L = 1. Perform the integral using both scipy.integrate.trapz and scipy.integrate.quad with an accuracy of 6 sig figs. How many slices did you need to use for scipy.integrate.trapz?"
     ]
    },
    {
     "cell_type": "code",
     "collapsed": false,
     "input": [
      "#n = 1 Case\n",
      "L = 1.\n",
      "x = np.arange(L/3.,L/2.,.00000001)\n",
      "\n",
      "psi1 = np.sqrt(2./L)*np.sin((np.pi*x)/L)\n",
      "psi2 = lambda x: np.sqrt(2./L)*np.sin((np.pi*x)/L)\n",
      "\n",
      "probtrapz = integrate.trapz(psi1,x,dx=1,axis=-1)\n",
      "probquad,err = integrate.quad(psi2,L/3.,L/2.) \n",
      "\n",
      "print probtrapz\n",
      "print probquad\n",
      "print \"At 100,000,000 slices, the two answers are accurate to 6 sig figs.\""
     ],
     "language": "python",
     "metadata": {},
     "outputs": [
      {
       "output_type": "stream",
       "stream": "stdout",
       "text": [
        "0.225079069487\n",
        "0.225079079039\n",
        "At 100,000,000 slices, the two answers are accurate to 6 sig figs.\n"
       ]
      }
     ],
     "prompt_number": 103
    },
    {
     "cell_type": "code",
     "collapsed": false,
     "input": [
      "#n = 2 Case\n",
      "L = 1.\n",
      "x = np.arange(L/3.,L/2.,.0001)\n",
      "\n",
      "psi1 = np.sqrt(2./L)*np.sin((2*np.pi*x)/L)\n",
      "psi2 = lambda x: np.sqrt(2./L)*np.sin((2*np.pi*x)/L)\n",
      "\n",
      "probtrapz = integrate.trapz(psi1,x,dx=1,axis=-1)\n",
      "probquad,err = integrate.quad(psi2,L/3.,L/2.) \n",
      "\n",
      "print probtrapz\n",
      "print probquad\n",
      "print \"At 10,000 slices, the two answers are accurate to 6 sig figs.\""
     ],
     "language": "python",
     "metadata": {},
     "outputs": [
      {
       "output_type": "stream",
       "stream": "stdout",
       "text": [
        "0.112539516071\n",
        "0.11253953952\n",
        "At 10,000 slices, the two answers are accurate to 6 sig figs.\n"
       ]
      }
     ],
     "prompt_number": 102
    },
    {
     "cell_type": "heading",
     "level": 2,
     "metadata": {},
     "source": [
      "Question 4"
     ]
    },
    {
     "cell_type": "markdown",
     "metadata": {},
     "source": [
      "Integrals of mass density lead to three interesting quantities:\n",
      "\n",
      "M=\u222b\u03c1dV\n",
      "\n",
      "r\u20d7cm=(xcm,ycm,zcm)=1/M \u222b r\u20d7 \u03c1dV\n",
      "\n",
      "Icm= \u222b(r\u2212rcm)^2\u03c1dV\n",
      "\n",
      "where M is the total mass (a scalar), r\u20d7 cm is the center of mass position (a vector of 3 components), Icm are the moments of inertia about the center of mass (diagonals of a 3x3 matrix), and the mass density, \u03c1, may be a function of the spatial variables.\n",
      "\n",
      "Consider a rectangular box: length (in x) = 0.2 m, width (in y) = 0.2 m, and height (in z) = 1.0 m centered on the origin, (0,0,0) and with a mass density, \u03c1(x,y) = 100 (kg/m) [(y + 0.1) + z2] for y and z in meters."
     ]
    },
    {
     "cell_type": "markdown",
     "metadata": {},
     "source": [
      "**(a)** Use numerical integration to find M, r\u20d7 cm, and Icm. Note that you need M to compute r\u20d7 cm and r\u20d7 cm to compute Icm. The moments of inertia Icm are Ixx, Iyy, and Izz, where e.g. Ixx=\u222b((y\u2212ycm)^2+(z\u2212zcm)^2)\u03c1dV, etc."
     ]
    },
    {
     "cell_type": "code",
     "collapsed": false,
     "input": [
      "from scipy.integrate import tplquad\n",
      "from scipy.integrate import quad\n",
      "\n",
      "rho = lambda z,y,x: 100*((y+0.1)+z**2)\n",
      "\n",
      "xmin = -0.1\n",
      "xmax = 0.1\n",
      "\n",
      "ymin = lambda x: -0.1\n",
      "ymax = lambda x: 0.1\n",
      "\n",
      "zmin = lambda x,y: -0.5\n",
      "zmax = lambda x,y: 0.5\n",
      "\n",
      "M,err = tplquad(rho,xmin,xmax,ymin,ymax,zmin,zmax)\n",
      "\n",
      "print M"
     ],
     "language": "python",
     "metadata": {},
     "outputs": [
      {
       "output_type": "stream",
       "stream": "stdout",
       "text": [
        "0.733333333333\n"
       ]
      }
     ],
     "prompt_number": 120
    },
    {
     "cell_type": "code",
     "collapsed": false,
     "input": [
      "rho = lambda z,y,x: 100*((y+0.1)+z**2)\n",
      "xcm1 = lambda z,y,x: (1/M) * x *100*((y+0.1)+z**2)\n",
      "ycm1 = lambda z,y,x: (1/M) * y *100*((y+0.1)+z**2)\n",
      "zcm1 = lambda z,y,x: (1/M) * z *100*((y+0.1)+z**2)\n",
      "\n",
      "xmin = -0.1\n",
      "xmax = 0.1\n",
      "\n",
      "ymin = lambda x: -0.1\n",
      "ymax = lambda x: 0.1\n",
      "\n",
      "zmin = lambda x,y: -0.5\n",
      "zmax = lambda x,y: 0.5\n",
      "\n",
      "xcm,xerr = tplquad(xcm1,xmin,xmax,ymin,ymax,zmin,zmax)\n",
      "ycm,yerr = tplquad(ycm1,xmin,xmax,ymin,ymax,zmin,zmax)\n",
      "zcm,zerr = tplquad(zcm1,xmin,xmax,ymin,ymax,zmin,zmax)\n",
      "print xcm,ycm,zcm"
     ],
     "language": "python",
     "metadata": {},
     "outputs": [
      {
       "output_type": "stream",
       "stream": "stdout",
       "text": [
        "0.0 0.0181818181818 0.0\n"
       ]
      }
     ],
     "prompt_number": 134
    },
    {
     "cell_type": "code",
     "collapsed": false,
     "input": [],
     "language": "python",
     "metadata": {},
     "outputs": []
    }
   ],
   "metadata": {}
  }
 ]
}
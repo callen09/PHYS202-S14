{
 "metadata": {
  "name": "",
  "signature": "sha256:254fe7fca156a03d90e1acd95d3e0f374402274ea95e5c72a994f7e6fdfe3e00"
 },
 "nbformat": 3,
 "nbformat_minor": 0,
 "worksheets": [
  {
   "cells": [
    {
     "cell_type": "heading",
     "level": 1,
     "metadata": {},
     "source": [
      "Fun With Blocks"
     ]
    },
    {
     "cell_type": "code",
     "collapsed": false,
     "input": [
      "from ipythonblocks import BlockGrid"
     ],
     "language": "python",
     "metadata": {},
     "outputs": [],
     "prompt_number": 1
    },
    {
     "cell_type": "code",
     "collapsed": false,
     "input": [
      "grid = BlockGrid(8,8,fill=(123,234,123))\n",
      "grid"
     ],
     "language": "python",
     "metadata": {},
     "outputs": [
      {
       "html": [
        "<style type=\"text/css\">table.blockgrid {border: none;} .blockgrid tr {border: none;} .blockgrid td {padding: 0px;} #blocksf1d2d5e9-ff6b-4dad-927a-95a7c07e01de td {border: 1px solid white;}</style><table id=\"blocksf1d2d5e9-ff6b-4dad-927a-95a7c07e01de\" class=\"blockgrid\"><tbody><tr><td title=\"Index: [0, 0]&#10;Color: (123, 234, 123)\" style=\"width: 20px; height: 20px;background-color: rgb(123, 234, 123);\"></td><td title=\"Index: [0, 1]&#10;Color: (123, 234, 123)\" style=\"width: 20px; height: 20px;background-color: rgb(123, 234, 123);\"></td><td title=\"Index: [0, 2]&#10;Color: (123, 234, 123)\" style=\"width: 20px; height: 20px;background-color: rgb(123, 234, 123);\"></td><td title=\"Index: [0, 3]&#10;Color: (123, 234, 123)\" style=\"width: 20px; height: 20px;background-color: rgb(123, 234, 123);\"></td><td title=\"Index: [0, 4]&#10;Color: (123, 234, 123)\" style=\"width: 20px; height: 20px;background-color: rgb(123, 234, 123);\"></td><td title=\"Index: [0, 5]&#10;Color: (123, 234, 123)\" style=\"width: 20px; height: 20px;background-color: rgb(123, 234, 123);\"></td><td title=\"Index: [0, 6]&#10;Color: (123, 234, 123)\" style=\"width: 20px; height: 20px;background-color: rgb(123, 234, 123);\"></td><td title=\"Index: [0, 7]&#10;Color: (123, 234, 123)\" style=\"width: 20px; height: 20px;background-color: rgb(123, 234, 123);\"></td></tr><tr><td title=\"Index: [1, 0]&#10;Color: (123, 234, 123)\" style=\"width: 20px; height: 20px;background-color: rgb(123, 234, 123);\"></td><td title=\"Index: [1, 1]&#10;Color: (123, 234, 123)\" style=\"width: 20px; height: 20px;background-color: rgb(123, 234, 123);\"></td><td title=\"Index: [1, 2]&#10;Color: (123, 234, 123)\" style=\"width: 20px; height: 20px;background-color: rgb(123, 234, 123);\"></td><td title=\"Index: [1, 3]&#10;Color: (123, 234, 123)\" style=\"width: 20px; height: 20px;background-color: rgb(123, 234, 123);\"></td><td title=\"Index: [1, 4]&#10;Color: (123, 234, 123)\" style=\"width: 20px; height: 20px;background-color: rgb(123, 234, 123);\"></td><td title=\"Index: [1, 5]&#10;Color: (123, 234, 123)\" style=\"width: 20px; height: 20px;background-color: rgb(123, 234, 123);\"></td><td title=\"Index: [1, 6]&#10;Color: (123, 234, 123)\" style=\"width: 20px; height: 20px;background-color: rgb(123, 234, 123);\"></td><td title=\"Index: [1, 7]&#10;Color: (123, 234, 123)\" style=\"width: 20px; height: 20px;background-color: rgb(123, 234, 123);\"></td></tr><tr><td title=\"Index: [2, 0]&#10;Color: (123, 234, 123)\" style=\"width: 20px; height: 20px;background-color: rgb(123, 234, 123);\"></td><td title=\"Index: [2, 1]&#10;Color: (123, 234, 123)\" style=\"width: 20px; height: 20px;background-color: rgb(123, 234, 123);\"></td><td title=\"Index: [2, 2]&#10;Color: (123, 234, 123)\" style=\"width: 20px; height: 20px;background-color: rgb(123, 234, 123);\"></td><td title=\"Index: [2, 3]&#10;Color: (123, 234, 123)\" style=\"width: 20px; height: 20px;background-color: rgb(123, 234, 123);\"></td><td title=\"Index: [2, 4]&#10;Color: (123, 234, 123)\" style=\"width: 20px; height: 20px;background-color: rgb(123, 234, 123);\"></td><td title=\"Index: [2, 5]&#10;Color: (123, 234, 123)\" style=\"width: 20px; height: 20px;background-color: rgb(123, 234, 123);\"></td><td title=\"Index: [2, 6]&#10;Color: (123, 234, 123)\" style=\"width: 20px; height: 20px;background-color: rgb(123, 234, 123);\"></td><td title=\"Index: [2, 7]&#10;Color: (123, 234, 123)\" style=\"width: 20px; height: 20px;background-color: rgb(123, 234, 123);\"></td></tr><tr><td title=\"Index: [3, 0]&#10;Color: (123, 234, 123)\" style=\"width: 20px; height: 20px;background-color: rgb(123, 234, 123);\"></td><td title=\"Index: [3, 1]&#10;Color: (123, 234, 123)\" style=\"width: 20px; height: 20px;background-color: rgb(123, 234, 123);\"></td><td title=\"Index: [3, 2]&#10;Color: (123, 234, 123)\" style=\"width: 20px; height: 20px;background-color: rgb(123, 234, 123);\"></td><td title=\"Index: [3, 3]&#10;Color: (123, 234, 123)\" style=\"width: 20px; height: 20px;background-color: rgb(123, 234, 123);\"></td><td title=\"Index: [3, 4]&#10;Color: (123, 234, 123)\" style=\"width: 20px; height: 20px;background-color: rgb(123, 234, 123);\"></td><td title=\"Index: [3, 5]&#10;Color: (123, 234, 123)\" style=\"width: 20px; height: 20px;background-color: rgb(123, 234, 123);\"></td><td title=\"Index: [3, 6]&#10;Color: (123, 234, 123)\" style=\"width: 20px; height: 20px;background-color: rgb(123, 234, 123);\"></td><td title=\"Index: [3, 7]&#10;Color: (123, 234, 123)\" style=\"width: 20px; height: 20px;background-color: rgb(123, 234, 123);\"></td></tr><tr><td title=\"Index: [4, 0]&#10;Color: (123, 234, 123)\" style=\"width: 20px; height: 20px;background-color: rgb(123, 234, 123);\"></td><td title=\"Index: [4, 1]&#10;Color: (123, 234, 123)\" style=\"width: 20px; height: 20px;background-color: rgb(123, 234, 123);\"></td><td title=\"Index: [4, 2]&#10;Color: (123, 234, 123)\" style=\"width: 20px; height: 20px;background-color: rgb(123, 234, 123);\"></td><td title=\"Index: [4, 3]&#10;Color: (123, 234, 123)\" style=\"width: 20px; height: 20px;background-color: rgb(123, 234, 123);\"></td><td title=\"Index: [4, 4]&#10;Color: (123, 234, 123)\" style=\"width: 20px; height: 20px;background-color: rgb(123, 234, 123);\"></td><td title=\"Index: [4, 5]&#10;Color: (123, 234, 123)\" style=\"width: 20px; height: 20px;background-color: rgb(123, 234, 123);\"></td><td title=\"Index: [4, 6]&#10;Color: (123, 234, 123)\" style=\"width: 20px; height: 20px;background-color: rgb(123, 234, 123);\"></td><td title=\"Index: [4, 7]&#10;Color: (123, 234, 123)\" style=\"width: 20px; height: 20px;background-color: rgb(123, 234, 123);\"></td></tr><tr><td title=\"Index: [5, 0]&#10;Color: (123, 234, 123)\" style=\"width: 20px; height: 20px;background-color: rgb(123, 234, 123);\"></td><td title=\"Index: [5, 1]&#10;Color: (123, 234, 123)\" style=\"width: 20px; height: 20px;background-color: rgb(123, 234, 123);\"></td><td title=\"Index: [5, 2]&#10;Color: (123, 234, 123)\" style=\"width: 20px; height: 20px;background-color: rgb(123, 234, 123);\"></td><td title=\"Index: [5, 3]&#10;Color: (123, 234, 123)\" style=\"width: 20px; height: 20px;background-color: rgb(123, 234, 123);\"></td><td title=\"Index: [5, 4]&#10;Color: (123, 234, 123)\" style=\"width: 20px; height: 20px;background-color: rgb(123, 234, 123);\"></td><td title=\"Index: [5, 5]&#10;Color: (123, 234, 123)\" style=\"width: 20px; height: 20px;background-color: rgb(123, 234, 123);\"></td><td title=\"Index: [5, 6]&#10;Color: (123, 234, 123)\" style=\"width: 20px; height: 20px;background-color: rgb(123, 234, 123);\"></td><td title=\"Index: [5, 7]&#10;Color: (123, 234, 123)\" style=\"width: 20px; height: 20px;background-color: rgb(123, 234, 123);\"></td></tr><tr><td title=\"Index: [6, 0]&#10;Color: (123, 234, 123)\" style=\"width: 20px; height: 20px;background-color: rgb(123, 234, 123);\"></td><td title=\"Index: [6, 1]&#10;Color: (123, 234, 123)\" style=\"width: 20px; height: 20px;background-color: rgb(123, 234, 123);\"></td><td title=\"Index: [6, 2]&#10;Color: (123, 234, 123)\" style=\"width: 20px; height: 20px;background-color: rgb(123, 234, 123);\"></td><td title=\"Index: [6, 3]&#10;Color: (123, 234, 123)\" style=\"width: 20px; height: 20px;background-color: rgb(123, 234, 123);\"></td><td title=\"Index: [6, 4]&#10;Color: (123, 234, 123)\" style=\"width: 20px; height: 20px;background-color: rgb(123, 234, 123);\"></td><td title=\"Index: [6, 5]&#10;Color: (123, 234, 123)\" style=\"width: 20px; height: 20px;background-color: rgb(123, 234, 123);\"></td><td title=\"Index: [6, 6]&#10;Color: (123, 234, 123)\" style=\"width: 20px; height: 20px;background-color: rgb(123, 234, 123);\"></td><td title=\"Index: [6, 7]&#10;Color: (123, 234, 123)\" style=\"width: 20px; height: 20px;background-color: rgb(123, 234, 123);\"></td></tr><tr><td title=\"Index: [7, 0]&#10;Color: (123, 234, 123)\" style=\"width: 20px; height: 20px;background-color: rgb(123, 234, 123);\"></td><td title=\"Index: [7, 1]&#10;Color: (123, 234, 123)\" style=\"width: 20px; height: 20px;background-color: rgb(123, 234, 123);\"></td><td title=\"Index: [7, 2]&#10;Color: (123, 234, 123)\" style=\"width: 20px; height: 20px;background-color: rgb(123, 234, 123);\"></td><td title=\"Index: [7, 3]&#10;Color: (123, 234, 123)\" style=\"width: 20px; height: 20px;background-color: rgb(123, 234, 123);\"></td><td title=\"Index: [7, 4]&#10;Color: (123, 234, 123)\" style=\"width: 20px; height: 20px;background-color: rgb(123, 234, 123);\"></td><td title=\"Index: [7, 5]&#10;Color: (123, 234, 123)\" style=\"width: 20px; height: 20px;background-color: rgb(123, 234, 123);\"></td><td title=\"Index: [7, 6]&#10;Color: (123, 234, 123)\" style=\"width: 20px; height: 20px;background-color: rgb(123, 234, 123);\"></td><td title=\"Index: [7, 7]&#10;Color: (123, 234, 123)\" style=\"width: 20px; height: 20px;background-color: rgb(123, 234, 123);\"></td></tr></tbody></table>"
       ],
       "metadata": {},
       "output_type": "pyout",
       "prompt_number": 2,
       "text": [
        "<ipythonblocks.ipythonblocks.BlockGrid at 0x3853f60>"
       ]
      }
     ],
     "prompt_number": 2
    },
    {
     "cell_type": "code",
     "collapsed": false,
     "input": [
      "grid [0,0]"
     ],
     "language": "python",
     "metadata": {},
     "outputs": [
      {
       "html": [
        "<style type=\"text/css\">table.blockgrid {border: none;} .blockgrid tr {border: none;} .blockgrid td {padding: 0px;} #blocksf815d243-9693-453e-9db4-52513d919c6b td {border: 0px solid white;}</style><table id=\"blocksf815d243-9693-453e-9db4-52513d919c6b\" class=\"blockgrid\"><tbody><tr><td title=\"Index: [0, 0]&#10;Color: (123, 234, 123)\" style=\"width: 20px; height: 20px;background-color: rgb(123, 234, 123);\"></td></tr></tbody></table>"
       ],
       "metadata": {},
       "output_type": "pyout",
       "prompt_number": 3,
       "text": [
        "Block(123, 234, 123, size=20)"
       ]
      }
     ],
     "prompt_number": 3
    },
    {
     "cell_type": "code",
     "collapsed": false,
     "input": [
      "grid [0,0] = (0,0,0)\n",
      "grid [0,2] = (255,0,0)\n",
      "grid [0,4] = (255,255,255)\n",
      "grid [0,6] = (0,150,150)\n",
      "grid.show()"
     ],
     "language": "python",
     "metadata": {},
     "outputs": [
      {
       "html": [
        "<style type=\"text/css\">table.blockgrid {border: none;} .blockgrid tr {border: none;} .blockgrid td {padding: 0px;} #blocks4b38c459-3167-4054-bba0-9c6bae151199 td {border: 1px solid white;}</style><table id=\"blocks4b38c459-3167-4054-bba0-9c6bae151199\" class=\"blockgrid\"><tbody><tr><td title=\"Index: [0, 0]&#10;Color: (0, 0, 0)\" style=\"width: 20px; height: 20px;background-color: rgb(0, 0, 0);\"></td><td title=\"Index: [0, 1]&#10;Color: (123, 234, 123)\" style=\"width: 20px; height: 20px;background-color: rgb(123, 234, 123);\"></td><td title=\"Index: [0, 2]&#10;Color: (255, 0, 0)\" style=\"width: 20px; height: 20px;background-color: rgb(255, 0, 0);\"></td><td title=\"Index: [0, 3]&#10;Color: (123, 234, 123)\" style=\"width: 20px; height: 20px;background-color: rgb(123, 234, 123);\"></td><td title=\"Index: [0, 4]&#10;Color: (255, 255, 255)\" style=\"width: 20px; height: 20px;background-color: rgb(255, 255, 255);\"></td><td title=\"Index: [0, 5]&#10;Color: (123, 234, 123)\" style=\"width: 20px; height: 20px;background-color: rgb(123, 234, 123);\"></td><td title=\"Index: [0, 6]&#10;Color: (0, 150, 150)\" style=\"width: 20px; height: 20px;background-color: rgb(0, 150, 150);\"></td><td title=\"Index: [0, 7]&#10;Color: (123, 234, 123)\" style=\"width: 20px; height: 20px;background-color: rgb(123, 234, 123);\"></td></tr><tr><td title=\"Index: [1, 0]&#10;Color: (123, 234, 123)\" style=\"width: 20px; height: 20px;background-color: rgb(123, 234, 123);\"></td><td title=\"Index: [1, 1]&#10;Color: (123, 234, 123)\" style=\"width: 20px; height: 20px;background-color: rgb(123, 234, 123);\"></td><td title=\"Index: [1, 2]&#10;Color: (123, 234, 123)\" style=\"width: 20px; height: 20px;background-color: rgb(123, 234, 123);\"></td><td title=\"Index: [1, 3]&#10;Color: (123, 234, 123)\" style=\"width: 20px; height: 20px;background-color: rgb(123, 234, 123);\"></td><td title=\"Index: [1, 4]&#10;Color: (123, 234, 123)\" style=\"width: 20px; height: 20px;background-color: rgb(123, 234, 123);\"></td><td title=\"Index: [1, 5]&#10;Color: (123, 234, 123)\" style=\"width: 20px; height: 20px;background-color: rgb(123, 234, 123);\"></td><td title=\"Index: [1, 6]&#10;Color: (123, 234, 123)\" style=\"width: 20px; height: 20px;background-color: rgb(123, 234, 123);\"></td><td title=\"Index: [1, 7]&#10;Color: (123, 234, 123)\" style=\"width: 20px; height: 20px;background-color: rgb(123, 234, 123);\"></td></tr><tr><td title=\"Index: [2, 0]&#10;Color: (123, 234, 123)\" style=\"width: 20px; height: 20px;background-color: rgb(123, 234, 123);\"></td><td title=\"Index: [2, 1]&#10;Color: (123, 234, 123)\" style=\"width: 20px; height: 20px;background-color: rgb(123, 234, 123);\"></td><td title=\"Index: [2, 2]&#10;Color: (123, 234, 123)\" style=\"width: 20px; height: 20px;background-color: rgb(123, 234, 123);\"></td><td title=\"Index: [2, 3]&#10;Color: (123, 234, 123)\" style=\"width: 20px; height: 20px;background-color: rgb(123, 234, 123);\"></td><td title=\"Index: [2, 4]&#10;Color: (123, 234, 123)\" style=\"width: 20px; height: 20px;background-color: rgb(123, 234, 123);\"></td><td title=\"Index: [2, 5]&#10;Color: (123, 234, 123)\" style=\"width: 20px; height: 20px;background-color: rgb(123, 234, 123);\"></td><td title=\"Index: [2, 6]&#10;Color: (123, 234, 123)\" style=\"width: 20px; height: 20px;background-color: rgb(123, 234, 123);\"></td><td title=\"Index: [2, 7]&#10;Color: (123, 234, 123)\" style=\"width: 20px; height: 20px;background-color: rgb(123, 234, 123);\"></td></tr><tr><td title=\"Index: [3, 0]&#10;Color: (123, 234, 123)\" style=\"width: 20px; height: 20px;background-color: rgb(123, 234, 123);\"></td><td title=\"Index: [3, 1]&#10;Color: (123, 234, 123)\" style=\"width: 20px; height: 20px;background-color: rgb(123, 234, 123);\"></td><td title=\"Index: [3, 2]&#10;Color: (123, 234, 123)\" style=\"width: 20px; height: 20px;background-color: rgb(123, 234, 123);\"></td><td title=\"Index: [3, 3]&#10;Color: (123, 234, 123)\" style=\"width: 20px; height: 20px;background-color: rgb(123, 234, 123);\"></td><td title=\"Index: [3, 4]&#10;Color: (123, 234, 123)\" style=\"width: 20px; height: 20px;background-color: rgb(123, 234, 123);\"></td><td title=\"Index: [3, 5]&#10;Color: (123, 234, 123)\" style=\"width: 20px; height: 20px;background-color: rgb(123, 234, 123);\"></td><td title=\"Index: [3, 6]&#10;Color: (123, 234, 123)\" style=\"width: 20px; height: 20px;background-color: rgb(123, 234, 123);\"></td><td title=\"Index: [3, 7]&#10;Color: (123, 234, 123)\" style=\"width: 20px; height: 20px;background-color: rgb(123, 234, 123);\"></td></tr><tr><td title=\"Index: [4, 0]&#10;Color: (123, 234, 123)\" style=\"width: 20px; height: 20px;background-color: rgb(123, 234, 123);\"></td><td title=\"Index: [4, 1]&#10;Color: (123, 234, 123)\" style=\"width: 20px; height: 20px;background-color: rgb(123, 234, 123);\"></td><td title=\"Index: [4, 2]&#10;Color: (123, 234, 123)\" style=\"width: 20px; height: 20px;background-color: rgb(123, 234, 123);\"></td><td title=\"Index: [4, 3]&#10;Color: (123, 234, 123)\" style=\"width: 20px; height: 20px;background-color: rgb(123, 234, 123);\"></td><td title=\"Index: [4, 4]&#10;Color: (123, 234, 123)\" style=\"width: 20px; height: 20px;background-color: rgb(123, 234, 123);\"></td><td title=\"Index: [4, 5]&#10;Color: (123, 234, 123)\" style=\"width: 20px; height: 20px;background-color: rgb(123, 234, 123);\"></td><td title=\"Index: [4, 6]&#10;Color: (123, 234, 123)\" style=\"width: 20px; height: 20px;background-color: rgb(123, 234, 123);\"></td><td title=\"Index: [4, 7]&#10;Color: (123, 234, 123)\" style=\"width: 20px; height: 20px;background-color: rgb(123, 234, 123);\"></td></tr><tr><td title=\"Index: [5, 0]&#10;Color: (123, 234, 123)\" style=\"width: 20px; height: 20px;background-color: rgb(123, 234, 123);\"></td><td title=\"Index: [5, 1]&#10;Color: (123, 234, 123)\" style=\"width: 20px; height: 20px;background-color: rgb(123, 234, 123);\"></td><td title=\"Index: [5, 2]&#10;Color: (123, 234, 123)\" style=\"width: 20px; height: 20px;background-color: rgb(123, 234, 123);\"></td><td title=\"Index: [5, 3]&#10;Color: (123, 234, 123)\" style=\"width: 20px; height: 20px;background-color: rgb(123, 234, 123);\"></td><td title=\"Index: [5, 4]&#10;Color: (123, 234, 123)\" style=\"width: 20px; height: 20px;background-color: rgb(123, 234, 123);\"></td><td title=\"Index: [5, 5]&#10;Color: (123, 234, 123)\" style=\"width: 20px; height: 20px;background-color: rgb(123, 234, 123);\"></td><td title=\"Index: [5, 6]&#10;Color: (123, 234, 123)\" style=\"width: 20px; height: 20px;background-color: rgb(123, 234, 123);\"></td><td title=\"Index: [5, 7]&#10;Color: (123, 234, 123)\" style=\"width: 20px; height: 20px;background-color: rgb(123, 234, 123);\"></td></tr><tr><td title=\"Index: [6, 0]&#10;Color: (123, 234, 123)\" style=\"width: 20px; height: 20px;background-color: rgb(123, 234, 123);\"></td><td title=\"Index: [6, 1]&#10;Color: (123, 234, 123)\" style=\"width: 20px; height: 20px;background-color: rgb(123, 234, 123);\"></td><td title=\"Index: [6, 2]&#10;Color: (123, 234, 123)\" style=\"width: 20px; height: 20px;background-color: rgb(123, 234, 123);\"></td><td title=\"Index: [6, 3]&#10;Color: (123, 234, 123)\" style=\"width: 20px; height: 20px;background-color: rgb(123, 234, 123);\"></td><td title=\"Index: [6, 4]&#10;Color: (123, 234, 123)\" style=\"width: 20px; height: 20px;background-color: rgb(123, 234, 123);\"></td><td title=\"Index: [6, 5]&#10;Color: (123, 234, 123)\" style=\"width: 20px; height: 20px;background-color: rgb(123, 234, 123);\"></td><td title=\"Index: [6, 6]&#10;Color: (123, 234, 123)\" style=\"width: 20px; height: 20px;background-color: rgb(123, 234, 123);\"></td><td title=\"Index: [6, 7]&#10;Color: (123, 234, 123)\" style=\"width: 20px; height: 20px;background-color: rgb(123, 234, 123);\"></td></tr><tr><td title=\"Index: [7, 0]&#10;Color: (123, 234, 123)\" style=\"width: 20px; height: 20px;background-color: rgb(123, 234, 123);\"></td><td title=\"Index: [7, 1]&#10;Color: (123, 234, 123)\" style=\"width: 20px; height: 20px;background-color: rgb(123, 234, 123);\"></td><td title=\"Index: [7, 2]&#10;Color: (123, 234, 123)\" style=\"width: 20px; height: 20px;background-color: rgb(123, 234, 123);\"></td><td title=\"Index: [7, 3]&#10;Color: (123, 234, 123)\" style=\"width: 20px; height: 20px;background-color: rgb(123, 234, 123);\"></td><td title=\"Index: [7, 4]&#10;Color: (123, 234, 123)\" style=\"width: 20px; height: 20px;background-color: rgb(123, 234, 123);\"></td><td title=\"Index: [7, 5]&#10;Color: (123, 234, 123)\" style=\"width: 20px; height: 20px;background-color: rgb(123, 234, 123);\"></td><td title=\"Index: [7, 6]&#10;Color: (123, 234, 123)\" style=\"width: 20px; height: 20px;background-color: rgb(123, 234, 123);\"></td><td title=\"Index: [7, 7]&#10;Color: (123, 234, 123)\" style=\"width: 20px; height: 20px;background-color: rgb(123, 234, 123);\"></td></tr></tbody></table>"
       ],
       "metadata": {},
       "output_type": "display_data",
       "text": [
        "<IPython.core.display.HTML at 0x2c2a550>"
       ]
      }
     ],
     "prompt_number": 4
    },
    {
     "cell_type": "code",
     "collapsed": false,
     "input": [
      "for block in grid:\n",
      "    if block.row % 2 == 0 and block.col % 3 == 0:\n",
      "        block.red = 0\n",
      "        block.green = 0\n",
      "        block.blue = 0\n",
      "grid"
     ],
     "language": "python",
     "metadata": {},
     "outputs": [
      {
       "html": [
        "<style type=\"text/css\">table.blockgrid {border: none;} .blockgrid tr {border: none;} .blockgrid td {padding: 0px;} #blocksb32dc139-5543-486d-9c30-ea26dc743f8c td {border: 1px solid white;}</style><table id=\"blocksb32dc139-5543-486d-9c30-ea26dc743f8c\" class=\"blockgrid\"><tbody><tr><td title=\"Index: [0, 0]&#10;Color: (0, 0, 0)\" style=\"width: 20px; height: 20px;background-color: rgb(0, 0, 0);\"></td><td title=\"Index: [0, 1]&#10;Color: (123, 234, 123)\" style=\"width: 20px; height: 20px;background-color: rgb(123, 234, 123);\"></td><td title=\"Index: [0, 2]&#10;Color: (255, 0, 0)\" style=\"width: 20px; height: 20px;background-color: rgb(255, 0, 0);\"></td><td title=\"Index: [0, 3]&#10;Color: (0, 0, 0)\" style=\"width: 20px; height: 20px;background-color: rgb(0, 0, 0);\"></td><td title=\"Index: [0, 4]&#10;Color: (255, 255, 255)\" style=\"width: 20px; height: 20px;background-color: rgb(255, 255, 255);\"></td><td title=\"Index: [0, 5]&#10;Color: (123, 234, 123)\" style=\"width: 20px; height: 20px;background-color: rgb(123, 234, 123);\"></td><td title=\"Index: [0, 6]&#10;Color: (0, 0, 0)\" style=\"width: 20px; height: 20px;background-color: rgb(0, 0, 0);\"></td><td title=\"Index: [0, 7]&#10;Color: (123, 234, 123)\" style=\"width: 20px; height: 20px;background-color: rgb(123, 234, 123);\"></td></tr><tr><td title=\"Index: [1, 0]&#10;Color: (123, 234, 123)\" style=\"width: 20px; height: 20px;background-color: rgb(123, 234, 123);\"></td><td title=\"Index: [1, 1]&#10;Color: (123, 234, 123)\" style=\"width: 20px; height: 20px;background-color: rgb(123, 234, 123);\"></td><td title=\"Index: [1, 2]&#10;Color: (123, 234, 123)\" style=\"width: 20px; height: 20px;background-color: rgb(123, 234, 123);\"></td><td title=\"Index: [1, 3]&#10;Color: (123, 234, 123)\" style=\"width: 20px; height: 20px;background-color: rgb(123, 234, 123);\"></td><td title=\"Index: [1, 4]&#10;Color: (123, 234, 123)\" style=\"width: 20px; height: 20px;background-color: rgb(123, 234, 123);\"></td><td title=\"Index: [1, 5]&#10;Color: (123, 234, 123)\" style=\"width: 20px; height: 20px;background-color: rgb(123, 234, 123);\"></td><td title=\"Index: [1, 6]&#10;Color: (123, 234, 123)\" style=\"width: 20px; height: 20px;background-color: rgb(123, 234, 123);\"></td><td title=\"Index: [1, 7]&#10;Color: (123, 234, 123)\" style=\"width: 20px; height: 20px;background-color: rgb(123, 234, 123);\"></td></tr><tr><td title=\"Index: [2, 0]&#10;Color: (0, 0, 0)\" style=\"width: 20px; height: 20px;background-color: rgb(0, 0, 0);\"></td><td title=\"Index: [2, 1]&#10;Color: (123, 234, 123)\" style=\"width: 20px; height: 20px;background-color: rgb(123, 234, 123);\"></td><td title=\"Index: [2, 2]&#10;Color: (123, 234, 123)\" style=\"width: 20px; height: 20px;background-color: rgb(123, 234, 123);\"></td><td title=\"Index: [2, 3]&#10;Color: (0, 0, 0)\" style=\"width: 20px; height: 20px;background-color: rgb(0, 0, 0);\"></td><td title=\"Index: [2, 4]&#10;Color: (123, 234, 123)\" style=\"width: 20px; height: 20px;background-color: rgb(123, 234, 123);\"></td><td title=\"Index: [2, 5]&#10;Color: (123, 234, 123)\" style=\"width: 20px; height: 20px;background-color: rgb(123, 234, 123);\"></td><td title=\"Index: [2, 6]&#10;Color: (0, 0, 0)\" style=\"width: 20px; height: 20px;background-color: rgb(0, 0, 0);\"></td><td title=\"Index: [2, 7]&#10;Color: (123, 234, 123)\" style=\"width: 20px; height: 20px;background-color: rgb(123, 234, 123);\"></td></tr><tr><td title=\"Index: [3, 0]&#10;Color: (123, 234, 123)\" style=\"width: 20px; height: 20px;background-color: rgb(123, 234, 123);\"></td><td title=\"Index: [3, 1]&#10;Color: (123, 234, 123)\" style=\"width: 20px; height: 20px;background-color: rgb(123, 234, 123);\"></td><td title=\"Index: [3, 2]&#10;Color: (123, 234, 123)\" style=\"width: 20px; height: 20px;background-color: rgb(123, 234, 123);\"></td><td title=\"Index: [3, 3]&#10;Color: (123, 234, 123)\" style=\"width: 20px; height: 20px;background-color: rgb(123, 234, 123);\"></td><td title=\"Index: [3, 4]&#10;Color: (123, 234, 123)\" style=\"width: 20px; height: 20px;background-color: rgb(123, 234, 123);\"></td><td title=\"Index: [3, 5]&#10;Color: (123, 234, 123)\" style=\"width: 20px; height: 20px;background-color: rgb(123, 234, 123);\"></td><td title=\"Index: [3, 6]&#10;Color: (123, 234, 123)\" style=\"width: 20px; height: 20px;background-color: rgb(123, 234, 123);\"></td><td title=\"Index: [3, 7]&#10;Color: (123, 234, 123)\" style=\"width: 20px; height: 20px;background-color: rgb(123, 234, 123);\"></td></tr><tr><td title=\"Index: [4, 0]&#10;Color: (0, 0, 0)\" style=\"width: 20px; height: 20px;background-color: rgb(0, 0, 0);\"></td><td title=\"Index: [4, 1]&#10;Color: (123, 234, 123)\" style=\"width: 20px; height: 20px;background-color: rgb(123, 234, 123);\"></td><td title=\"Index: [4, 2]&#10;Color: (123, 234, 123)\" style=\"width: 20px; height: 20px;background-color: rgb(123, 234, 123);\"></td><td title=\"Index: [4, 3]&#10;Color: (0, 0, 0)\" style=\"width: 20px; height: 20px;background-color: rgb(0, 0, 0);\"></td><td title=\"Index: [4, 4]&#10;Color: (123, 234, 123)\" style=\"width: 20px; height: 20px;background-color: rgb(123, 234, 123);\"></td><td title=\"Index: [4, 5]&#10;Color: (123, 234, 123)\" style=\"width: 20px; height: 20px;background-color: rgb(123, 234, 123);\"></td><td title=\"Index: [4, 6]&#10;Color: (0, 0, 0)\" style=\"width: 20px; height: 20px;background-color: rgb(0, 0, 0);\"></td><td title=\"Index: [4, 7]&#10;Color: (123, 234, 123)\" style=\"width: 20px; height: 20px;background-color: rgb(123, 234, 123);\"></td></tr><tr><td title=\"Index: [5, 0]&#10;Color: (123, 234, 123)\" style=\"width: 20px; height: 20px;background-color: rgb(123, 234, 123);\"></td><td title=\"Index: [5, 1]&#10;Color: (123, 234, 123)\" style=\"width: 20px; height: 20px;background-color: rgb(123, 234, 123);\"></td><td title=\"Index: [5, 2]&#10;Color: (123, 234, 123)\" style=\"width: 20px; height: 20px;background-color: rgb(123, 234, 123);\"></td><td title=\"Index: [5, 3]&#10;Color: (123, 234, 123)\" style=\"width: 20px; height: 20px;background-color: rgb(123, 234, 123);\"></td><td title=\"Index: [5, 4]&#10;Color: (123, 234, 123)\" style=\"width: 20px; height: 20px;background-color: rgb(123, 234, 123);\"></td><td title=\"Index: [5, 5]&#10;Color: (123, 234, 123)\" style=\"width: 20px; height: 20px;background-color: rgb(123, 234, 123);\"></td><td title=\"Index: [5, 6]&#10;Color: (123, 234, 123)\" style=\"width: 20px; height: 20px;background-color: rgb(123, 234, 123);\"></td><td title=\"Index: [5, 7]&#10;Color: (123, 234, 123)\" style=\"width: 20px; height: 20px;background-color: rgb(123, 234, 123);\"></td></tr><tr><td title=\"Index: [6, 0]&#10;Color: (0, 0, 0)\" style=\"width: 20px; height: 20px;background-color: rgb(0, 0, 0);\"></td><td title=\"Index: [6, 1]&#10;Color: (123, 234, 123)\" style=\"width: 20px; height: 20px;background-color: rgb(123, 234, 123);\"></td><td title=\"Index: [6, 2]&#10;Color: (123, 234, 123)\" style=\"width: 20px; height: 20px;background-color: rgb(123, 234, 123);\"></td><td title=\"Index: [6, 3]&#10;Color: (0, 0, 0)\" style=\"width: 20px; height: 20px;background-color: rgb(0, 0, 0);\"></td><td title=\"Index: [6, 4]&#10;Color: (123, 234, 123)\" style=\"width: 20px; height: 20px;background-color: rgb(123, 234, 123);\"></td><td title=\"Index: [6, 5]&#10;Color: (123, 234, 123)\" style=\"width: 20px; height: 20px;background-color: rgb(123, 234, 123);\"></td><td title=\"Index: [6, 6]&#10;Color: (0, 0, 0)\" style=\"width: 20px; height: 20px;background-color: rgb(0, 0, 0);\"></td><td title=\"Index: [6, 7]&#10;Color: (123, 234, 123)\" style=\"width: 20px; height: 20px;background-color: rgb(123, 234, 123);\"></td></tr><tr><td title=\"Index: [7, 0]&#10;Color: (123, 234, 123)\" style=\"width: 20px; height: 20px;background-color: rgb(123, 234, 123);\"></td><td title=\"Index: [7, 1]&#10;Color: (123, 234, 123)\" style=\"width: 20px; height: 20px;background-color: rgb(123, 234, 123);\"></td><td title=\"Index: [7, 2]&#10;Color: (123, 234, 123)\" style=\"width: 20px; height: 20px;background-color: rgb(123, 234, 123);\"></td><td title=\"Index: [7, 3]&#10;Color: (123, 234, 123)\" style=\"width: 20px; height: 20px;background-color: rgb(123, 234, 123);\"></td><td title=\"Index: [7, 4]&#10;Color: (123, 234, 123)\" style=\"width: 20px; height: 20px;background-color: rgb(123, 234, 123);\"></td><td title=\"Index: [7, 5]&#10;Color: (123, 234, 123)\" style=\"width: 20px; height: 20px;background-color: rgb(123, 234, 123);\"></td><td title=\"Index: [7, 6]&#10;Color: (123, 234, 123)\" style=\"width: 20px; height: 20px;background-color: rgb(123, 234, 123);\"></td><td title=\"Index: [7, 7]&#10;Color: (123, 234, 123)\" style=\"width: 20px; height: 20px;background-color: rgb(123, 234, 123);\"></td></tr></tbody></table>"
       ],
       "metadata": {},
       "output_type": "pyout",
       "prompt_number": 5,
       "text": [
        "<ipythonblocks.ipythonblocks.BlockGrid at 0x3853f60>"
       ]
      }
     ],
     "prompt_number": 5
    },
    {
     "cell_type": "code",
     "collapsed": false,
     "input": [
      "for row in range(grid.height):\n",
      "    for col in range(grid.width):\n",
      "        square =grid[row,col]\n",
      "        square.red = 100\n",
      "        \n",
      "        if row%2==0:\n",
      "            square.green=15\n",
      "        else:\n",
      "            square.green=255\n",
      "        if col%2==0:\n",
      "            square.blue =15\n",
      "        else:\n",
      "            square.blue=255\n",
      "            \n",
      "grid"
     ],
     "language": "python",
     "metadata": {},
     "outputs": [
      {
       "html": [
        "<style type=\"text/css\">table.blockgrid {border: none;} .blockgrid tr {border: none;} .blockgrid td {padding: 0px;} #blocks73bd59c3-6b86-4291-87a8-9978afe12830 td {border: 1px solid white;}</style><table id=\"blocks73bd59c3-6b86-4291-87a8-9978afe12830\" class=\"blockgrid\"><tbody><tr><td title=\"Index: [0, 0]&#10;Color: (100, 15, 15)\" style=\"width: 20px; height: 20px;background-color: rgb(100, 15, 15);\"></td><td title=\"Index: [0, 1]&#10;Color: (100, 15, 255)\" style=\"width: 20px; height: 20px;background-color: rgb(100, 15, 255);\"></td><td title=\"Index: [0, 2]&#10;Color: (100, 15, 15)\" style=\"width: 20px; height: 20px;background-color: rgb(100, 15, 15);\"></td><td title=\"Index: [0, 3]&#10;Color: (100, 15, 255)\" style=\"width: 20px; height: 20px;background-color: rgb(100, 15, 255);\"></td><td title=\"Index: [0, 4]&#10;Color: (100, 15, 15)\" style=\"width: 20px; height: 20px;background-color: rgb(100, 15, 15);\"></td><td title=\"Index: [0, 5]&#10;Color: (100, 15, 255)\" style=\"width: 20px; height: 20px;background-color: rgb(100, 15, 255);\"></td><td title=\"Index: [0, 6]&#10;Color: (100, 15, 15)\" style=\"width: 20px; height: 20px;background-color: rgb(100, 15, 15);\"></td><td title=\"Index: [0, 7]&#10;Color: (100, 15, 255)\" style=\"width: 20px; height: 20px;background-color: rgb(100, 15, 255);\"></td></tr><tr><td title=\"Index: [1, 0]&#10;Color: (100, 255, 15)\" style=\"width: 20px; height: 20px;background-color: rgb(100, 255, 15);\"></td><td title=\"Index: [1, 1]&#10;Color: (100, 255, 255)\" style=\"width: 20px; height: 20px;background-color: rgb(100, 255, 255);\"></td><td title=\"Index: [1, 2]&#10;Color: (100, 255, 15)\" style=\"width: 20px; height: 20px;background-color: rgb(100, 255, 15);\"></td><td title=\"Index: [1, 3]&#10;Color: (100, 255, 255)\" style=\"width: 20px; height: 20px;background-color: rgb(100, 255, 255);\"></td><td title=\"Index: [1, 4]&#10;Color: (100, 255, 15)\" style=\"width: 20px; height: 20px;background-color: rgb(100, 255, 15);\"></td><td title=\"Index: [1, 5]&#10;Color: (100, 255, 255)\" style=\"width: 20px; height: 20px;background-color: rgb(100, 255, 255);\"></td><td title=\"Index: [1, 6]&#10;Color: (100, 255, 15)\" style=\"width: 20px; height: 20px;background-color: rgb(100, 255, 15);\"></td><td title=\"Index: [1, 7]&#10;Color: (100, 255, 255)\" style=\"width: 20px; height: 20px;background-color: rgb(100, 255, 255);\"></td></tr><tr><td title=\"Index: [2, 0]&#10;Color: (100, 15, 15)\" style=\"width: 20px; height: 20px;background-color: rgb(100, 15, 15);\"></td><td title=\"Index: [2, 1]&#10;Color: (100, 15, 255)\" style=\"width: 20px; height: 20px;background-color: rgb(100, 15, 255);\"></td><td title=\"Index: [2, 2]&#10;Color: (100, 15, 15)\" style=\"width: 20px; height: 20px;background-color: rgb(100, 15, 15);\"></td><td title=\"Index: [2, 3]&#10;Color: (100, 15, 255)\" style=\"width: 20px; height: 20px;background-color: rgb(100, 15, 255);\"></td><td title=\"Index: [2, 4]&#10;Color: (100, 15, 15)\" style=\"width: 20px; height: 20px;background-color: rgb(100, 15, 15);\"></td><td title=\"Index: [2, 5]&#10;Color: (100, 15, 255)\" style=\"width: 20px; height: 20px;background-color: rgb(100, 15, 255);\"></td><td title=\"Index: [2, 6]&#10;Color: (100, 15, 15)\" style=\"width: 20px; height: 20px;background-color: rgb(100, 15, 15);\"></td><td title=\"Index: [2, 7]&#10;Color: (100, 15, 255)\" style=\"width: 20px; height: 20px;background-color: rgb(100, 15, 255);\"></td></tr><tr><td title=\"Index: [3, 0]&#10;Color: (100, 255, 15)\" style=\"width: 20px; height: 20px;background-color: rgb(100, 255, 15);\"></td><td title=\"Index: [3, 1]&#10;Color: (100, 255, 255)\" style=\"width: 20px; height: 20px;background-color: rgb(100, 255, 255);\"></td><td title=\"Index: [3, 2]&#10;Color: (100, 255, 15)\" style=\"width: 20px; height: 20px;background-color: rgb(100, 255, 15);\"></td><td title=\"Index: [3, 3]&#10;Color: (100, 255, 255)\" style=\"width: 20px; height: 20px;background-color: rgb(100, 255, 255);\"></td><td title=\"Index: [3, 4]&#10;Color: (100, 255, 15)\" style=\"width: 20px; height: 20px;background-color: rgb(100, 255, 15);\"></td><td title=\"Index: [3, 5]&#10;Color: (100, 255, 255)\" style=\"width: 20px; height: 20px;background-color: rgb(100, 255, 255);\"></td><td title=\"Index: [3, 6]&#10;Color: (100, 255, 15)\" style=\"width: 20px; height: 20px;background-color: rgb(100, 255, 15);\"></td><td title=\"Index: [3, 7]&#10;Color: (100, 255, 255)\" style=\"width: 20px; height: 20px;background-color: rgb(100, 255, 255);\"></td></tr><tr><td title=\"Index: [4, 0]&#10;Color: (100, 15, 15)\" style=\"width: 20px; height: 20px;background-color: rgb(100, 15, 15);\"></td><td title=\"Index: [4, 1]&#10;Color: (100, 15, 255)\" style=\"width: 20px; height: 20px;background-color: rgb(100, 15, 255);\"></td><td title=\"Index: [4, 2]&#10;Color: (100, 15, 15)\" style=\"width: 20px; height: 20px;background-color: rgb(100, 15, 15);\"></td><td title=\"Index: [4, 3]&#10;Color: (100, 15, 255)\" style=\"width: 20px; height: 20px;background-color: rgb(100, 15, 255);\"></td><td title=\"Index: [4, 4]&#10;Color: (100, 15, 15)\" style=\"width: 20px; height: 20px;background-color: rgb(100, 15, 15);\"></td><td title=\"Index: [4, 5]&#10;Color: (100, 15, 255)\" style=\"width: 20px; height: 20px;background-color: rgb(100, 15, 255);\"></td><td title=\"Index: [4, 6]&#10;Color: (100, 15, 15)\" style=\"width: 20px; height: 20px;background-color: rgb(100, 15, 15);\"></td><td title=\"Index: [4, 7]&#10;Color: (100, 15, 255)\" style=\"width: 20px; height: 20px;background-color: rgb(100, 15, 255);\"></td></tr><tr><td title=\"Index: [5, 0]&#10;Color: (100, 255, 15)\" style=\"width: 20px; height: 20px;background-color: rgb(100, 255, 15);\"></td><td title=\"Index: [5, 1]&#10;Color: (100, 255, 255)\" style=\"width: 20px; height: 20px;background-color: rgb(100, 255, 255);\"></td><td title=\"Index: [5, 2]&#10;Color: (100, 255, 15)\" style=\"width: 20px; height: 20px;background-color: rgb(100, 255, 15);\"></td><td title=\"Index: [5, 3]&#10;Color: (100, 255, 255)\" style=\"width: 20px; height: 20px;background-color: rgb(100, 255, 255);\"></td><td title=\"Index: [5, 4]&#10;Color: (100, 255, 15)\" style=\"width: 20px; height: 20px;background-color: rgb(100, 255, 15);\"></td><td title=\"Index: [5, 5]&#10;Color: (100, 255, 255)\" style=\"width: 20px; height: 20px;background-color: rgb(100, 255, 255);\"></td><td title=\"Index: [5, 6]&#10;Color: (100, 255, 15)\" style=\"width: 20px; height: 20px;background-color: rgb(100, 255, 15);\"></td><td title=\"Index: [5, 7]&#10;Color: (100, 255, 255)\" style=\"width: 20px; height: 20px;background-color: rgb(100, 255, 255);\"></td></tr><tr><td title=\"Index: [6, 0]&#10;Color: (100, 15, 15)\" style=\"width: 20px; height: 20px;background-color: rgb(100, 15, 15);\"></td><td title=\"Index: [6, 1]&#10;Color: (100, 15, 255)\" style=\"width: 20px; height: 20px;background-color: rgb(100, 15, 255);\"></td><td title=\"Index: [6, 2]&#10;Color: (100, 15, 15)\" style=\"width: 20px; height: 20px;background-color: rgb(100, 15, 15);\"></td><td title=\"Index: [6, 3]&#10;Color: (100, 15, 255)\" style=\"width: 20px; height: 20px;background-color: rgb(100, 15, 255);\"></td><td title=\"Index: [6, 4]&#10;Color: (100, 15, 15)\" style=\"width: 20px; height: 20px;background-color: rgb(100, 15, 15);\"></td><td title=\"Index: [6, 5]&#10;Color: (100, 15, 255)\" style=\"width: 20px; height: 20px;background-color: rgb(100, 15, 255);\"></td><td title=\"Index: [6, 6]&#10;Color: (100, 15, 15)\" style=\"width: 20px; height: 20px;background-color: rgb(100, 15, 15);\"></td><td title=\"Index: [6, 7]&#10;Color: (100, 15, 255)\" style=\"width: 20px; height: 20px;background-color: rgb(100, 15, 255);\"></td></tr><tr><td title=\"Index: [7, 0]&#10;Color: (100, 255, 15)\" style=\"width: 20px; height: 20px;background-color: rgb(100, 255, 15);\"></td><td title=\"Index: [7, 1]&#10;Color: (100, 255, 255)\" style=\"width: 20px; height: 20px;background-color: rgb(100, 255, 255);\"></td><td title=\"Index: [7, 2]&#10;Color: (100, 255, 15)\" style=\"width: 20px; height: 20px;background-color: rgb(100, 255, 15);\"></td><td title=\"Index: [7, 3]&#10;Color: (100, 255, 255)\" style=\"width: 20px; height: 20px;background-color: rgb(100, 255, 255);\"></td><td title=\"Index: [7, 4]&#10;Color: (100, 255, 15)\" style=\"width: 20px; height: 20px;background-color: rgb(100, 255, 15);\"></td><td title=\"Index: [7, 5]&#10;Color: (100, 255, 255)\" style=\"width: 20px; height: 20px;background-color: rgb(100, 255, 255);\"></td><td title=\"Index: [7, 6]&#10;Color: (100, 255, 15)\" style=\"width: 20px; height: 20px;background-color: rgb(100, 255, 15);\"></td><td title=\"Index: [7, 7]&#10;Color: (100, 255, 255)\" style=\"width: 20px; height: 20px;background-color: rgb(100, 255, 255);\"></td></tr></tbody></table>"
       ],
       "metadata": {},
       "output_type": "pyout",
       "prompt_number": 6,
       "text": [
        "<ipythonblocks.ipythonblocks.BlockGrid at 0x3853f60>"
       ]
      }
     ],
     "prompt_number": 6
    },
    {
     "cell_type": "code",
     "collapsed": false,
     "input": [
      "from ipythonblocks import colors\n",
      "colors"
     ],
     "language": "python",
     "metadata": {},
     "outputs": [
      {
       "metadata": {},
       "output_type": "pyout",
       "prompt_number": 7,
       "text": [
        "{'AliceBlue': (240, 248, 255),\n",
        " 'AntiqueWhite': (250, 235, 215),\n",
        " 'Aqua': (0, 255, 255),\n",
        " 'Aquamarine': (127, 255, 212),\n",
        " 'Azure': (240, 255, 255),\n",
        " 'Beige': (245, 245, 220),\n",
        " 'Bisque': (255, 228, 196),\n",
        " 'Black': (0, 0, 0),\n",
        " 'BlanchedAlmond': (255, 235, 205),\n",
        " 'Blue': (0, 0, 255),\n",
        " 'BlueViolet': (138, 43, 226),\n",
        " 'Brown': (165, 42, 42),\n",
        " 'BurlyWood': (222, 184, 135),\n",
        " 'CadetBlue': (95, 158, 160),\n",
        " 'Chartreuse': (127, 255, 0),\n",
        " 'Chocolate': (210, 105, 30),\n",
        " 'Coral': (255, 127, 80),\n",
        " 'CornflowerBlue': (100, 149, 237),\n",
        " 'Cornsilk': (255, 248, 220),\n",
        " 'Crimson': (220, 20, 60),\n",
        " 'Cyan': (0, 255, 255),\n",
        " 'DarkBlue': (0, 0, 139),\n",
        " 'DarkCyan': (0, 139, 139),\n",
        " 'DarkGoldenrod': (184, 134, 11),\n",
        " 'DarkGray': (169, 169, 169),\n",
        " 'DarkGreen': (0, 100, 0),\n",
        " 'DarkKhaki': (189, 183, 107),\n",
        " 'DarkMagenta': (139, 0, 139),\n",
        " 'DarkOliveGreen': (85, 107, 47),\n",
        " 'DarkOrange': (255, 140, 0),\n",
        " 'DarkOrchid': (153, 50, 204),\n",
        " 'DarkRed': (139, 0, 0),\n",
        " 'DarkSalmon': (233, 150, 122),\n",
        " 'DarkSeaGreen': (143, 188, 143),\n",
        " 'DarkSlateBlue': (72, 61, 139),\n",
        " 'DarkSlateGray': (47, 79, 79),\n",
        " 'DarkTurquoise': (0, 206, 209),\n",
        " 'DarkViolet': (148, 0, 211),\n",
        " 'DeepPink': (255, 20, 147),\n",
        " 'DeepSkyBlue': (0, 191, 255),\n",
        " 'DimGray': (105, 105, 105),\n",
        " 'DodgerBlue': (30, 144, 255),\n",
        " 'FireBrick': (178, 34, 34),\n",
        " 'FloralWhite': (255, 250, 240),\n",
        " 'ForestGreen': (34, 139, 34),\n",
        " 'Fuchsia': (255, 0, 255),\n",
        " 'Gainsboro': (220, 220, 220),\n",
        " 'GhostWhite': (248, 248, 255),\n",
        " 'Gold': (255, 215, 0),\n",
        " 'Goldenrod': (218, 165, 32),\n",
        " 'Gray': (128, 128, 128),\n",
        " 'Green': (0, 128, 0),\n",
        " 'GreenYellow': (173, 255, 47),\n",
        " 'Honeydew': (240, 255, 240),\n",
        " 'HotPink': (255, 105, 180),\n",
        " 'IndianRed': (205, 92, 92),\n",
        " 'Indigo': (75, 0, 130),\n",
        " 'Ivory': (255, 255, 240),\n",
        " 'Khaki': (240, 230, 140),\n",
        " 'Lavender': (230, 230, 250),\n",
        " 'LavenderBlush': (255, 240, 245),\n",
        " 'LawnGreen': (124, 252, 0),\n",
        " 'LemonChiffon': (255, 250, 205),\n",
        " 'LightBlue': (173, 216, 230),\n",
        " 'LightCoral': (240, 128, 128),\n",
        " 'LightCyan': (224, 255, 255),\n",
        " 'LightGoldenrodYellow': (250, 250, 210),\n",
        " 'LightGray': (211, 211, 211),\n",
        " 'LightGreen': (144, 238, 144),\n",
        " 'LightPink': (255, 182, 193),\n",
        " 'LightSalmon': (255, 160, 122),\n",
        " 'LightSeaGreen': (32, 178, 170),\n",
        " 'LightSkyBlue': (135, 206, 250),\n",
        " 'LightSlateGray': (119, 136, 153),\n",
        " 'LightSteelBlue': (176, 196, 222),\n",
        " 'LightYellow': (255, 255, 224),\n",
        " 'Lime': (0, 255, 0),\n",
        " 'LimeGreen': (50, 205, 50),\n",
        " 'Linen': (250, 240, 230),\n",
        " 'Magenta': (255, 0, 255),\n",
        " 'Maroon': (128, 0, 0),\n",
        " 'MediumAquamarine': (102, 205, 170),\n",
        " 'MediumBlue': (0, 0, 205),\n",
        " 'MediumOrchid': (186, 85, 211),\n",
        " 'MediumPurple': (147, 112, 219),\n",
        " 'MediumSeaGreen': (60, 179, 113),\n",
        " 'MediumSlateBlue': (123, 104, 238),\n",
        " 'MediumSpringGreen': (0, 250, 154),\n",
        " 'MediumTurquoise': (72, 209, 204),\n",
        " 'MediumVioletRed': (199, 21, 133),\n",
        " 'MidnightBlue': (25, 25, 112),\n",
        " 'MintCream': (245, 255, 250),\n",
        " 'MistyRose': (255, 228, 225),\n",
        " 'Moccasin': (255, 228, 181),\n",
        " 'NavajoWhite': (255, 222, 173),\n",
        " 'Navy': (0, 0, 128),\n",
        " 'OldLace': (253, 245, 230),\n",
        " 'Olive': (128, 128, 0),\n",
        " 'OliveDrab': (107, 142, 35),\n",
        " 'Orange': (255, 165, 0),\n",
        " 'OrangeRed': (255, 69, 0),\n",
        " 'Orchid': (218, 112, 214),\n",
        " 'PaleGoldenrod': (238, 232, 170),\n",
        " 'PaleGreen': (152, 251, 152),\n",
        " 'PaleTurquoise': (175, 238, 238),\n",
        " 'PaleVioletRed': (219, 112, 147),\n",
        " 'PapayaWhip': (255, 239, 213),\n",
        " 'PeachPuff': (255, 218, 185),\n",
        " 'Peru': (205, 133, 63),\n",
        " 'Pink': (255, 192, 203),\n",
        " 'Plum': (221, 160, 221),\n",
        " 'PowderBlue': (176, 224, 230),\n",
        " 'Purple': (128, 0, 128),\n",
        " 'Red': (255, 0, 0),\n",
        " 'RosyBrown': (188, 143, 143),\n",
        " 'RoyalBlue': (65, 105, 225),\n",
        " 'SaddleBrown': (139, 69, 19),\n",
        " 'Salmon': (250, 128, 114),\n",
        " 'SandyBrown': (244, 164, 96),\n",
        " 'SeaGreen': (46, 139, 87),\n",
        " 'Seashell': (255, 245, 238),\n",
        " 'Sienna': (160, 82, 45),\n",
        " 'Silver': (192, 192, 192),\n",
        " 'SkyBlue': (135, 206, 235),\n",
        " 'SlateBlue': (106, 90, 205),\n",
        " 'SlateGray': (112, 128, 144),\n",
        " 'Snow': (255, 250, 250),\n",
        " 'SpringGreen': (0, 255, 127),\n",
        " 'SteelBlue': (70, 130, 180),\n",
        " 'Tan': (210, 180, 140),\n",
        " 'Teal': (0, 128, 128),\n",
        " 'Thistle': (216, 191, 216),\n",
        " 'Tomato': (255, 99, 71),\n",
        " 'Turquoise': (64, 224, 208),\n",
        " 'Violet': (238, 130, 238),\n",
        " 'Wheat': (245, 222, 179),\n",
        " 'White': (255, 255, 255),\n",
        " 'WhiteSmoke': (245, 245, 245),\n",
        " 'Yellow': (255, 255, 0),\n",
        " 'YellowGreen': (154, 205, 50)}"
       ]
      }
     ],
     "prompt_number": 7
    },
    {
     "cell_type": "code",
     "collapsed": false,
     "input": [
      "grid [1,1] = colors['Teal']\n",
      "grid [1,2] = colors['Thistle']\n",
      "grid [1,3] = colors ['Peru']\n",
      "grid"
     ],
     "language": "python",
     "metadata": {},
     "outputs": [
      {
       "html": [
        "<style type=\"text/css\">table.blockgrid {border: none;} .blockgrid tr {border: none;} .blockgrid td {padding: 0px;} #blocks06e3d773-e8f7-4d9f-9b90-6f9a53965fcf td {border: 1px solid white;}</style><table id=\"blocks06e3d773-e8f7-4d9f-9b90-6f9a53965fcf\" class=\"blockgrid\"><tbody><tr><td title=\"Index: [0, 0]&#10;Color: (100, 15, 15)\" style=\"width: 20px; height: 20px;background-color: rgb(100, 15, 15);\"></td><td title=\"Index: [0, 1]&#10;Color: (100, 15, 255)\" style=\"width: 20px; height: 20px;background-color: rgb(100, 15, 255);\"></td><td title=\"Index: [0, 2]&#10;Color: (100, 15, 15)\" style=\"width: 20px; height: 20px;background-color: rgb(100, 15, 15);\"></td><td title=\"Index: [0, 3]&#10;Color: (100, 15, 255)\" style=\"width: 20px; height: 20px;background-color: rgb(100, 15, 255);\"></td><td title=\"Index: [0, 4]&#10;Color: (100, 15, 15)\" style=\"width: 20px; height: 20px;background-color: rgb(100, 15, 15);\"></td><td title=\"Index: [0, 5]&#10;Color: (100, 15, 255)\" style=\"width: 20px; height: 20px;background-color: rgb(100, 15, 255);\"></td><td title=\"Index: [0, 6]&#10;Color: (100, 15, 15)\" style=\"width: 20px; height: 20px;background-color: rgb(100, 15, 15);\"></td><td title=\"Index: [0, 7]&#10;Color: (100, 15, 255)\" style=\"width: 20px; height: 20px;background-color: rgb(100, 15, 255);\"></td></tr><tr><td title=\"Index: [1, 0]&#10;Color: (100, 255, 15)\" style=\"width: 20px; height: 20px;background-color: rgb(100, 255, 15);\"></td><td title=\"Index: [1, 1]&#10;Color: (0, 128, 128)\" style=\"width: 20px; height: 20px;background-color: rgb(0, 128, 128);\"></td><td title=\"Index: [1, 2]&#10;Color: (216, 191, 216)\" style=\"width: 20px; height: 20px;background-color: rgb(216, 191, 216);\"></td><td title=\"Index: [1, 3]&#10;Color: (205, 133, 63)\" style=\"width: 20px; height: 20px;background-color: rgb(205, 133, 63);\"></td><td title=\"Index: [1, 4]&#10;Color: (100, 255, 15)\" style=\"width: 20px; height: 20px;background-color: rgb(100, 255, 15);\"></td><td title=\"Index: [1, 5]&#10;Color: (100, 255, 255)\" style=\"width: 20px; height: 20px;background-color: rgb(100, 255, 255);\"></td><td title=\"Index: [1, 6]&#10;Color: (100, 255, 15)\" style=\"width: 20px; height: 20px;background-color: rgb(100, 255, 15);\"></td><td title=\"Index: [1, 7]&#10;Color: (100, 255, 255)\" style=\"width: 20px; height: 20px;background-color: rgb(100, 255, 255);\"></td></tr><tr><td title=\"Index: [2, 0]&#10;Color: (100, 15, 15)\" style=\"width: 20px; height: 20px;background-color: rgb(100, 15, 15);\"></td><td title=\"Index: [2, 1]&#10;Color: (100, 15, 255)\" style=\"width: 20px; height: 20px;background-color: rgb(100, 15, 255);\"></td><td title=\"Index: [2, 2]&#10;Color: (100, 15, 15)\" style=\"width: 20px; height: 20px;background-color: rgb(100, 15, 15);\"></td><td title=\"Index: [2, 3]&#10;Color: (100, 15, 255)\" style=\"width: 20px; height: 20px;background-color: rgb(100, 15, 255);\"></td><td title=\"Index: [2, 4]&#10;Color: (100, 15, 15)\" style=\"width: 20px; height: 20px;background-color: rgb(100, 15, 15);\"></td><td title=\"Index: [2, 5]&#10;Color: (100, 15, 255)\" style=\"width: 20px; height: 20px;background-color: rgb(100, 15, 255);\"></td><td title=\"Index: [2, 6]&#10;Color: (100, 15, 15)\" style=\"width: 20px; height: 20px;background-color: rgb(100, 15, 15);\"></td><td title=\"Index: [2, 7]&#10;Color: (100, 15, 255)\" style=\"width: 20px; height: 20px;background-color: rgb(100, 15, 255);\"></td></tr><tr><td title=\"Index: [3, 0]&#10;Color: (100, 255, 15)\" style=\"width: 20px; height: 20px;background-color: rgb(100, 255, 15);\"></td><td title=\"Index: [3, 1]&#10;Color: (100, 255, 255)\" style=\"width: 20px; height: 20px;background-color: rgb(100, 255, 255);\"></td><td title=\"Index: [3, 2]&#10;Color: (100, 255, 15)\" style=\"width: 20px; height: 20px;background-color: rgb(100, 255, 15);\"></td><td title=\"Index: [3, 3]&#10;Color: (100, 255, 255)\" style=\"width: 20px; height: 20px;background-color: rgb(100, 255, 255);\"></td><td title=\"Index: [3, 4]&#10;Color: (100, 255, 15)\" style=\"width: 20px; height: 20px;background-color: rgb(100, 255, 15);\"></td><td title=\"Index: [3, 5]&#10;Color: (100, 255, 255)\" style=\"width: 20px; height: 20px;background-color: rgb(100, 255, 255);\"></td><td title=\"Index: [3, 6]&#10;Color: (100, 255, 15)\" style=\"width: 20px; height: 20px;background-color: rgb(100, 255, 15);\"></td><td title=\"Index: [3, 7]&#10;Color: (100, 255, 255)\" style=\"width: 20px; height: 20px;background-color: rgb(100, 255, 255);\"></td></tr><tr><td title=\"Index: [4, 0]&#10;Color: (100, 15, 15)\" style=\"width: 20px; height: 20px;background-color: rgb(100, 15, 15);\"></td><td title=\"Index: [4, 1]&#10;Color: (100, 15, 255)\" style=\"width: 20px; height: 20px;background-color: rgb(100, 15, 255);\"></td><td title=\"Index: [4, 2]&#10;Color: (100, 15, 15)\" style=\"width: 20px; height: 20px;background-color: rgb(100, 15, 15);\"></td><td title=\"Index: [4, 3]&#10;Color: (100, 15, 255)\" style=\"width: 20px; height: 20px;background-color: rgb(100, 15, 255);\"></td><td title=\"Index: [4, 4]&#10;Color: (100, 15, 15)\" style=\"width: 20px; height: 20px;background-color: rgb(100, 15, 15);\"></td><td title=\"Index: [4, 5]&#10;Color: (100, 15, 255)\" style=\"width: 20px; height: 20px;background-color: rgb(100, 15, 255);\"></td><td title=\"Index: [4, 6]&#10;Color: (100, 15, 15)\" style=\"width: 20px; height: 20px;background-color: rgb(100, 15, 15);\"></td><td title=\"Index: [4, 7]&#10;Color: (100, 15, 255)\" style=\"width: 20px; height: 20px;background-color: rgb(100, 15, 255);\"></td></tr><tr><td title=\"Index: [5, 0]&#10;Color: (100, 255, 15)\" style=\"width: 20px; height: 20px;background-color: rgb(100, 255, 15);\"></td><td title=\"Index: [5, 1]&#10;Color: (100, 255, 255)\" style=\"width: 20px; height: 20px;background-color: rgb(100, 255, 255);\"></td><td title=\"Index: [5, 2]&#10;Color: (100, 255, 15)\" style=\"width: 20px; height: 20px;background-color: rgb(100, 255, 15);\"></td><td title=\"Index: [5, 3]&#10;Color: (100, 255, 255)\" style=\"width: 20px; height: 20px;background-color: rgb(100, 255, 255);\"></td><td title=\"Index: [5, 4]&#10;Color: (100, 255, 15)\" style=\"width: 20px; height: 20px;background-color: rgb(100, 255, 15);\"></td><td title=\"Index: [5, 5]&#10;Color: (100, 255, 255)\" style=\"width: 20px; height: 20px;background-color: rgb(100, 255, 255);\"></td><td title=\"Index: [5, 6]&#10;Color: (100, 255, 15)\" style=\"width: 20px; height: 20px;background-color: rgb(100, 255, 15);\"></td><td title=\"Index: [5, 7]&#10;Color: (100, 255, 255)\" style=\"width: 20px; height: 20px;background-color: rgb(100, 255, 255);\"></td></tr><tr><td title=\"Index: [6, 0]&#10;Color: (100, 15, 15)\" style=\"width: 20px; height: 20px;background-color: rgb(100, 15, 15);\"></td><td title=\"Index: [6, 1]&#10;Color: (100, 15, 255)\" style=\"width: 20px; height: 20px;background-color: rgb(100, 15, 255);\"></td><td title=\"Index: [6, 2]&#10;Color: (100, 15, 15)\" style=\"width: 20px; height: 20px;background-color: rgb(100, 15, 15);\"></td><td title=\"Index: [6, 3]&#10;Color: (100, 15, 255)\" style=\"width: 20px; height: 20px;background-color: rgb(100, 15, 255);\"></td><td title=\"Index: [6, 4]&#10;Color: (100, 15, 15)\" style=\"width: 20px; height: 20px;background-color: rgb(100, 15, 15);\"></td><td title=\"Index: [6, 5]&#10;Color: (100, 15, 255)\" style=\"width: 20px; height: 20px;background-color: rgb(100, 15, 255);\"></td><td title=\"Index: [6, 6]&#10;Color: (100, 15, 15)\" style=\"width: 20px; height: 20px;background-color: rgb(100, 15, 15);\"></td><td title=\"Index: [6, 7]&#10;Color: (100, 15, 255)\" style=\"width: 20px; height: 20px;background-color: rgb(100, 15, 255);\"></td></tr><tr><td title=\"Index: [7, 0]&#10;Color: (100, 255, 15)\" style=\"width: 20px; height: 20px;background-color: rgb(100, 255, 15);\"></td><td title=\"Index: [7, 1]&#10;Color: (100, 255, 255)\" style=\"width: 20px; height: 20px;background-color: rgb(100, 255, 255);\"></td><td title=\"Index: [7, 2]&#10;Color: (100, 255, 15)\" style=\"width: 20px; height: 20px;background-color: rgb(100, 255, 15);\"></td><td title=\"Index: [7, 3]&#10;Color: (100, 255, 255)\" style=\"width: 20px; height: 20px;background-color: rgb(100, 255, 255);\"></td><td title=\"Index: [7, 4]&#10;Color: (100, 255, 15)\" style=\"width: 20px; height: 20px;background-color: rgb(100, 255, 15);\"></td><td title=\"Index: [7, 5]&#10;Color: (100, 255, 255)\" style=\"width: 20px; height: 20px;background-color: rgb(100, 255, 255);\"></td><td title=\"Index: [7, 6]&#10;Color: (100, 255, 15)\" style=\"width: 20px; height: 20px;background-color: rgb(100, 255, 15);\"></td><td title=\"Index: [7, 7]&#10;Color: (100, 255, 255)\" style=\"width: 20px; height: 20px;background-color: rgb(100, 255, 255);\"></td></tr></tbody></table>"
       ],
       "metadata": {},
       "output_type": "pyout",
       "prompt_number": 8,
       "text": [
        "<ipythonblocks.ipythonblocks.BlockGrid at 0x3853f60>"
       ]
      }
     ],
     "prompt_number": 8
    },
    {
     "cell_type": "code",
     "collapsed": false,
     "input": [
      "subgrid = grid[:,3]\n",
      "#Takes all rows from column 3\n",
      "subgrid"
     ],
     "language": "python",
     "metadata": {},
     "outputs": [
      {
       "html": [
        "<style type=\"text/css\">table.blockgrid {border: none;} .blockgrid tr {border: none;} .blockgrid td {padding: 0px;} #blocks105425e3-3e02-447e-b3f1-95f7be98d010 td {border: 1px solid white;}</style><table id=\"blocks105425e3-3e02-447e-b3f1-95f7be98d010\" class=\"blockgrid\"><tbody><tr><td title=\"Index: [0, 0]&#10;Color: (100, 15, 255)\" style=\"width: 20px; height: 20px;background-color: rgb(100, 15, 255);\"></td></tr><tr><td title=\"Index: [1, 0]&#10;Color: (205, 133, 63)\" style=\"width: 20px; height: 20px;background-color: rgb(205, 133, 63);\"></td></tr><tr><td title=\"Index: [2, 0]&#10;Color: (100, 15, 255)\" style=\"width: 20px; height: 20px;background-color: rgb(100, 15, 255);\"></td></tr><tr><td title=\"Index: [3, 0]&#10;Color: (100, 255, 255)\" style=\"width: 20px; height: 20px;background-color: rgb(100, 255, 255);\"></td></tr><tr><td title=\"Index: [4, 0]&#10;Color: (100, 15, 255)\" style=\"width: 20px; height: 20px;background-color: rgb(100, 15, 255);\"></td></tr><tr><td title=\"Index: [5, 0]&#10;Color: (100, 255, 255)\" style=\"width: 20px; height: 20px;background-color: rgb(100, 255, 255);\"></td></tr><tr><td title=\"Index: [6, 0]&#10;Color: (100, 15, 255)\" style=\"width: 20px; height: 20px;background-color: rgb(100, 15, 255);\"></td></tr><tr><td title=\"Index: [7, 0]&#10;Color: (100, 255, 255)\" style=\"width: 20px; height: 20px;background-color: rgb(100, 255, 255);\"></td></tr></tbody></table>"
       ],
       "metadata": {},
       "output_type": "pyout",
       "prompt_number": 9,
       "text": [
        "<ipythonblocks.ipythonblocks.BlockGrid at 0x385cfd0>"
       ]
      }
     ],
     "prompt_number": 9
    },
    {
     "cell_type": "code",
     "collapsed": false,
     "input": [
      "subgrid = grid[2:4,5:7]\n",
      "subgrid"
     ],
     "language": "python",
     "metadata": {},
     "outputs": [
      {
       "html": [
        "<style type=\"text/css\">table.blockgrid {border: none;} .blockgrid tr {border: none;} .blockgrid td {padding: 0px;} #blocksbc7c7d4f-4c04-41b5-bba0-e5303d303726 td {border: 1px solid white;}</style><table id=\"blocksbc7c7d4f-4c04-41b5-bba0-e5303d303726\" class=\"blockgrid\"><tbody><tr><td title=\"Index: [0, 0]&#10;Color: (100, 15, 255)\" style=\"width: 20px; height: 20px;background-color: rgb(100, 15, 255);\"></td><td title=\"Index: [0, 1]&#10;Color: (100, 15, 15)\" style=\"width: 20px; height: 20px;background-color: rgb(100, 15, 15);\"></td></tr><tr><td title=\"Index: [1, 0]&#10;Color: (100, 255, 255)\" style=\"width: 20px; height: 20px;background-color: rgb(100, 255, 255);\"></td><td title=\"Index: [1, 1]&#10;Color: (100, 255, 15)\" style=\"width: 20px; height: 20px;background-color: rgb(100, 255, 15);\"></td></tr></tbody></table>"
       ],
       "metadata": {},
       "output_type": "pyout",
       "prompt_number": 10,
       "text": [
        "<ipythonblocks.ipythonblocks.BlockGrid at 0x38604a8>"
       ]
      }
     ],
     "prompt_number": 10
    },
    {
     "cell_type": "heading",
     "level": 2,
     "metadata": {},
     "source": [
      "PIRATE SHIP BATTLESHIP"
     ]
    },
    {
     "cell_type": "markdown",
     "metadata": {},
     "source": [
      "This is a game of battleship that allows players to play with various sized ships oriented either vertically or horizontally. \n",
      "Initial set up follows the prompts, requiring the player to first choose a direction (N, S, E, or W), and then they will be asked to pick a sailing ship that corresponds to size (1,2 or 3). \n",
      "\n",
      "Once the game has started, players are allowed to guess integers for both the row and column they think the ship may occupy. The playing field is defaulted to 10x10 and integer guesses allowed are 0-9. Guesses up to 99 are allowed, but the game will tell the player they are off track. Anything higher than 99 will crash the game. \n",
      "\n",
      "Players get a certain number of guesses depending on the size of the ship. Victory conditions are that all the squares of the ship be hit, otherwise it is game over. If the game reaches a non-victory end, it will reveal the location of the ship. "
     ]
    },
    {
     "cell_type": "code",
     "collapsed": false,
     "input": [
      "from random import randint\n",
      "from ipythonblocks import BlockGrid\n",
      "from ipythonblocks import colors\n",
      "\n",
      "grid = BlockGrid(10,10,fill=(135,206,235)) #The visible playing field\n",
      "positionmarker = BlockGrid(100,100,fill=(255,255,255)) #A background grid that tracks previously guessed coordinates and prevents runoff errors\n",
      "print \"Let's play Pirate Ship Battleship!\\n\" \n",
      "print \"Please use integers 0 through 9 as your guesses for the row and column.\\n\"\n",
      "wind = str(raw_input(\"Argh! Which way is the wind blowing, matey? N,E,S, or W?\\n\")) #Chooses between horizontal or vertical ships\n",
      "\n",
      "if wind == \"N\" or wind == \"n\" or wind == \"S\" or wind == \"s\": #This section details the code for vertical ships\n",
      "    print\n",
      "    print \"What sort of ship do you see off the starboard bow?\\n1)Frigate 2)Spanish Galleon 3)British Ship of the Line\" #Ths determines whether the ships are 1,2,or 3 squares long\n",
      "    size = int(raw_input(\"1,2 or 3\\n\"))\n",
      "    if size == 1:\n",
      "        size = 0\n",
      "        print \"Ha, what luck! We shall be victorious today!\"\n",
      "    elif size == 2:\n",
      "        size = 1\n",
      "        print \"We shall be rich after this!\"\n",
      "    elif size == 3:\n",
      "        size = 2\n",
      "        print \"What unluck! Truly we are between the Devil and the deep blue sea!\\n\"\n",
      "\n",
      "    print \"We have %s shots! Make them count.\" %(7+size)\n",
      "    grid.show()\n",
      "\n",
      "    ship_row = randint(0,grid.height-3) #In order to fit length 3 ships, the maximum row is 7, and shis can be built down to the edge.\n",
      "    ship_col = randint(0,grid.width-1)\n",
      "    \n",
      "    n = 0\n",
      "    \n",
      "    for turn in range(7+size):\n",
      "        guess_row = int(raw_input(\"Guess Row:\"))\n",
      "        guess_col = int(raw_input(\"Guess Col:\"))\n",
      "        check = positionmarker[guess_row, guess_col] #Check is used to mark previously guessed cells\n",
      "\n",
      "\n",
      "        if guess_row in range(ship_row, ship_row+size+1) and guess_col == ship_col: #Conditions for hits and victory\n",
      "            grid[guess_row,guess_col] = (255,0,0)\n",
      "            check.red = 255\n",
      "            n+=1\n",
      "            if n == size+1:\n",
      "                grid[guess_row,guess_col] = (255,0,0)\n",
      "                print \"Argh! They'll be sailing with Davy Jones now!\"\n",
      "                print \"We sunk them in %s shots!\" %(turn+1)\n",
      "                grid.show()\n",
      "                break\n",
      "            else:\n",
      "                print \"Good shot! Keep firing!\"\n",
      "            \n",
      "        else:\n",
      "            if (guess_row < 0 or guess_row > grid.width-1) or (guess_col < 0 or guess_col > grid.height-1): #Out of bounds error\n",
      "                print \"Thar be no ships o'er there!\"\n",
      "            elif (check.red == 0 and check.blue == 0 and check.green ==0): #Repeat guess condition\n",
      "                print \"There is still no ship there, matey!\"\n",
      "            else: #Miss condition\n",
      "                print \"Fire at the ship, not the ocean!\"\n",
      "                grid[guess_row, guess_col] = colors['Black']\n",
      "                check.red = 0\n",
      "                check.green = 0\n",
      "                check.blue = 0\n",
      "            if turn == 6+size: #Game over, out of turns\n",
      "                print\n",
      "                print \"They managed to get away! What's a pirate without any plunder!?\"\n",
      "                print \"We fired %s cannonballs and got nothing for our trouble!\" %(turn+1)\n",
      "                print \"The ship was here:\"\n",
      "                if size == 0:\n",
      "                    grid[ship_row,ship_col] = colors['Yellow']\n",
      "                    grid.show()\n",
      "                elif size == 1:\n",
      "                    grid[ship_row,ship_col] = colors['Yellow']\n",
      "                    grid[ship_row+1,ship_col] = colors['Yellow']\n",
      "                    grid.show()\n",
      "                elif size == 2:\n",
      "                    grid[ship_row,ship_col] = colors['Yellow']\n",
      "                    grid[ship_row+1,ship_col] = colors['Yellow']\n",
      "                    grid[ship_row+2,ship_col] = colors['Yellow']\n",
      "                    grid.show()\n",
      "                break\n",
      "        print    \n",
      "        print \"Turn\", turn+1\n",
      "        grid.show()\n",
      "\n",
      "\n",
      "if wind == \"W\" or wind == \"w\" or wind == \"E\" or wind == \"e\": #This chunk of code is the same as above, but swaps the ships from vertical to horizontal\n",
      "    print\n",
      "    print \"What sort of ship do you see off the starboard bow?\\n1)Frigate 2)Spanish Galleon 3)British Ship of the Line\"\n",
      "    size = int(raw_input(\"1,2 or 3\\n\"))\n",
      "    if size == 1:\n",
      "        size = 0\n",
      "        print \"Ha, what luck! We shall be victorious today!\"\n",
      "    elif size == 2:\n",
      "        size = 1\n",
      "        print \"We shall be rich after this!\"\n",
      "    elif size == 3:\n",
      "        size = 2\n",
      "        print \"What unluck! Truly we are between the Devil and the deep blue sea!\\n\"\n",
      "\n",
      "    print \"We have %s shots! Make them count.\" %(7+size)\n",
      "    grid.show()\n",
      "\n",
      "    ship_row = randint(0,grid.height-1)\n",
      "    ship_col = randint(0,grid.width-3)\n",
      "    \n",
      "    n = 0\n",
      "\n",
      "    for turn in range(7+size):\n",
      "        guess_row = int(raw_input(\"Guess Row:\"))\n",
      "        guess_col = int(raw_input(\"Guess Col:\"))\n",
      "        check = positionmarker[guess_row, guess_col]\n",
      "\n",
      "        if guess_col in range(ship_col, ship_col+size+1) and guess_row == ship_row: #Rows and columns are flipped from the N/S conditions above\n",
      "            grid[guess_row,guess_col] = (255,0,0)\n",
      "            check.red = 255\n",
      "            n+=1\n",
      "            if n == size+1:\n",
      "                grid[guess_row,guess_col] = (255,0,0)\n",
      "                print \"Argh! They'll be sailing with Davy Jones now!\"\n",
      "                print \"We sunk them in %s shots!\" %(turn+1)\n",
      "                grid.show()\n",
      "                break\n",
      "            else:\n",
      "                print \"Good shot! Keep firing!\"\n",
      "                \n",
      "        else:\n",
      "            if (guess_row < 0 or guess_row > grid.width-1) or (guess_col < 0 or guess_col > grid.height-1): #Out of bounds error\n",
      "                print \"Thar be no ships o'er there!\"\n",
      "            elif (check.red == 0 and check.blue == 0 and check.green ==0): #Repeat guess condition\n",
      "                print \"There is still no ship there, matey!\"\n",
      "            else: #Miss condition\n",
      "                print \"Fire at the ship, not the ocean!\"\n",
      "                grid[guess_row, guess_col] = colors['Black']\n",
      "                check.red = 0\n",
      "                check.green = 0\n",
      "                check.blue = 0\n",
      "            if turn == 6+size: #Game over, out of turns\n",
      "                print\n",
      "                print \"They managed to sail away! What's a pirate without any plunder?\"\n",
      "                print \"We fired %s cannonballs and got nothing for our trouble!\" %(turn+1)\n",
      "                print \"The ship was here:\"\n",
      "                if size == 0:\n",
      "                    grid[ship_row,ship_col] = colors['Yellow']\n",
      "                    grid.show()\n",
      "                elif size == 1:\n",
      "                    grid[ship_row,ship_col] = colors['Yellow']\n",
      "                    grid[ship_row,ship_col+1] = colors['Yellow']\n",
      "                    grid.show()\n",
      "                elif size == 2:\n",
      "                    grid[ship_row,ship_col] = colors['Yellow']\n",
      "                    grid[ship_row,ship_col+1] = colors['Yellow']\n",
      "                    grid[ship_row,ship_col+2] = colors['Yellow']\n",
      "                    grid.show()\n",
      "                break\n",
      "        print    \n",
      "        print \"Turn\", turn+1\n",
      "        grid.show()\n",
      "\n",
      "\n"
     ],
     "language": "python",
     "metadata": {},
     "outputs": [
      {
       "output_type": "stream",
       "stream": "stdout",
       "text": [
        "Let's play Pirate Ship Battleship!\n",
        "\n",
        "Please use integers 0 through 9 as your guesses for the row and column.\n",
        "\n"
       ]
      }
     ]
    },
    {
     "cell_type": "markdown",
     "metadata": {},
     "source": []
    },
    {
     "cell_type": "heading",
     "level": 3,
     "metadata": {},
     "source": [
      "Battleship - Single square ship "
     ]
    },
    {
     "cell_type": "code",
     "collapsed": false,
     "input": [
      "from random import randint\n",
      "from ipythonblocks import BlockGrid\n",
      "from ipythonblocks import colors\n",
      "\n",
      "grid = BlockGrid(10,10,fill=(135,206,235)) #The visible playing field\n",
      "positionmarker = BlockGrid(100,100,fill=(255,255,255)) #A background grid that tracks previously guessed coordinates and prevents runoff errors\n",
      "print \"Let's play Battleship!\"\n",
      "print \"Please use integers 0 through 9 as your guesses for the row and column.\"\n",
      "print \"You have 3 guesses.\"\n",
      "grid.show()\n",
      "\n",
      "ship_row = randint(0,grid.width-1)\n",
      "ship_col = randint(0,grid.height-1)\n",
      "print ship_row,ship_col\n",
      "\n",
      "# End of turn outcomes\n",
      "for turn in range(4):\n",
      "    guess_row = int(raw_input(\"Guess Row:\"))\n",
      "    guess_col = int(raw_input(\"Guess Col:\"))\n",
      "    check = positionmarker[guess_row, guess_col]\n",
      "\n",
      "\n",
      "    if guess_row == ship_row and guess_col == ship_col: #Victory condition\n",
      "        print \"Congratulations! You sunk my battleship!\"\n",
      "        grid[guess_row,guess_col] = (255,0,0)\n",
      "        grid.show()\n",
      "        break\n",
      "    else:\n",
      "        if (guess_row < 0 or guess_row > grid.width-1) or (guess_col < 0 or guess_col > grid.height-1): #Out of bounds error\n",
      "            print \"Oops, that's not even in the ocean.\"\n",
      "        elif (check.red == 0 and check.blue == 0 and check.green ==0): #Repeat guess condition\n",
      "            print \"You guessed that one already.\"\n",
      "        else: #Miss condition\n",
      "            print \"You missed my battleship!\"\n",
      "            grid[guess_row, guess_col] = colors['Black']\n",
      "            check.red = 0\n",
      "            check.green = 0\n",
      "            check.blue = 0\n",
      "        if turn == 3: #Game over, out of turns\n",
      "            print \"Game Over.\"\n",
      "            grid[ship_row,ship_col] = colors['Yellow']\n",
      "            print \"The battleship was here \"\n",
      "            grid.show()\n",
      "            break\n",
      "    print    \n",
      "    print \"Turn\", turn+1\n",
      "    grid.show()\n"
     ],
     "language": "python",
     "metadata": {},
     "outputs": [
      {
       "output_type": "stream",
       "stream": "stdout",
       "text": [
        "Let's play Battleship!\n",
        "Please use integers 0 through 9 as your guesses for the row and column.\n",
        "You have 3 guesses.\n"
       ]
      },
      {
       "html": [
        "<style type=\"text/css\">table.blockgrid {border: none;} .blockgrid tr {border: none;} .blockgrid td {padding: 0px;} #blocksb67b12f0-9fbe-4a71-ae8e-ccf50ede42bc td {border: 1px solid white;}</style><table id=\"blocksb67b12f0-9fbe-4a71-ae8e-ccf50ede42bc\" class=\"blockgrid\"><tbody><tr><td title=\"Index: [0, 0]&#10;Color: (135, 206, 235)\" style=\"width: 20px; height: 20px;background-color: rgb(135, 206, 235);\"></td><td title=\"Index: [0, 1]&#10;Color: (135, 206, 235)\" style=\"width: 20px; height: 20px;background-color: rgb(135, 206, 235);\"></td><td title=\"Index: [0, 2]&#10;Color: (135, 206, 235)\" style=\"width: 20px; height: 20px;background-color: rgb(135, 206, 235);\"></td><td title=\"Index: [0, 3]&#10;Color: (135, 206, 235)\" style=\"width: 20px; height: 20px;background-color: rgb(135, 206, 235);\"></td><td title=\"Index: [0, 4]&#10;Color: (135, 206, 235)\" style=\"width: 20px; height: 20px;background-color: rgb(135, 206, 235);\"></td><td title=\"Index: [0, 5]&#10;Color: (135, 206, 235)\" style=\"width: 20px; height: 20px;background-color: rgb(135, 206, 235);\"></td><td title=\"Index: [0, 6]&#10;Color: (135, 206, 235)\" style=\"width: 20px; height: 20px;background-color: rgb(135, 206, 235);\"></td><td title=\"Index: [0, 7]&#10;Color: (135, 206, 235)\" style=\"width: 20px; height: 20px;background-color: rgb(135, 206, 235);\"></td><td title=\"Index: [0, 8]&#10;Color: (135, 206, 235)\" style=\"width: 20px; height: 20px;background-color: rgb(135, 206, 235);\"></td><td title=\"Index: [0, 9]&#10;Color: (135, 206, 235)\" style=\"width: 20px; height: 20px;background-color: rgb(135, 206, 235);\"></td></tr><tr><td title=\"Index: [1, 0]&#10;Color: (135, 206, 235)\" style=\"width: 20px; height: 20px;background-color: rgb(135, 206, 235);\"></td><td title=\"Index: [1, 1]&#10;Color: (135, 206, 235)\" style=\"width: 20px; height: 20px;background-color: rgb(135, 206, 235);\"></td><td title=\"Index: [1, 2]&#10;Color: (135, 206, 235)\" style=\"width: 20px; height: 20px;background-color: rgb(135, 206, 235);\"></td><td title=\"Index: [1, 3]&#10;Color: (135, 206, 235)\" style=\"width: 20px; height: 20px;background-color: rgb(135, 206, 235);\"></td><td title=\"Index: [1, 4]&#10;Color: (135, 206, 235)\" style=\"width: 20px; height: 20px;background-color: rgb(135, 206, 235);\"></td><td title=\"Index: [1, 5]&#10;Color: (135, 206, 235)\" style=\"width: 20px; height: 20px;background-color: rgb(135, 206, 235);\"></td><td title=\"Index: [1, 6]&#10;Color: (135, 206, 235)\" style=\"width: 20px; height: 20px;background-color: rgb(135, 206, 235);\"></td><td title=\"Index: [1, 7]&#10;Color: (135, 206, 235)\" style=\"width: 20px; height: 20px;background-color: rgb(135, 206, 235);\"></td><td title=\"Index: [1, 8]&#10;Color: (135, 206, 235)\" style=\"width: 20px; height: 20px;background-color: rgb(135, 206, 235);\"></td><td title=\"Index: [1, 9]&#10;Color: (135, 206, 235)\" style=\"width: 20px; height: 20px;background-color: rgb(135, 206, 235);\"></td></tr><tr><td title=\"Index: [2, 0]&#10;Color: (135, 206, 235)\" style=\"width: 20px; height: 20px;background-color: rgb(135, 206, 235);\"></td><td title=\"Index: [2, 1]&#10;Color: (135, 206, 235)\" style=\"width: 20px; height: 20px;background-color: rgb(135, 206, 235);\"></td><td title=\"Index: [2, 2]&#10;Color: (135, 206, 235)\" style=\"width: 20px; height: 20px;background-color: rgb(135, 206, 235);\"></td><td title=\"Index: [2, 3]&#10;Color: (135, 206, 235)\" style=\"width: 20px; height: 20px;background-color: rgb(135, 206, 235);\"></td><td title=\"Index: [2, 4]&#10;Color: (135, 206, 235)\" style=\"width: 20px; height: 20px;background-color: rgb(135, 206, 235);\"></td><td title=\"Index: [2, 5]&#10;Color: (135, 206, 235)\" style=\"width: 20px; height: 20px;background-color: rgb(135, 206, 235);\"></td><td title=\"Index: [2, 6]&#10;Color: (135, 206, 235)\" style=\"width: 20px; height: 20px;background-color: rgb(135, 206, 235);\"></td><td title=\"Index: [2, 7]&#10;Color: (135, 206, 235)\" style=\"width: 20px; height: 20px;background-color: rgb(135, 206, 235);\"></td><td title=\"Index: [2, 8]&#10;Color: (135, 206, 235)\" style=\"width: 20px; height: 20px;background-color: rgb(135, 206, 235);\"></td><td title=\"Index: [2, 9]&#10;Color: (135, 206, 235)\" style=\"width: 20px; height: 20px;background-color: rgb(135, 206, 235);\"></td></tr><tr><td title=\"Index: [3, 0]&#10;Color: (135, 206, 235)\" style=\"width: 20px; height: 20px;background-color: rgb(135, 206, 235);\"></td><td title=\"Index: [3, 1]&#10;Color: (135, 206, 235)\" style=\"width: 20px; height: 20px;background-color: rgb(135, 206, 235);\"></td><td title=\"Index: [3, 2]&#10;Color: (135, 206, 235)\" style=\"width: 20px; height: 20px;background-color: rgb(135, 206, 235);\"></td><td title=\"Index: [3, 3]&#10;Color: (135, 206, 235)\" style=\"width: 20px; height: 20px;background-color: rgb(135, 206, 235);\"></td><td title=\"Index: [3, 4]&#10;Color: (135, 206, 235)\" style=\"width: 20px; height: 20px;background-color: rgb(135, 206, 235);\"></td><td title=\"Index: [3, 5]&#10;Color: (135, 206, 235)\" style=\"width: 20px; height: 20px;background-color: rgb(135, 206, 235);\"></td><td title=\"Index: [3, 6]&#10;Color: (135, 206, 235)\" style=\"width: 20px; height: 20px;background-color: rgb(135, 206, 235);\"></td><td title=\"Index: [3, 7]&#10;Color: (135, 206, 235)\" style=\"width: 20px; height: 20px;background-color: rgb(135, 206, 235);\"></td><td title=\"Index: [3, 8]&#10;Color: (135, 206, 235)\" style=\"width: 20px; height: 20px;background-color: rgb(135, 206, 235);\"></td><td title=\"Index: [3, 9]&#10;Color: (135, 206, 235)\" style=\"width: 20px; height: 20px;background-color: rgb(135, 206, 235);\"></td></tr><tr><td title=\"Index: [4, 0]&#10;Color: (135, 206, 235)\" style=\"width: 20px; height: 20px;background-color: rgb(135, 206, 235);\"></td><td title=\"Index: [4, 1]&#10;Color: (135, 206, 235)\" style=\"width: 20px; height: 20px;background-color: rgb(135, 206, 235);\"></td><td title=\"Index: [4, 2]&#10;Color: (135, 206, 235)\" style=\"width: 20px; height: 20px;background-color: rgb(135, 206, 235);\"></td><td title=\"Index: [4, 3]&#10;Color: (135, 206, 235)\" style=\"width: 20px; height: 20px;background-color: rgb(135, 206, 235);\"></td><td title=\"Index: [4, 4]&#10;Color: (135, 206, 235)\" style=\"width: 20px; height: 20px;background-color: rgb(135, 206, 235);\"></td><td title=\"Index: [4, 5]&#10;Color: (135, 206, 235)\" style=\"width: 20px; height: 20px;background-color: rgb(135, 206, 235);\"></td><td title=\"Index: [4, 6]&#10;Color: (135, 206, 235)\" style=\"width: 20px; height: 20px;background-color: rgb(135, 206, 235);\"></td><td title=\"Index: [4, 7]&#10;Color: (135, 206, 235)\" style=\"width: 20px; height: 20px;background-color: rgb(135, 206, 235);\"></td><td title=\"Index: [4, 8]&#10;Color: (135, 206, 235)\" style=\"width: 20px; height: 20px;background-color: rgb(135, 206, 235);\"></td><td title=\"Index: [4, 9]&#10;Color: (135, 206, 235)\" style=\"width: 20px; height: 20px;background-color: rgb(135, 206, 235);\"></td></tr><tr><td title=\"Index: [5, 0]&#10;Color: (135, 206, 235)\" style=\"width: 20px; height: 20px;background-color: rgb(135, 206, 235);\"></td><td title=\"Index: [5, 1]&#10;Color: (135, 206, 235)\" style=\"width: 20px; height: 20px;background-color: rgb(135, 206, 235);\"></td><td title=\"Index: [5, 2]&#10;Color: (135, 206, 235)\" style=\"width: 20px; height: 20px;background-color: rgb(135, 206, 235);\"></td><td title=\"Index: [5, 3]&#10;Color: (135, 206, 235)\" style=\"width: 20px; height: 20px;background-color: rgb(135, 206, 235);\"></td><td title=\"Index: [5, 4]&#10;Color: (135, 206, 235)\" style=\"width: 20px; height: 20px;background-color: rgb(135, 206, 235);\"></td><td title=\"Index: [5, 5]&#10;Color: (135, 206, 235)\" style=\"width: 20px; height: 20px;background-color: rgb(135, 206, 235);\"></td><td title=\"Index: [5, 6]&#10;Color: (135, 206, 235)\" style=\"width: 20px; height: 20px;background-color: rgb(135, 206, 235);\"></td><td title=\"Index: [5, 7]&#10;Color: (135, 206, 235)\" style=\"width: 20px; height: 20px;background-color: rgb(135, 206, 235);\"></td><td title=\"Index: [5, 8]&#10;Color: (135, 206, 235)\" style=\"width: 20px; height: 20px;background-color: rgb(135, 206, 235);\"></td><td title=\"Index: [5, 9]&#10;Color: (135, 206, 235)\" style=\"width: 20px; height: 20px;background-color: rgb(135, 206, 235);\"></td></tr><tr><td title=\"Index: [6, 0]&#10;Color: (135, 206, 235)\" style=\"width: 20px; height: 20px;background-color: rgb(135, 206, 235);\"></td><td title=\"Index: [6, 1]&#10;Color: (135, 206, 235)\" style=\"width: 20px; height: 20px;background-color: rgb(135, 206, 235);\"></td><td title=\"Index: [6, 2]&#10;Color: (135, 206, 235)\" style=\"width: 20px; height: 20px;background-color: rgb(135, 206, 235);\"></td><td title=\"Index: [6, 3]&#10;Color: (135, 206, 235)\" style=\"width: 20px; height: 20px;background-color: rgb(135, 206, 235);\"></td><td title=\"Index: [6, 4]&#10;Color: (135, 206, 235)\" style=\"width: 20px; height: 20px;background-color: rgb(135, 206, 235);\"></td><td title=\"Index: [6, 5]&#10;Color: (135, 206, 235)\" style=\"width: 20px; height: 20px;background-color: rgb(135, 206, 235);\"></td><td title=\"Index: [6, 6]&#10;Color: (135, 206, 235)\" style=\"width: 20px; height: 20px;background-color: rgb(135, 206, 235);\"></td><td title=\"Index: [6, 7]&#10;Color: (135, 206, 235)\" style=\"width: 20px; height: 20px;background-color: rgb(135, 206, 235);\"></td><td title=\"Index: [6, 8]&#10;Color: (135, 206, 235)\" style=\"width: 20px; height: 20px;background-color: rgb(135, 206, 235);\"></td><td title=\"Index: [6, 9]&#10;Color: (135, 206, 235)\" style=\"width: 20px; height: 20px;background-color: rgb(135, 206, 235);\"></td></tr><tr><td title=\"Index: [7, 0]&#10;Color: (135, 206, 235)\" style=\"width: 20px; height: 20px;background-color: rgb(135, 206, 235);\"></td><td title=\"Index: [7, 1]&#10;Color: (135, 206, 235)\" style=\"width: 20px; height: 20px;background-color: rgb(135, 206, 235);\"></td><td title=\"Index: [7, 2]&#10;Color: (135, 206, 235)\" style=\"width: 20px; height: 20px;background-color: rgb(135, 206, 235);\"></td><td title=\"Index: [7, 3]&#10;Color: (135, 206, 235)\" style=\"width: 20px; height: 20px;background-color: rgb(135, 206, 235);\"></td><td title=\"Index: [7, 4]&#10;Color: (135, 206, 235)\" style=\"width: 20px; height: 20px;background-color: rgb(135, 206, 235);\"></td><td title=\"Index: [7, 5]&#10;Color: (135, 206, 235)\" style=\"width: 20px; height: 20px;background-color: rgb(135, 206, 235);\"></td><td title=\"Index: [7, 6]&#10;Color: (135, 206, 235)\" style=\"width: 20px; height: 20px;background-color: rgb(135, 206, 235);\"></td><td title=\"Index: [7, 7]&#10;Color: (135, 206, 235)\" style=\"width: 20px; height: 20px;background-color: rgb(135, 206, 235);\"></td><td title=\"Index: [7, 8]&#10;Color: (135, 206, 235)\" style=\"width: 20px; height: 20px;background-color: rgb(135, 206, 235);\"></td><td title=\"Index: [7, 9]&#10;Color: (135, 206, 235)\" style=\"width: 20px; height: 20px;background-color: rgb(135, 206, 235);\"></td></tr><tr><td title=\"Index: [8, 0]&#10;Color: (135, 206, 235)\" style=\"width: 20px; height: 20px;background-color: rgb(135, 206, 235);\"></td><td title=\"Index: [8, 1]&#10;Color: (135, 206, 235)\" style=\"width: 20px; height: 20px;background-color: rgb(135, 206, 235);\"></td><td title=\"Index: [8, 2]&#10;Color: (135, 206, 235)\" style=\"width: 20px; height: 20px;background-color: rgb(135, 206, 235);\"></td><td title=\"Index: [8, 3]&#10;Color: (135, 206, 235)\" style=\"width: 20px; height: 20px;background-color: rgb(135, 206, 235);\"></td><td title=\"Index: [8, 4]&#10;Color: (135, 206, 235)\" style=\"width: 20px; height: 20px;background-color: rgb(135, 206, 235);\"></td><td title=\"Index: [8, 5]&#10;Color: (135, 206, 235)\" style=\"width: 20px; height: 20px;background-color: rgb(135, 206, 235);\"></td><td title=\"Index: [8, 6]&#10;Color: (135, 206, 235)\" style=\"width: 20px; height: 20px;background-color: rgb(135, 206, 235);\"></td><td title=\"Index: [8, 7]&#10;Color: (135, 206, 235)\" style=\"width: 20px; height: 20px;background-color: rgb(135, 206, 235);\"></td><td title=\"Index: [8, 8]&#10;Color: (135, 206, 235)\" style=\"width: 20px; height: 20px;background-color: rgb(135, 206, 235);\"></td><td title=\"Index: [8, 9]&#10;Color: (135, 206, 235)\" style=\"width: 20px; height: 20px;background-color: rgb(135, 206, 235);\"></td></tr><tr><td title=\"Index: [9, 0]&#10;Color: (135, 206, 235)\" style=\"width: 20px; height: 20px;background-color: rgb(135, 206, 235);\"></td><td title=\"Index: [9, 1]&#10;Color: (135, 206, 235)\" style=\"width: 20px; height: 20px;background-color: rgb(135, 206, 235);\"></td><td title=\"Index: [9, 2]&#10;Color: (135, 206, 235)\" style=\"width: 20px; height: 20px;background-color: rgb(135, 206, 235);\"></td><td title=\"Index: [9, 3]&#10;Color: (135, 206, 235)\" style=\"width: 20px; height: 20px;background-color: rgb(135, 206, 235);\"></td><td title=\"Index: [9, 4]&#10;Color: (135, 206, 235)\" style=\"width: 20px; height: 20px;background-color: rgb(135, 206, 235);\"></td><td title=\"Index: [9, 5]&#10;Color: (135, 206, 235)\" style=\"width: 20px; height: 20px;background-color: rgb(135, 206, 235);\"></td><td title=\"Index: [9, 6]&#10;Color: (135, 206, 235)\" style=\"width: 20px; height: 20px;background-color: rgb(135, 206, 235);\"></td><td title=\"Index: [9, 7]&#10;Color: (135, 206, 235)\" style=\"width: 20px; height: 20px;background-color: rgb(135, 206, 235);\"></td><td title=\"Index: [9, 8]&#10;Color: (135, 206, 235)\" style=\"width: 20px; height: 20px;background-color: rgb(135, 206, 235);\"></td><td title=\"Index: [9, 9]&#10;Color: (135, 206, 235)\" style=\"width: 20px; height: 20px;background-color: rgb(135, 206, 235);\"></td></tr></tbody></table>"
       ],
       "metadata": {},
       "output_type": "display_data",
       "text": [
        "<IPython.core.display.HTML at 0x38ab2b0>"
       ]
      },
      {
       "output_type": "stream",
       "stream": "stdout",
       "text": [
        "1 4\n"
       ]
      },
      {
       "name": "stdout",
       "output_type": "stream",
       "stream": "stdout",
       "text": [
        "Guess Row:1\n"
       ]
      },
      {
       "name": "stdout",
       "output_type": "stream",
       "stream": "stdout",
       "text": [
        "Guess Col:1\n"
       ]
      },
      {
       "output_type": "stream",
       "stream": "stdout",
       "text": [
        "You missed my battleship!\n",
        "\n",
        "Turn 1\n"
       ]
      },
      {
       "html": [
        "<style type=\"text/css\">table.blockgrid {border: none;} .blockgrid tr {border: none;} .blockgrid td {padding: 0px;} #blocksc98bcd58-4cdc-49d1-baed-62bffe40bbef td {border: 1px solid white;}</style><table id=\"blocksc98bcd58-4cdc-49d1-baed-62bffe40bbef\" class=\"blockgrid\"><tbody><tr><td title=\"Index: [0, 0]&#10;Color: (135, 206, 235)\" style=\"width: 20px; height: 20px;background-color: rgb(135, 206, 235);\"></td><td title=\"Index: [0, 1]&#10;Color: (135, 206, 235)\" style=\"width: 20px; height: 20px;background-color: rgb(135, 206, 235);\"></td><td title=\"Index: [0, 2]&#10;Color: (135, 206, 235)\" style=\"width: 20px; height: 20px;background-color: rgb(135, 206, 235);\"></td><td title=\"Index: [0, 3]&#10;Color: (135, 206, 235)\" style=\"width: 20px; height: 20px;background-color: rgb(135, 206, 235);\"></td><td title=\"Index: [0, 4]&#10;Color: (135, 206, 235)\" style=\"width: 20px; height: 20px;background-color: rgb(135, 206, 235);\"></td><td title=\"Index: [0, 5]&#10;Color: (135, 206, 235)\" style=\"width: 20px; height: 20px;background-color: rgb(135, 206, 235);\"></td><td title=\"Index: [0, 6]&#10;Color: (135, 206, 235)\" style=\"width: 20px; height: 20px;background-color: rgb(135, 206, 235);\"></td><td title=\"Index: [0, 7]&#10;Color: (135, 206, 235)\" style=\"width: 20px; height: 20px;background-color: rgb(135, 206, 235);\"></td><td title=\"Index: [0, 8]&#10;Color: (135, 206, 235)\" style=\"width: 20px; height: 20px;background-color: rgb(135, 206, 235);\"></td><td title=\"Index: [0, 9]&#10;Color: (135, 206, 235)\" style=\"width: 20px; height: 20px;background-color: rgb(135, 206, 235);\"></td></tr><tr><td title=\"Index: [1, 0]&#10;Color: (135, 206, 235)\" style=\"width: 20px; height: 20px;background-color: rgb(135, 206, 235);\"></td><td title=\"Index: [1, 1]&#10;Color: (0, 0, 0)\" style=\"width: 20px; height: 20px;background-color: rgb(0, 0, 0);\"></td><td title=\"Index: [1, 2]&#10;Color: (135, 206, 235)\" style=\"width: 20px; height: 20px;background-color: rgb(135, 206, 235);\"></td><td title=\"Index: [1, 3]&#10;Color: (135, 206, 235)\" style=\"width: 20px; height: 20px;background-color: rgb(135, 206, 235);\"></td><td title=\"Index: [1, 4]&#10;Color: (135, 206, 235)\" style=\"width: 20px; height: 20px;background-color: rgb(135, 206, 235);\"></td><td title=\"Index: [1, 5]&#10;Color: (135, 206, 235)\" style=\"width: 20px; height: 20px;background-color: rgb(135, 206, 235);\"></td><td title=\"Index: [1, 6]&#10;Color: (135, 206, 235)\" style=\"width: 20px; height: 20px;background-color: rgb(135, 206, 235);\"></td><td title=\"Index: [1, 7]&#10;Color: (135, 206, 235)\" style=\"width: 20px; height: 20px;background-color: rgb(135, 206, 235);\"></td><td title=\"Index: [1, 8]&#10;Color: (135, 206, 235)\" style=\"width: 20px; height: 20px;background-color: rgb(135, 206, 235);\"></td><td title=\"Index: [1, 9]&#10;Color: (135, 206, 235)\" style=\"width: 20px; height: 20px;background-color: rgb(135, 206, 235);\"></td></tr><tr><td title=\"Index: [2, 0]&#10;Color: (135, 206, 235)\" style=\"width: 20px; height: 20px;background-color: rgb(135, 206, 235);\"></td><td title=\"Index: [2, 1]&#10;Color: (135, 206, 235)\" style=\"width: 20px; height: 20px;background-color: rgb(135, 206, 235);\"></td><td title=\"Index: [2, 2]&#10;Color: (135, 206, 235)\" style=\"width: 20px; height: 20px;background-color: rgb(135, 206, 235);\"></td><td title=\"Index: [2, 3]&#10;Color: (135, 206, 235)\" style=\"width: 20px; height: 20px;background-color: rgb(135, 206, 235);\"></td><td title=\"Index: [2, 4]&#10;Color: (135, 206, 235)\" style=\"width: 20px; height: 20px;background-color: rgb(135, 206, 235);\"></td><td title=\"Index: [2, 5]&#10;Color: (135, 206, 235)\" style=\"width: 20px; height: 20px;background-color: rgb(135, 206, 235);\"></td><td title=\"Index: [2, 6]&#10;Color: (135, 206, 235)\" style=\"width: 20px; height: 20px;background-color: rgb(135, 206, 235);\"></td><td title=\"Index: [2, 7]&#10;Color: (135, 206, 235)\" style=\"width: 20px; height: 20px;background-color: rgb(135, 206, 235);\"></td><td title=\"Index: [2, 8]&#10;Color: (135, 206, 235)\" style=\"width: 20px; height: 20px;background-color: rgb(135, 206, 235);\"></td><td title=\"Index: [2, 9]&#10;Color: (135, 206, 235)\" style=\"width: 20px; height: 20px;background-color: rgb(135, 206, 235);\"></td></tr><tr><td title=\"Index: [3, 0]&#10;Color: (135, 206, 235)\" style=\"width: 20px; height: 20px;background-color: rgb(135, 206, 235);\"></td><td title=\"Index: [3, 1]&#10;Color: (135, 206, 235)\" style=\"width: 20px; height: 20px;background-color: rgb(135, 206, 235);\"></td><td title=\"Index: [3, 2]&#10;Color: (135, 206, 235)\" style=\"width: 20px; height: 20px;background-color: rgb(135, 206, 235);\"></td><td title=\"Index: [3, 3]&#10;Color: (135, 206, 235)\" style=\"width: 20px; height: 20px;background-color: rgb(135, 206, 235);\"></td><td title=\"Index: [3, 4]&#10;Color: (135, 206, 235)\" style=\"width: 20px; height: 20px;background-color: rgb(135, 206, 235);\"></td><td title=\"Index: [3, 5]&#10;Color: (135, 206, 235)\" style=\"width: 20px; height: 20px;background-color: rgb(135, 206, 235);\"></td><td title=\"Index: [3, 6]&#10;Color: (135, 206, 235)\" style=\"width: 20px; height: 20px;background-color: rgb(135, 206, 235);\"></td><td title=\"Index: [3, 7]&#10;Color: (135, 206, 235)\" style=\"width: 20px; height: 20px;background-color: rgb(135, 206, 235);\"></td><td title=\"Index: [3, 8]&#10;Color: (135, 206, 235)\" style=\"width: 20px; height: 20px;background-color: rgb(135, 206, 235);\"></td><td title=\"Index: [3, 9]&#10;Color: (135, 206, 235)\" style=\"width: 20px; height: 20px;background-color: rgb(135, 206, 235);\"></td></tr><tr><td title=\"Index: [4, 0]&#10;Color: (135, 206, 235)\" style=\"width: 20px; height: 20px;background-color: rgb(135, 206, 235);\"></td><td title=\"Index: [4, 1]&#10;Color: (135, 206, 235)\" style=\"width: 20px; height: 20px;background-color: rgb(135, 206, 235);\"></td><td title=\"Index: [4, 2]&#10;Color: (135, 206, 235)\" style=\"width: 20px; height: 20px;background-color: rgb(135, 206, 235);\"></td><td title=\"Index: [4, 3]&#10;Color: (135, 206, 235)\" style=\"width: 20px; height: 20px;background-color: rgb(135, 206, 235);\"></td><td title=\"Index: [4, 4]&#10;Color: (135, 206, 235)\" style=\"width: 20px; height: 20px;background-color: rgb(135, 206, 235);\"></td><td title=\"Index: [4, 5]&#10;Color: (135, 206, 235)\" style=\"width: 20px; height: 20px;background-color: rgb(135, 206, 235);\"></td><td title=\"Index: [4, 6]&#10;Color: (135, 206, 235)\" style=\"width: 20px; height: 20px;background-color: rgb(135, 206, 235);\"></td><td title=\"Index: [4, 7]&#10;Color: (135, 206, 235)\" style=\"width: 20px; height: 20px;background-color: rgb(135, 206, 235);\"></td><td title=\"Index: [4, 8]&#10;Color: (135, 206, 235)\" style=\"width: 20px; height: 20px;background-color: rgb(135, 206, 235);\"></td><td title=\"Index: [4, 9]&#10;Color: (135, 206, 235)\" style=\"width: 20px; height: 20px;background-color: rgb(135, 206, 235);\"></td></tr><tr><td title=\"Index: [5, 0]&#10;Color: (135, 206, 235)\" style=\"width: 20px; height: 20px;background-color: rgb(135, 206, 235);\"></td><td title=\"Index: [5, 1]&#10;Color: (135, 206, 235)\" style=\"width: 20px; height: 20px;background-color: rgb(135, 206, 235);\"></td><td title=\"Index: [5, 2]&#10;Color: (135, 206, 235)\" style=\"width: 20px; height: 20px;background-color: rgb(135, 206, 235);\"></td><td title=\"Index: [5, 3]&#10;Color: (135, 206, 235)\" style=\"width: 20px; height: 20px;background-color: rgb(135, 206, 235);\"></td><td title=\"Index: [5, 4]&#10;Color: (135, 206, 235)\" style=\"width: 20px; height: 20px;background-color: rgb(135, 206, 235);\"></td><td title=\"Index: [5, 5]&#10;Color: (135, 206, 235)\" style=\"width: 20px; height: 20px;background-color: rgb(135, 206, 235);\"></td><td title=\"Index: [5, 6]&#10;Color: (135, 206, 235)\" style=\"width: 20px; height: 20px;background-color: rgb(135, 206, 235);\"></td><td title=\"Index: [5, 7]&#10;Color: (135, 206, 235)\" style=\"width: 20px; height: 20px;background-color: rgb(135, 206, 235);\"></td><td title=\"Index: [5, 8]&#10;Color: (135, 206, 235)\" style=\"width: 20px; height: 20px;background-color: rgb(135, 206, 235);\"></td><td title=\"Index: [5, 9]&#10;Color: (135, 206, 235)\" style=\"width: 20px; height: 20px;background-color: rgb(135, 206, 235);\"></td></tr><tr><td title=\"Index: [6, 0]&#10;Color: (135, 206, 235)\" style=\"width: 20px; height: 20px;background-color: rgb(135, 206, 235);\"></td><td title=\"Index: [6, 1]&#10;Color: (135, 206, 235)\" style=\"width: 20px; height: 20px;background-color: rgb(135, 206, 235);\"></td><td title=\"Index: [6, 2]&#10;Color: (135, 206, 235)\" style=\"width: 20px; height: 20px;background-color: rgb(135, 206, 235);\"></td><td title=\"Index: [6, 3]&#10;Color: (135, 206, 235)\" style=\"width: 20px; height: 20px;background-color: rgb(135, 206, 235);\"></td><td title=\"Index: [6, 4]&#10;Color: (135, 206, 235)\" style=\"width: 20px; height: 20px;background-color: rgb(135, 206, 235);\"></td><td title=\"Index: [6, 5]&#10;Color: (135, 206, 235)\" style=\"width: 20px; height: 20px;background-color: rgb(135, 206, 235);\"></td><td title=\"Index: [6, 6]&#10;Color: (135, 206, 235)\" style=\"width: 20px; height: 20px;background-color: rgb(135, 206, 235);\"></td><td title=\"Index: [6, 7]&#10;Color: (135, 206, 235)\" style=\"width: 20px; height: 20px;background-color: rgb(135, 206, 235);\"></td><td title=\"Index: [6, 8]&#10;Color: (135, 206, 235)\" style=\"width: 20px; height: 20px;background-color: rgb(135, 206, 235);\"></td><td title=\"Index: [6, 9]&#10;Color: (135, 206, 235)\" style=\"width: 20px; height: 20px;background-color: rgb(135, 206, 235);\"></td></tr><tr><td title=\"Index: [7, 0]&#10;Color: (135, 206, 235)\" style=\"width: 20px; height: 20px;background-color: rgb(135, 206, 235);\"></td><td title=\"Index: [7, 1]&#10;Color: (135, 206, 235)\" style=\"width: 20px; height: 20px;background-color: rgb(135, 206, 235);\"></td><td title=\"Index: [7, 2]&#10;Color: (135, 206, 235)\" style=\"width: 20px; height: 20px;background-color: rgb(135, 206, 235);\"></td><td title=\"Index: [7, 3]&#10;Color: (135, 206, 235)\" style=\"width: 20px; height: 20px;background-color: rgb(135, 206, 235);\"></td><td title=\"Index: [7, 4]&#10;Color: (135, 206, 235)\" style=\"width: 20px; height: 20px;background-color: rgb(135, 206, 235);\"></td><td title=\"Index: [7, 5]&#10;Color: (135, 206, 235)\" style=\"width: 20px; height: 20px;background-color: rgb(135, 206, 235);\"></td><td title=\"Index: [7, 6]&#10;Color: (135, 206, 235)\" style=\"width: 20px; height: 20px;background-color: rgb(135, 206, 235);\"></td><td title=\"Index: [7, 7]&#10;Color: (135, 206, 235)\" style=\"width: 20px; height: 20px;background-color: rgb(135, 206, 235);\"></td><td title=\"Index: [7, 8]&#10;Color: (135, 206, 235)\" style=\"width: 20px; height: 20px;background-color: rgb(135, 206, 235);\"></td><td title=\"Index: [7, 9]&#10;Color: (135, 206, 235)\" style=\"width: 20px; height: 20px;background-color: rgb(135, 206, 235);\"></td></tr><tr><td title=\"Index: [8, 0]&#10;Color: (135, 206, 235)\" style=\"width: 20px; height: 20px;background-color: rgb(135, 206, 235);\"></td><td title=\"Index: [8, 1]&#10;Color: (135, 206, 235)\" style=\"width: 20px; height: 20px;background-color: rgb(135, 206, 235);\"></td><td title=\"Index: [8, 2]&#10;Color: (135, 206, 235)\" style=\"width: 20px; height: 20px;background-color: rgb(135, 206, 235);\"></td><td title=\"Index: [8, 3]&#10;Color: (135, 206, 235)\" style=\"width: 20px; height: 20px;background-color: rgb(135, 206, 235);\"></td><td title=\"Index: [8, 4]&#10;Color: (135, 206, 235)\" style=\"width: 20px; height: 20px;background-color: rgb(135, 206, 235);\"></td><td title=\"Index: [8, 5]&#10;Color: (135, 206, 235)\" style=\"width: 20px; height: 20px;background-color: rgb(135, 206, 235);\"></td><td title=\"Index: [8, 6]&#10;Color: (135, 206, 235)\" style=\"width: 20px; height: 20px;background-color: rgb(135, 206, 235);\"></td><td title=\"Index: [8, 7]&#10;Color: (135, 206, 235)\" style=\"width: 20px; height: 20px;background-color: rgb(135, 206, 235);\"></td><td title=\"Index: [8, 8]&#10;Color: (135, 206, 235)\" style=\"width: 20px; height: 20px;background-color: rgb(135, 206, 235);\"></td><td title=\"Index: [8, 9]&#10;Color: (135, 206, 235)\" style=\"width: 20px; height: 20px;background-color: rgb(135, 206, 235);\"></td></tr><tr><td title=\"Index: [9, 0]&#10;Color: (135, 206, 235)\" style=\"width: 20px; height: 20px;background-color: rgb(135, 206, 235);\"></td><td title=\"Index: [9, 1]&#10;Color: (135, 206, 235)\" style=\"width: 20px; height: 20px;background-color: rgb(135, 206, 235);\"></td><td title=\"Index: [9, 2]&#10;Color: (135, 206, 235)\" style=\"width: 20px; height: 20px;background-color: rgb(135, 206, 235);\"></td><td title=\"Index: [9, 3]&#10;Color: (135, 206, 235)\" style=\"width: 20px; height: 20px;background-color: rgb(135, 206, 235);\"></td><td title=\"Index: [9, 4]&#10;Color: (135, 206, 235)\" style=\"width: 20px; height: 20px;background-color: rgb(135, 206, 235);\"></td><td title=\"Index: [9, 5]&#10;Color: (135, 206, 235)\" style=\"width: 20px; height: 20px;background-color: rgb(135, 206, 235);\"></td><td title=\"Index: [9, 6]&#10;Color: (135, 206, 235)\" style=\"width: 20px; height: 20px;background-color: rgb(135, 206, 235);\"></td><td title=\"Index: [9, 7]&#10;Color: (135, 206, 235)\" style=\"width: 20px; height: 20px;background-color: rgb(135, 206, 235);\"></td><td title=\"Index: [9, 8]&#10;Color: (135, 206, 235)\" style=\"width: 20px; height: 20px;background-color: rgb(135, 206, 235);\"></td><td title=\"Index: [9, 9]&#10;Color: (135, 206, 235)\" style=\"width: 20px; height: 20px;background-color: rgb(135, 206, 235);\"></td></tr></tbody></table>"
       ],
       "metadata": {},
       "output_type": "display_data",
       "text": [
        "<IPython.core.display.HTML at 0x1d97e10>"
       ]
      },
      {
       "name": "stdout",
       "output_type": "stream",
       "stream": "stdout",
       "text": [
        "Guess Row:1\n"
       ]
      },
      {
       "name": "stdout",
       "output_type": "stream",
       "stream": "stdout",
       "text": [
        "Guess Col:1\n"
       ]
      },
      {
       "output_type": "stream",
       "stream": "stdout",
       "text": [
        "You guessed that one already.\n",
        "\n",
        "Turn 2\n"
       ]
      },
      {
       "html": [
        "<style type=\"text/css\">table.blockgrid {border: none;} .blockgrid tr {border: none;} .blockgrid td {padding: 0px;} #blocksc7ad2c5f-93c5-4ac2-8c3b-a3a9679ed5b0 td {border: 1px solid white;}</style><table id=\"blocksc7ad2c5f-93c5-4ac2-8c3b-a3a9679ed5b0\" class=\"blockgrid\"><tbody><tr><td title=\"Index: [0, 0]&#10;Color: (135, 206, 235)\" style=\"width: 20px; height: 20px;background-color: rgb(135, 206, 235);\"></td><td title=\"Index: [0, 1]&#10;Color: (135, 206, 235)\" style=\"width: 20px; height: 20px;background-color: rgb(135, 206, 235);\"></td><td title=\"Index: [0, 2]&#10;Color: (135, 206, 235)\" style=\"width: 20px; height: 20px;background-color: rgb(135, 206, 235);\"></td><td title=\"Index: [0, 3]&#10;Color: (135, 206, 235)\" style=\"width: 20px; height: 20px;background-color: rgb(135, 206, 235);\"></td><td title=\"Index: [0, 4]&#10;Color: (135, 206, 235)\" style=\"width: 20px; height: 20px;background-color: rgb(135, 206, 235);\"></td><td title=\"Index: [0, 5]&#10;Color: (135, 206, 235)\" style=\"width: 20px; height: 20px;background-color: rgb(135, 206, 235);\"></td><td title=\"Index: [0, 6]&#10;Color: (135, 206, 235)\" style=\"width: 20px; height: 20px;background-color: rgb(135, 206, 235);\"></td><td title=\"Index: [0, 7]&#10;Color: (135, 206, 235)\" style=\"width: 20px; height: 20px;background-color: rgb(135, 206, 235);\"></td><td title=\"Index: [0, 8]&#10;Color: (135, 206, 235)\" style=\"width: 20px; height: 20px;background-color: rgb(135, 206, 235);\"></td><td title=\"Index: [0, 9]&#10;Color: (135, 206, 235)\" style=\"width: 20px; height: 20px;background-color: rgb(135, 206, 235);\"></td></tr><tr><td title=\"Index: [1, 0]&#10;Color: (135, 206, 235)\" style=\"width: 20px; height: 20px;background-color: rgb(135, 206, 235);\"></td><td title=\"Index: [1, 1]&#10;Color: (0, 0, 0)\" style=\"width: 20px; height: 20px;background-color: rgb(0, 0, 0);\"></td><td title=\"Index: [1, 2]&#10;Color: (135, 206, 235)\" style=\"width: 20px; height: 20px;background-color: rgb(135, 206, 235);\"></td><td title=\"Index: [1, 3]&#10;Color: (135, 206, 235)\" style=\"width: 20px; height: 20px;background-color: rgb(135, 206, 235);\"></td><td title=\"Index: [1, 4]&#10;Color: (135, 206, 235)\" style=\"width: 20px; height: 20px;background-color: rgb(135, 206, 235);\"></td><td title=\"Index: [1, 5]&#10;Color: (135, 206, 235)\" style=\"width: 20px; height: 20px;background-color: rgb(135, 206, 235);\"></td><td title=\"Index: [1, 6]&#10;Color: (135, 206, 235)\" style=\"width: 20px; height: 20px;background-color: rgb(135, 206, 235);\"></td><td title=\"Index: [1, 7]&#10;Color: (135, 206, 235)\" style=\"width: 20px; height: 20px;background-color: rgb(135, 206, 235);\"></td><td title=\"Index: [1, 8]&#10;Color: (135, 206, 235)\" style=\"width: 20px; height: 20px;background-color: rgb(135, 206, 235);\"></td><td title=\"Index: [1, 9]&#10;Color: (135, 206, 235)\" style=\"width: 20px; height: 20px;background-color: rgb(135, 206, 235);\"></td></tr><tr><td title=\"Index: [2, 0]&#10;Color: (135, 206, 235)\" style=\"width: 20px; height: 20px;background-color: rgb(135, 206, 235);\"></td><td title=\"Index: [2, 1]&#10;Color: (135, 206, 235)\" style=\"width: 20px; height: 20px;background-color: rgb(135, 206, 235);\"></td><td title=\"Index: [2, 2]&#10;Color: (135, 206, 235)\" style=\"width: 20px; height: 20px;background-color: rgb(135, 206, 235);\"></td><td title=\"Index: [2, 3]&#10;Color: (135, 206, 235)\" style=\"width: 20px; height: 20px;background-color: rgb(135, 206, 235);\"></td><td title=\"Index: [2, 4]&#10;Color: (135, 206, 235)\" style=\"width: 20px; height: 20px;background-color: rgb(135, 206, 235);\"></td><td title=\"Index: [2, 5]&#10;Color: (135, 206, 235)\" style=\"width: 20px; height: 20px;background-color: rgb(135, 206, 235);\"></td><td title=\"Index: [2, 6]&#10;Color: (135, 206, 235)\" style=\"width: 20px; height: 20px;background-color: rgb(135, 206, 235);\"></td><td title=\"Index: [2, 7]&#10;Color: (135, 206, 235)\" style=\"width: 20px; height: 20px;background-color: rgb(135, 206, 235);\"></td><td title=\"Index: [2, 8]&#10;Color: (135, 206, 235)\" style=\"width: 20px; height: 20px;background-color: rgb(135, 206, 235);\"></td><td title=\"Index: [2, 9]&#10;Color: (135, 206, 235)\" style=\"width: 20px; height: 20px;background-color: rgb(135, 206, 235);\"></td></tr><tr><td title=\"Index: [3, 0]&#10;Color: (135, 206, 235)\" style=\"width: 20px; height: 20px;background-color: rgb(135, 206, 235);\"></td><td title=\"Index: [3, 1]&#10;Color: (135, 206, 235)\" style=\"width: 20px; height: 20px;background-color: rgb(135, 206, 235);\"></td><td title=\"Index: [3, 2]&#10;Color: (135, 206, 235)\" style=\"width: 20px; height: 20px;background-color: rgb(135, 206, 235);\"></td><td title=\"Index: [3, 3]&#10;Color: (135, 206, 235)\" style=\"width: 20px; height: 20px;background-color: rgb(135, 206, 235);\"></td><td title=\"Index: [3, 4]&#10;Color: (135, 206, 235)\" style=\"width: 20px; height: 20px;background-color: rgb(135, 206, 235);\"></td><td title=\"Index: [3, 5]&#10;Color: (135, 206, 235)\" style=\"width: 20px; height: 20px;background-color: rgb(135, 206, 235);\"></td><td title=\"Index: [3, 6]&#10;Color: (135, 206, 235)\" style=\"width: 20px; height: 20px;background-color: rgb(135, 206, 235);\"></td><td title=\"Index: [3, 7]&#10;Color: (135, 206, 235)\" style=\"width: 20px; height: 20px;background-color: rgb(135, 206, 235);\"></td><td title=\"Index: [3, 8]&#10;Color: (135, 206, 235)\" style=\"width: 20px; height: 20px;background-color: rgb(135, 206, 235);\"></td><td title=\"Index: [3, 9]&#10;Color: (135, 206, 235)\" style=\"width: 20px; height: 20px;background-color: rgb(135, 206, 235);\"></td></tr><tr><td title=\"Index: [4, 0]&#10;Color: (135, 206, 235)\" style=\"width: 20px; height: 20px;background-color: rgb(135, 206, 235);\"></td><td title=\"Index: [4, 1]&#10;Color: (135, 206, 235)\" style=\"width: 20px; height: 20px;background-color: rgb(135, 206, 235);\"></td><td title=\"Index: [4, 2]&#10;Color: (135, 206, 235)\" style=\"width: 20px; height: 20px;background-color: rgb(135, 206, 235);\"></td><td title=\"Index: [4, 3]&#10;Color: (135, 206, 235)\" style=\"width: 20px; height: 20px;background-color: rgb(135, 206, 235);\"></td><td title=\"Index: [4, 4]&#10;Color: (135, 206, 235)\" style=\"width: 20px; height: 20px;background-color: rgb(135, 206, 235);\"></td><td title=\"Index: [4, 5]&#10;Color: (135, 206, 235)\" style=\"width: 20px; height: 20px;background-color: rgb(135, 206, 235);\"></td><td title=\"Index: [4, 6]&#10;Color: (135, 206, 235)\" style=\"width: 20px; height: 20px;background-color: rgb(135, 206, 235);\"></td><td title=\"Index: [4, 7]&#10;Color: (135, 206, 235)\" style=\"width: 20px; height: 20px;background-color: rgb(135, 206, 235);\"></td><td title=\"Index: [4, 8]&#10;Color: (135, 206, 235)\" style=\"width: 20px; height: 20px;background-color: rgb(135, 206, 235);\"></td><td title=\"Index: [4, 9]&#10;Color: (135, 206, 235)\" style=\"width: 20px; height: 20px;background-color: rgb(135, 206, 235);\"></td></tr><tr><td title=\"Index: [5, 0]&#10;Color: (135, 206, 235)\" style=\"width: 20px; height: 20px;background-color: rgb(135, 206, 235);\"></td><td title=\"Index: [5, 1]&#10;Color: (135, 206, 235)\" style=\"width: 20px; height: 20px;background-color: rgb(135, 206, 235);\"></td><td title=\"Index: [5, 2]&#10;Color: (135, 206, 235)\" style=\"width: 20px; height: 20px;background-color: rgb(135, 206, 235);\"></td><td title=\"Index: [5, 3]&#10;Color: (135, 206, 235)\" style=\"width: 20px; height: 20px;background-color: rgb(135, 206, 235);\"></td><td title=\"Index: [5, 4]&#10;Color: (135, 206, 235)\" style=\"width: 20px; height: 20px;background-color: rgb(135, 206, 235);\"></td><td title=\"Index: [5, 5]&#10;Color: (135, 206, 235)\" style=\"width: 20px; height: 20px;background-color: rgb(135, 206, 235);\"></td><td title=\"Index: [5, 6]&#10;Color: (135, 206, 235)\" style=\"width: 20px; height: 20px;background-color: rgb(135, 206, 235);\"></td><td title=\"Index: [5, 7]&#10;Color: (135, 206, 235)\" style=\"width: 20px; height: 20px;background-color: rgb(135, 206, 235);\"></td><td title=\"Index: [5, 8]&#10;Color: (135, 206, 235)\" style=\"width: 20px; height: 20px;background-color: rgb(135, 206, 235);\"></td><td title=\"Index: [5, 9]&#10;Color: (135, 206, 235)\" style=\"width: 20px; height: 20px;background-color: rgb(135, 206, 235);\"></td></tr><tr><td title=\"Index: [6, 0]&#10;Color: (135, 206, 235)\" style=\"width: 20px; height: 20px;background-color: rgb(135, 206, 235);\"></td><td title=\"Index: [6, 1]&#10;Color: (135, 206, 235)\" style=\"width: 20px; height: 20px;background-color: rgb(135, 206, 235);\"></td><td title=\"Index: [6, 2]&#10;Color: (135, 206, 235)\" style=\"width: 20px; height: 20px;background-color: rgb(135, 206, 235);\"></td><td title=\"Index: [6, 3]&#10;Color: (135, 206, 235)\" style=\"width: 20px; height: 20px;background-color: rgb(135, 206, 235);\"></td><td title=\"Index: [6, 4]&#10;Color: (135, 206, 235)\" style=\"width: 20px; height: 20px;background-color: rgb(135, 206, 235);\"></td><td title=\"Index: [6, 5]&#10;Color: (135, 206, 235)\" style=\"width: 20px; height: 20px;background-color: rgb(135, 206, 235);\"></td><td title=\"Index: [6, 6]&#10;Color: (135, 206, 235)\" style=\"width: 20px; height: 20px;background-color: rgb(135, 206, 235);\"></td><td title=\"Index: [6, 7]&#10;Color: (135, 206, 235)\" style=\"width: 20px; height: 20px;background-color: rgb(135, 206, 235);\"></td><td title=\"Index: [6, 8]&#10;Color: (135, 206, 235)\" style=\"width: 20px; height: 20px;background-color: rgb(135, 206, 235);\"></td><td title=\"Index: [6, 9]&#10;Color: (135, 206, 235)\" style=\"width: 20px; height: 20px;background-color: rgb(135, 206, 235);\"></td></tr><tr><td title=\"Index: [7, 0]&#10;Color: (135, 206, 235)\" style=\"width: 20px; height: 20px;background-color: rgb(135, 206, 235);\"></td><td title=\"Index: [7, 1]&#10;Color: (135, 206, 235)\" style=\"width: 20px; height: 20px;background-color: rgb(135, 206, 235);\"></td><td title=\"Index: [7, 2]&#10;Color: (135, 206, 235)\" style=\"width: 20px; height: 20px;background-color: rgb(135, 206, 235);\"></td><td title=\"Index: [7, 3]&#10;Color: (135, 206, 235)\" style=\"width: 20px; height: 20px;background-color: rgb(135, 206, 235);\"></td><td title=\"Index: [7, 4]&#10;Color: (135, 206, 235)\" style=\"width: 20px; height: 20px;background-color: rgb(135, 206, 235);\"></td><td title=\"Index: [7, 5]&#10;Color: (135, 206, 235)\" style=\"width: 20px; height: 20px;background-color: rgb(135, 206, 235);\"></td><td title=\"Index: [7, 6]&#10;Color: (135, 206, 235)\" style=\"width: 20px; height: 20px;background-color: rgb(135, 206, 235);\"></td><td title=\"Index: [7, 7]&#10;Color: (135, 206, 235)\" style=\"width: 20px; height: 20px;background-color: rgb(135, 206, 235);\"></td><td title=\"Index: [7, 8]&#10;Color: (135, 206, 235)\" style=\"width: 20px; height: 20px;background-color: rgb(135, 206, 235);\"></td><td title=\"Index: [7, 9]&#10;Color: (135, 206, 235)\" style=\"width: 20px; height: 20px;background-color: rgb(135, 206, 235);\"></td></tr><tr><td title=\"Index: [8, 0]&#10;Color: (135, 206, 235)\" style=\"width: 20px; height: 20px;background-color: rgb(135, 206, 235);\"></td><td title=\"Index: [8, 1]&#10;Color: (135, 206, 235)\" style=\"width: 20px; height: 20px;background-color: rgb(135, 206, 235);\"></td><td title=\"Index: [8, 2]&#10;Color: (135, 206, 235)\" style=\"width: 20px; height: 20px;background-color: rgb(135, 206, 235);\"></td><td title=\"Index: [8, 3]&#10;Color: (135, 206, 235)\" style=\"width: 20px; height: 20px;background-color: rgb(135, 206, 235);\"></td><td title=\"Index: [8, 4]&#10;Color: (135, 206, 235)\" style=\"width: 20px; height: 20px;background-color: rgb(135, 206, 235);\"></td><td title=\"Index: [8, 5]&#10;Color: (135, 206, 235)\" style=\"width: 20px; height: 20px;background-color: rgb(135, 206, 235);\"></td><td title=\"Index: [8, 6]&#10;Color: (135, 206, 235)\" style=\"width: 20px; height: 20px;background-color: rgb(135, 206, 235);\"></td><td title=\"Index: [8, 7]&#10;Color: (135, 206, 235)\" style=\"width: 20px; height: 20px;background-color: rgb(135, 206, 235);\"></td><td title=\"Index: [8, 8]&#10;Color: (135, 206, 235)\" style=\"width: 20px; height: 20px;background-color: rgb(135, 206, 235);\"></td><td title=\"Index: [8, 9]&#10;Color: (135, 206, 235)\" style=\"width: 20px; height: 20px;background-color: rgb(135, 206, 235);\"></td></tr><tr><td title=\"Index: [9, 0]&#10;Color: (135, 206, 235)\" style=\"width: 20px; height: 20px;background-color: rgb(135, 206, 235);\"></td><td title=\"Index: [9, 1]&#10;Color: (135, 206, 235)\" style=\"width: 20px; height: 20px;background-color: rgb(135, 206, 235);\"></td><td title=\"Index: [9, 2]&#10;Color: (135, 206, 235)\" style=\"width: 20px; height: 20px;background-color: rgb(135, 206, 235);\"></td><td title=\"Index: [9, 3]&#10;Color: (135, 206, 235)\" style=\"width: 20px; height: 20px;background-color: rgb(135, 206, 235);\"></td><td title=\"Index: [9, 4]&#10;Color: (135, 206, 235)\" style=\"width: 20px; height: 20px;background-color: rgb(135, 206, 235);\"></td><td title=\"Index: [9, 5]&#10;Color: (135, 206, 235)\" style=\"width: 20px; height: 20px;background-color: rgb(135, 206, 235);\"></td><td title=\"Index: [9, 6]&#10;Color: (135, 206, 235)\" style=\"width: 20px; height: 20px;background-color: rgb(135, 206, 235);\"></td><td title=\"Index: [9, 7]&#10;Color: (135, 206, 235)\" style=\"width: 20px; height: 20px;background-color: rgb(135, 206, 235);\"></td><td title=\"Index: [9, 8]&#10;Color: (135, 206, 235)\" style=\"width: 20px; height: 20px;background-color: rgb(135, 206, 235);\"></td><td title=\"Index: [9, 9]&#10;Color: (135, 206, 235)\" style=\"width: 20px; height: 20px;background-color: rgb(135, 206, 235);\"></td></tr></tbody></table>"
       ],
       "metadata": {},
       "output_type": "display_data",
       "text": [
        "<IPython.core.display.HTML at 0x1de03c8>"
       ]
      },
      {
       "name": "stdout",
       "output_type": "stream",
       "stream": "stdout",
       "text": [
        "Guess Row:1\n"
       ]
      },
      {
       "name": "stdout",
       "output_type": "stream",
       "stream": "stdout",
       "text": [
        "Guess Col:1\n"
       ]
      },
      {
       "output_type": "stream",
       "stream": "stdout",
       "text": [
        "You guessed that one already.\n",
        "\n",
        "Turn 3\n"
       ]
      },
      {
       "html": [
        "<style type=\"text/css\">table.blockgrid {border: none;} .blockgrid tr {border: none;} .blockgrid td {padding: 0px;} #blocks1fb9099f-c275-4372-b89e-186e7d0b7a51 td {border: 1px solid white;}</style><table id=\"blocks1fb9099f-c275-4372-b89e-186e7d0b7a51\" class=\"blockgrid\"><tbody><tr><td title=\"Index: [0, 0]&#10;Color: (135, 206, 235)\" style=\"width: 20px; height: 20px;background-color: rgb(135, 206, 235);\"></td><td title=\"Index: [0, 1]&#10;Color: (135, 206, 235)\" style=\"width: 20px; height: 20px;background-color: rgb(135, 206, 235);\"></td><td title=\"Index: [0, 2]&#10;Color: (135, 206, 235)\" style=\"width: 20px; height: 20px;background-color: rgb(135, 206, 235);\"></td><td title=\"Index: [0, 3]&#10;Color: (135, 206, 235)\" style=\"width: 20px; height: 20px;background-color: rgb(135, 206, 235);\"></td><td title=\"Index: [0, 4]&#10;Color: (135, 206, 235)\" style=\"width: 20px; height: 20px;background-color: rgb(135, 206, 235);\"></td><td title=\"Index: [0, 5]&#10;Color: (135, 206, 235)\" style=\"width: 20px; height: 20px;background-color: rgb(135, 206, 235);\"></td><td title=\"Index: [0, 6]&#10;Color: (135, 206, 235)\" style=\"width: 20px; height: 20px;background-color: rgb(135, 206, 235);\"></td><td title=\"Index: [0, 7]&#10;Color: (135, 206, 235)\" style=\"width: 20px; height: 20px;background-color: rgb(135, 206, 235);\"></td><td title=\"Index: [0, 8]&#10;Color: (135, 206, 235)\" style=\"width: 20px; height: 20px;background-color: rgb(135, 206, 235);\"></td><td title=\"Index: [0, 9]&#10;Color: (135, 206, 235)\" style=\"width: 20px; height: 20px;background-color: rgb(135, 206, 235);\"></td></tr><tr><td title=\"Index: [1, 0]&#10;Color: (135, 206, 235)\" style=\"width: 20px; height: 20px;background-color: rgb(135, 206, 235);\"></td><td title=\"Index: [1, 1]&#10;Color: (0, 0, 0)\" style=\"width: 20px; height: 20px;background-color: rgb(0, 0, 0);\"></td><td title=\"Index: [1, 2]&#10;Color: (135, 206, 235)\" style=\"width: 20px; height: 20px;background-color: rgb(135, 206, 235);\"></td><td title=\"Index: [1, 3]&#10;Color: (135, 206, 235)\" style=\"width: 20px; height: 20px;background-color: rgb(135, 206, 235);\"></td><td title=\"Index: [1, 4]&#10;Color: (135, 206, 235)\" style=\"width: 20px; height: 20px;background-color: rgb(135, 206, 235);\"></td><td title=\"Index: [1, 5]&#10;Color: (135, 206, 235)\" style=\"width: 20px; height: 20px;background-color: rgb(135, 206, 235);\"></td><td title=\"Index: [1, 6]&#10;Color: (135, 206, 235)\" style=\"width: 20px; height: 20px;background-color: rgb(135, 206, 235);\"></td><td title=\"Index: [1, 7]&#10;Color: (135, 206, 235)\" style=\"width: 20px; height: 20px;background-color: rgb(135, 206, 235);\"></td><td title=\"Index: [1, 8]&#10;Color: (135, 206, 235)\" style=\"width: 20px; height: 20px;background-color: rgb(135, 206, 235);\"></td><td title=\"Index: [1, 9]&#10;Color: (135, 206, 235)\" style=\"width: 20px; height: 20px;background-color: rgb(135, 206, 235);\"></td></tr><tr><td title=\"Index: [2, 0]&#10;Color: (135, 206, 235)\" style=\"width: 20px; height: 20px;background-color: rgb(135, 206, 235);\"></td><td title=\"Index: [2, 1]&#10;Color: (135, 206, 235)\" style=\"width: 20px; height: 20px;background-color: rgb(135, 206, 235);\"></td><td title=\"Index: [2, 2]&#10;Color: (135, 206, 235)\" style=\"width: 20px; height: 20px;background-color: rgb(135, 206, 235);\"></td><td title=\"Index: [2, 3]&#10;Color: (135, 206, 235)\" style=\"width: 20px; height: 20px;background-color: rgb(135, 206, 235);\"></td><td title=\"Index: [2, 4]&#10;Color: (135, 206, 235)\" style=\"width: 20px; height: 20px;background-color: rgb(135, 206, 235);\"></td><td title=\"Index: [2, 5]&#10;Color: (135, 206, 235)\" style=\"width: 20px; height: 20px;background-color: rgb(135, 206, 235);\"></td><td title=\"Index: [2, 6]&#10;Color: (135, 206, 235)\" style=\"width: 20px; height: 20px;background-color: rgb(135, 206, 235);\"></td><td title=\"Index: [2, 7]&#10;Color: (135, 206, 235)\" style=\"width: 20px; height: 20px;background-color: rgb(135, 206, 235);\"></td><td title=\"Index: [2, 8]&#10;Color: (135, 206, 235)\" style=\"width: 20px; height: 20px;background-color: rgb(135, 206, 235);\"></td><td title=\"Index: [2, 9]&#10;Color: (135, 206, 235)\" style=\"width: 20px; height: 20px;background-color: rgb(135, 206, 235);\"></td></tr><tr><td title=\"Index: [3, 0]&#10;Color: (135, 206, 235)\" style=\"width: 20px; height: 20px;background-color: rgb(135, 206, 235);\"></td><td title=\"Index: [3, 1]&#10;Color: (135, 206, 235)\" style=\"width: 20px; height: 20px;background-color: rgb(135, 206, 235);\"></td><td title=\"Index: [3, 2]&#10;Color: (135, 206, 235)\" style=\"width: 20px; height: 20px;background-color: rgb(135, 206, 235);\"></td><td title=\"Index: [3, 3]&#10;Color: (135, 206, 235)\" style=\"width: 20px; height: 20px;background-color: rgb(135, 206, 235);\"></td><td title=\"Index: [3, 4]&#10;Color: (135, 206, 235)\" style=\"width: 20px; height: 20px;background-color: rgb(135, 206, 235);\"></td><td title=\"Index: [3, 5]&#10;Color: (135, 206, 235)\" style=\"width: 20px; height: 20px;background-color: rgb(135, 206, 235);\"></td><td title=\"Index: [3, 6]&#10;Color: (135, 206, 235)\" style=\"width: 20px; height: 20px;background-color: rgb(135, 206, 235);\"></td><td title=\"Index: [3, 7]&#10;Color: (135, 206, 235)\" style=\"width: 20px; height: 20px;background-color: rgb(135, 206, 235);\"></td><td title=\"Index: [3, 8]&#10;Color: (135, 206, 235)\" style=\"width: 20px; height: 20px;background-color: rgb(135, 206, 235);\"></td><td title=\"Index: [3, 9]&#10;Color: (135, 206, 235)\" style=\"width: 20px; height: 20px;background-color: rgb(135, 206, 235);\"></td></tr><tr><td title=\"Index: [4, 0]&#10;Color: (135, 206, 235)\" style=\"width: 20px; height: 20px;background-color: rgb(135, 206, 235);\"></td><td title=\"Index: [4, 1]&#10;Color: (135, 206, 235)\" style=\"width: 20px; height: 20px;background-color: rgb(135, 206, 235);\"></td><td title=\"Index: [4, 2]&#10;Color: (135, 206, 235)\" style=\"width: 20px; height: 20px;background-color: rgb(135, 206, 235);\"></td><td title=\"Index: [4, 3]&#10;Color: (135, 206, 235)\" style=\"width: 20px; height: 20px;background-color: rgb(135, 206, 235);\"></td><td title=\"Index: [4, 4]&#10;Color: (135, 206, 235)\" style=\"width: 20px; height: 20px;background-color: rgb(135, 206, 235);\"></td><td title=\"Index: [4, 5]&#10;Color: (135, 206, 235)\" style=\"width: 20px; height: 20px;background-color: rgb(135, 206, 235);\"></td><td title=\"Index: [4, 6]&#10;Color: (135, 206, 235)\" style=\"width: 20px; height: 20px;background-color: rgb(135, 206, 235);\"></td><td title=\"Index: [4, 7]&#10;Color: (135, 206, 235)\" style=\"width: 20px; height: 20px;background-color: rgb(135, 206, 235);\"></td><td title=\"Index: [4, 8]&#10;Color: (135, 206, 235)\" style=\"width: 20px; height: 20px;background-color: rgb(135, 206, 235);\"></td><td title=\"Index: [4, 9]&#10;Color: (135, 206, 235)\" style=\"width: 20px; height: 20px;background-color: rgb(135, 206, 235);\"></td></tr><tr><td title=\"Index: [5, 0]&#10;Color: (135, 206, 235)\" style=\"width: 20px; height: 20px;background-color: rgb(135, 206, 235);\"></td><td title=\"Index: [5, 1]&#10;Color: (135, 206, 235)\" style=\"width: 20px; height: 20px;background-color: rgb(135, 206, 235);\"></td><td title=\"Index: [5, 2]&#10;Color: (135, 206, 235)\" style=\"width: 20px; height: 20px;background-color: rgb(135, 206, 235);\"></td><td title=\"Index: [5, 3]&#10;Color: (135, 206, 235)\" style=\"width: 20px; height: 20px;background-color: rgb(135, 206, 235);\"></td><td title=\"Index: [5, 4]&#10;Color: (135, 206, 235)\" style=\"width: 20px; height: 20px;background-color: rgb(135, 206, 235);\"></td><td title=\"Index: [5, 5]&#10;Color: (135, 206, 235)\" style=\"width: 20px; height: 20px;background-color: rgb(135, 206, 235);\"></td><td title=\"Index: [5, 6]&#10;Color: (135, 206, 235)\" style=\"width: 20px; height: 20px;background-color: rgb(135, 206, 235);\"></td><td title=\"Index: [5, 7]&#10;Color: (135, 206, 235)\" style=\"width: 20px; height: 20px;background-color: rgb(135, 206, 235);\"></td><td title=\"Index: [5, 8]&#10;Color: (135, 206, 235)\" style=\"width: 20px; height: 20px;background-color: rgb(135, 206, 235);\"></td><td title=\"Index: [5, 9]&#10;Color: (135, 206, 235)\" style=\"width: 20px; height: 20px;background-color: rgb(135, 206, 235);\"></td></tr><tr><td title=\"Index: [6, 0]&#10;Color: (135, 206, 235)\" style=\"width: 20px; height: 20px;background-color: rgb(135, 206, 235);\"></td><td title=\"Index: [6, 1]&#10;Color: (135, 206, 235)\" style=\"width: 20px; height: 20px;background-color: rgb(135, 206, 235);\"></td><td title=\"Index: [6, 2]&#10;Color: (135, 206, 235)\" style=\"width: 20px; height: 20px;background-color: rgb(135, 206, 235);\"></td><td title=\"Index: [6, 3]&#10;Color: (135, 206, 235)\" style=\"width: 20px; height: 20px;background-color: rgb(135, 206, 235);\"></td><td title=\"Index: [6, 4]&#10;Color: (135, 206, 235)\" style=\"width: 20px; height: 20px;background-color: rgb(135, 206, 235);\"></td><td title=\"Index: [6, 5]&#10;Color: (135, 206, 235)\" style=\"width: 20px; height: 20px;background-color: rgb(135, 206, 235);\"></td><td title=\"Index: [6, 6]&#10;Color: (135, 206, 235)\" style=\"width: 20px; height: 20px;background-color: rgb(135, 206, 235);\"></td><td title=\"Index: [6, 7]&#10;Color: (135, 206, 235)\" style=\"width: 20px; height: 20px;background-color: rgb(135, 206, 235);\"></td><td title=\"Index: [6, 8]&#10;Color: (135, 206, 235)\" style=\"width: 20px; height: 20px;background-color: rgb(135, 206, 235);\"></td><td title=\"Index: [6, 9]&#10;Color: (135, 206, 235)\" style=\"width: 20px; height: 20px;background-color: rgb(135, 206, 235);\"></td></tr><tr><td title=\"Index: [7, 0]&#10;Color: (135, 206, 235)\" style=\"width: 20px; height: 20px;background-color: rgb(135, 206, 235);\"></td><td title=\"Index: [7, 1]&#10;Color: (135, 206, 235)\" style=\"width: 20px; height: 20px;background-color: rgb(135, 206, 235);\"></td><td title=\"Index: [7, 2]&#10;Color: (135, 206, 235)\" style=\"width: 20px; height: 20px;background-color: rgb(135, 206, 235);\"></td><td title=\"Index: [7, 3]&#10;Color: (135, 206, 235)\" style=\"width: 20px; height: 20px;background-color: rgb(135, 206, 235);\"></td><td title=\"Index: [7, 4]&#10;Color: (135, 206, 235)\" style=\"width: 20px; height: 20px;background-color: rgb(135, 206, 235);\"></td><td title=\"Index: [7, 5]&#10;Color: (135, 206, 235)\" style=\"width: 20px; height: 20px;background-color: rgb(135, 206, 235);\"></td><td title=\"Index: [7, 6]&#10;Color: (135, 206, 235)\" style=\"width: 20px; height: 20px;background-color: rgb(135, 206, 235);\"></td><td title=\"Index: [7, 7]&#10;Color: (135, 206, 235)\" style=\"width: 20px; height: 20px;background-color: rgb(135, 206, 235);\"></td><td title=\"Index: [7, 8]&#10;Color: (135, 206, 235)\" style=\"width: 20px; height: 20px;background-color: rgb(135, 206, 235);\"></td><td title=\"Index: [7, 9]&#10;Color: (135, 206, 235)\" style=\"width: 20px; height: 20px;background-color: rgb(135, 206, 235);\"></td></tr><tr><td title=\"Index: [8, 0]&#10;Color: (135, 206, 235)\" style=\"width: 20px; height: 20px;background-color: rgb(135, 206, 235);\"></td><td title=\"Index: [8, 1]&#10;Color: (135, 206, 235)\" style=\"width: 20px; height: 20px;background-color: rgb(135, 206, 235);\"></td><td title=\"Index: [8, 2]&#10;Color: (135, 206, 235)\" style=\"width: 20px; height: 20px;background-color: rgb(135, 206, 235);\"></td><td title=\"Index: [8, 3]&#10;Color: (135, 206, 235)\" style=\"width: 20px; height: 20px;background-color: rgb(135, 206, 235);\"></td><td title=\"Index: [8, 4]&#10;Color: (135, 206, 235)\" style=\"width: 20px; height: 20px;background-color: rgb(135, 206, 235);\"></td><td title=\"Index: [8, 5]&#10;Color: (135, 206, 235)\" style=\"width: 20px; height: 20px;background-color: rgb(135, 206, 235);\"></td><td title=\"Index: [8, 6]&#10;Color: (135, 206, 235)\" style=\"width: 20px; height: 20px;background-color: rgb(135, 206, 235);\"></td><td title=\"Index: [8, 7]&#10;Color: (135, 206, 235)\" style=\"width: 20px; height: 20px;background-color: rgb(135, 206, 235);\"></td><td title=\"Index: [8, 8]&#10;Color: (135, 206, 235)\" style=\"width: 20px; height: 20px;background-color: rgb(135, 206, 235);\"></td><td title=\"Index: [8, 9]&#10;Color: (135, 206, 235)\" style=\"width: 20px; height: 20px;background-color: rgb(135, 206, 235);\"></td></tr><tr><td title=\"Index: [9, 0]&#10;Color: (135, 206, 235)\" style=\"width: 20px; height: 20px;background-color: rgb(135, 206, 235);\"></td><td title=\"Index: [9, 1]&#10;Color: (135, 206, 235)\" style=\"width: 20px; height: 20px;background-color: rgb(135, 206, 235);\"></td><td title=\"Index: [9, 2]&#10;Color: (135, 206, 235)\" style=\"width: 20px; height: 20px;background-color: rgb(135, 206, 235);\"></td><td title=\"Index: [9, 3]&#10;Color: (135, 206, 235)\" style=\"width: 20px; height: 20px;background-color: rgb(135, 206, 235);\"></td><td title=\"Index: [9, 4]&#10;Color: (135, 206, 235)\" style=\"width: 20px; height: 20px;background-color: rgb(135, 206, 235);\"></td><td title=\"Index: [9, 5]&#10;Color: (135, 206, 235)\" style=\"width: 20px; height: 20px;background-color: rgb(135, 206, 235);\"></td><td title=\"Index: [9, 6]&#10;Color: (135, 206, 235)\" style=\"width: 20px; height: 20px;background-color: rgb(135, 206, 235);\"></td><td title=\"Index: [9, 7]&#10;Color: (135, 206, 235)\" style=\"width: 20px; height: 20px;background-color: rgb(135, 206, 235);\"></td><td title=\"Index: [9, 8]&#10;Color: (135, 206, 235)\" style=\"width: 20px; height: 20px;background-color: rgb(135, 206, 235);\"></td><td title=\"Index: [9, 9]&#10;Color: (135, 206, 235)\" style=\"width: 20px; height: 20px;background-color: rgb(135, 206, 235);\"></td></tr></tbody></table>"
       ],
       "metadata": {},
       "output_type": "display_data",
       "text": [
        "<IPython.core.display.HTML at 0x2c5a550>"
       ]
      },
      {
       "name": "stdout",
       "output_type": "stream",
       "stream": "stdout",
       "text": [
        "Guess Row:1\n"
       ]
      },
      {
       "name": "stdout",
       "output_type": "stream",
       "stream": "stdout",
       "text": [
        "Guess Col:1\n"
       ]
      },
      {
       "output_type": "stream",
       "stream": "stdout",
       "text": [
        "You guessed that one already.\n",
        "Game Over.\n",
        "The battleship was here \n"
       ]
      },
      {
       "html": [
        "<style type=\"text/css\">table.blockgrid {border: none;} .blockgrid tr {border: none;} .blockgrid td {padding: 0px;} #blocksf45090e9-c4e4-44d9-b796-2b5a12bafdaa td {border: 1px solid white;}</style><table id=\"blocksf45090e9-c4e4-44d9-b796-2b5a12bafdaa\" class=\"blockgrid\"><tbody><tr><td title=\"Index: [0, 0]&#10;Color: (135, 206, 235)\" style=\"width: 20px; height: 20px;background-color: rgb(135, 206, 235);\"></td><td title=\"Index: [0, 1]&#10;Color: (135, 206, 235)\" style=\"width: 20px; height: 20px;background-color: rgb(135, 206, 235);\"></td><td title=\"Index: [0, 2]&#10;Color: (135, 206, 235)\" style=\"width: 20px; height: 20px;background-color: rgb(135, 206, 235);\"></td><td title=\"Index: [0, 3]&#10;Color: (135, 206, 235)\" style=\"width: 20px; height: 20px;background-color: rgb(135, 206, 235);\"></td><td title=\"Index: [0, 4]&#10;Color: (135, 206, 235)\" style=\"width: 20px; height: 20px;background-color: rgb(135, 206, 235);\"></td><td title=\"Index: [0, 5]&#10;Color: (135, 206, 235)\" style=\"width: 20px; height: 20px;background-color: rgb(135, 206, 235);\"></td><td title=\"Index: [0, 6]&#10;Color: (135, 206, 235)\" style=\"width: 20px; height: 20px;background-color: rgb(135, 206, 235);\"></td><td title=\"Index: [0, 7]&#10;Color: (135, 206, 235)\" style=\"width: 20px; height: 20px;background-color: rgb(135, 206, 235);\"></td><td title=\"Index: [0, 8]&#10;Color: (135, 206, 235)\" style=\"width: 20px; height: 20px;background-color: rgb(135, 206, 235);\"></td><td title=\"Index: [0, 9]&#10;Color: (135, 206, 235)\" style=\"width: 20px; height: 20px;background-color: rgb(135, 206, 235);\"></td></tr><tr><td title=\"Index: [1, 0]&#10;Color: (135, 206, 235)\" style=\"width: 20px; height: 20px;background-color: rgb(135, 206, 235);\"></td><td title=\"Index: [1, 1]&#10;Color: (0, 0, 0)\" style=\"width: 20px; height: 20px;background-color: rgb(0, 0, 0);\"></td><td title=\"Index: [1, 2]&#10;Color: (135, 206, 235)\" style=\"width: 20px; height: 20px;background-color: rgb(135, 206, 235);\"></td><td title=\"Index: [1, 3]&#10;Color: (135, 206, 235)\" style=\"width: 20px; height: 20px;background-color: rgb(135, 206, 235);\"></td><td title=\"Index: [1, 4]&#10;Color: (255, 255, 0)\" style=\"width: 20px; height: 20px;background-color: rgb(255, 255, 0);\"></td><td title=\"Index: [1, 5]&#10;Color: (135, 206, 235)\" style=\"width: 20px; height: 20px;background-color: rgb(135, 206, 235);\"></td><td title=\"Index: [1, 6]&#10;Color: (135, 206, 235)\" style=\"width: 20px; height: 20px;background-color: rgb(135, 206, 235);\"></td><td title=\"Index: [1, 7]&#10;Color: (135, 206, 235)\" style=\"width: 20px; height: 20px;background-color: rgb(135, 206, 235);\"></td><td title=\"Index: [1, 8]&#10;Color: (135, 206, 235)\" style=\"width: 20px; height: 20px;background-color: rgb(135, 206, 235);\"></td><td title=\"Index: [1, 9]&#10;Color: (135, 206, 235)\" style=\"width: 20px; height: 20px;background-color: rgb(135, 206, 235);\"></td></tr><tr><td title=\"Index: [2, 0]&#10;Color: (135, 206, 235)\" style=\"width: 20px; height: 20px;background-color: rgb(135, 206, 235);\"></td><td title=\"Index: [2, 1]&#10;Color: (135, 206, 235)\" style=\"width: 20px; height: 20px;background-color: rgb(135, 206, 235);\"></td><td title=\"Index: [2, 2]&#10;Color: (135, 206, 235)\" style=\"width: 20px; height: 20px;background-color: rgb(135, 206, 235);\"></td><td title=\"Index: [2, 3]&#10;Color: (135, 206, 235)\" style=\"width: 20px; height: 20px;background-color: rgb(135, 206, 235);\"></td><td title=\"Index: [2, 4]&#10;Color: (135, 206, 235)\" style=\"width: 20px; height: 20px;background-color: rgb(135, 206, 235);\"></td><td title=\"Index: [2, 5]&#10;Color: (135, 206, 235)\" style=\"width: 20px; height: 20px;background-color: rgb(135, 206, 235);\"></td><td title=\"Index: [2, 6]&#10;Color: (135, 206, 235)\" style=\"width: 20px; height: 20px;background-color: rgb(135, 206, 235);\"></td><td title=\"Index: [2, 7]&#10;Color: (135, 206, 235)\" style=\"width: 20px; height: 20px;background-color: rgb(135, 206, 235);\"></td><td title=\"Index: [2, 8]&#10;Color: (135, 206, 235)\" style=\"width: 20px; height: 20px;background-color: rgb(135, 206, 235);\"></td><td title=\"Index: [2, 9]&#10;Color: (135, 206, 235)\" style=\"width: 20px; height: 20px;background-color: rgb(135, 206, 235);\"></td></tr><tr><td title=\"Index: [3, 0]&#10;Color: (135, 206, 235)\" style=\"width: 20px; height: 20px;background-color: rgb(135, 206, 235);\"></td><td title=\"Index: [3, 1]&#10;Color: (135, 206, 235)\" style=\"width: 20px; height: 20px;background-color: rgb(135, 206, 235);\"></td><td title=\"Index: [3, 2]&#10;Color: (135, 206, 235)\" style=\"width: 20px; height: 20px;background-color: rgb(135, 206, 235);\"></td><td title=\"Index: [3, 3]&#10;Color: (135, 206, 235)\" style=\"width: 20px; height: 20px;background-color: rgb(135, 206, 235);\"></td><td title=\"Index: [3, 4]&#10;Color: (135, 206, 235)\" style=\"width: 20px; height: 20px;background-color: rgb(135, 206, 235);\"></td><td title=\"Index: [3, 5]&#10;Color: (135, 206, 235)\" style=\"width: 20px; height: 20px;background-color: rgb(135, 206, 235);\"></td><td title=\"Index: [3, 6]&#10;Color: (135, 206, 235)\" style=\"width: 20px; height: 20px;background-color: rgb(135, 206, 235);\"></td><td title=\"Index: [3, 7]&#10;Color: (135, 206, 235)\" style=\"width: 20px; height: 20px;background-color: rgb(135, 206, 235);\"></td><td title=\"Index: [3, 8]&#10;Color: (135, 206, 235)\" style=\"width: 20px; height: 20px;background-color: rgb(135, 206, 235);\"></td><td title=\"Index: [3, 9]&#10;Color: (135, 206, 235)\" style=\"width: 20px; height: 20px;background-color: rgb(135, 206, 235);\"></td></tr><tr><td title=\"Index: [4, 0]&#10;Color: (135, 206, 235)\" style=\"width: 20px; height: 20px;background-color: rgb(135, 206, 235);\"></td><td title=\"Index: [4, 1]&#10;Color: (135, 206, 235)\" style=\"width: 20px; height: 20px;background-color: rgb(135, 206, 235);\"></td><td title=\"Index: [4, 2]&#10;Color: (135, 206, 235)\" style=\"width: 20px; height: 20px;background-color: rgb(135, 206, 235);\"></td><td title=\"Index: [4, 3]&#10;Color: (135, 206, 235)\" style=\"width: 20px; height: 20px;background-color: rgb(135, 206, 235);\"></td><td title=\"Index: [4, 4]&#10;Color: (135, 206, 235)\" style=\"width: 20px; height: 20px;background-color: rgb(135, 206, 235);\"></td><td title=\"Index: [4, 5]&#10;Color: (135, 206, 235)\" style=\"width: 20px; height: 20px;background-color: rgb(135, 206, 235);\"></td><td title=\"Index: [4, 6]&#10;Color: (135, 206, 235)\" style=\"width: 20px; height: 20px;background-color: rgb(135, 206, 235);\"></td><td title=\"Index: [4, 7]&#10;Color: (135, 206, 235)\" style=\"width: 20px; height: 20px;background-color: rgb(135, 206, 235);\"></td><td title=\"Index: [4, 8]&#10;Color: (135, 206, 235)\" style=\"width: 20px; height: 20px;background-color: rgb(135, 206, 235);\"></td><td title=\"Index: [4, 9]&#10;Color: (135, 206, 235)\" style=\"width: 20px; height: 20px;background-color: rgb(135, 206, 235);\"></td></tr><tr><td title=\"Index: [5, 0]&#10;Color: (135, 206, 235)\" style=\"width: 20px; height: 20px;background-color: rgb(135, 206, 235);\"></td><td title=\"Index: [5, 1]&#10;Color: (135, 206, 235)\" style=\"width: 20px; height: 20px;background-color: rgb(135, 206, 235);\"></td><td title=\"Index: [5, 2]&#10;Color: (135, 206, 235)\" style=\"width: 20px; height: 20px;background-color: rgb(135, 206, 235);\"></td><td title=\"Index: [5, 3]&#10;Color: (135, 206, 235)\" style=\"width: 20px; height: 20px;background-color: rgb(135, 206, 235);\"></td><td title=\"Index: [5, 4]&#10;Color: (135, 206, 235)\" style=\"width: 20px; height: 20px;background-color: rgb(135, 206, 235);\"></td><td title=\"Index: [5, 5]&#10;Color: (135, 206, 235)\" style=\"width: 20px; height: 20px;background-color: rgb(135, 206, 235);\"></td><td title=\"Index: [5, 6]&#10;Color: (135, 206, 235)\" style=\"width: 20px; height: 20px;background-color: rgb(135, 206, 235);\"></td><td title=\"Index: [5, 7]&#10;Color: (135, 206, 235)\" style=\"width: 20px; height: 20px;background-color: rgb(135, 206, 235);\"></td><td title=\"Index: [5, 8]&#10;Color: (135, 206, 235)\" style=\"width: 20px; height: 20px;background-color: rgb(135, 206, 235);\"></td><td title=\"Index: [5, 9]&#10;Color: (135, 206, 235)\" style=\"width: 20px; height: 20px;background-color: rgb(135, 206, 235);\"></td></tr><tr><td title=\"Index: [6, 0]&#10;Color: (135, 206, 235)\" style=\"width: 20px; height: 20px;background-color: rgb(135, 206, 235);\"></td><td title=\"Index: [6, 1]&#10;Color: (135, 206, 235)\" style=\"width: 20px; height: 20px;background-color: rgb(135, 206, 235);\"></td><td title=\"Index: [6, 2]&#10;Color: (135, 206, 235)\" style=\"width: 20px; height: 20px;background-color: rgb(135, 206, 235);\"></td><td title=\"Index: [6, 3]&#10;Color: (135, 206, 235)\" style=\"width: 20px; height: 20px;background-color: rgb(135, 206, 235);\"></td><td title=\"Index: [6, 4]&#10;Color: (135, 206, 235)\" style=\"width: 20px; height: 20px;background-color: rgb(135, 206, 235);\"></td><td title=\"Index: [6, 5]&#10;Color: (135, 206, 235)\" style=\"width: 20px; height: 20px;background-color: rgb(135, 206, 235);\"></td><td title=\"Index: [6, 6]&#10;Color: (135, 206, 235)\" style=\"width: 20px; height: 20px;background-color: rgb(135, 206, 235);\"></td><td title=\"Index: [6, 7]&#10;Color: (135, 206, 235)\" style=\"width: 20px; height: 20px;background-color: rgb(135, 206, 235);\"></td><td title=\"Index: [6, 8]&#10;Color: (135, 206, 235)\" style=\"width: 20px; height: 20px;background-color: rgb(135, 206, 235);\"></td><td title=\"Index: [6, 9]&#10;Color: (135, 206, 235)\" style=\"width: 20px; height: 20px;background-color: rgb(135, 206, 235);\"></td></tr><tr><td title=\"Index: [7, 0]&#10;Color: (135, 206, 235)\" style=\"width: 20px; height: 20px;background-color: rgb(135, 206, 235);\"></td><td title=\"Index: [7, 1]&#10;Color: (135, 206, 235)\" style=\"width: 20px; height: 20px;background-color: rgb(135, 206, 235);\"></td><td title=\"Index: [7, 2]&#10;Color: (135, 206, 235)\" style=\"width: 20px; height: 20px;background-color: rgb(135, 206, 235);\"></td><td title=\"Index: [7, 3]&#10;Color: (135, 206, 235)\" style=\"width: 20px; height: 20px;background-color: rgb(135, 206, 235);\"></td><td title=\"Index: [7, 4]&#10;Color: (135, 206, 235)\" style=\"width: 20px; height: 20px;background-color: rgb(135, 206, 235);\"></td><td title=\"Index: [7, 5]&#10;Color: (135, 206, 235)\" style=\"width: 20px; height: 20px;background-color: rgb(135, 206, 235);\"></td><td title=\"Index: [7, 6]&#10;Color: (135, 206, 235)\" style=\"width: 20px; height: 20px;background-color: rgb(135, 206, 235);\"></td><td title=\"Index: [7, 7]&#10;Color: (135, 206, 235)\" style=\"width: 20px; height: 20px;background-color: rgb(135, 206, 235);\"></td><td title=\"Index: [7, 8]&#10;Color: (135, 206, 235)\" style=\"width: 20px; height: 20px;background-color: rgb(135, 206, 235);\"></td><td title=\"Index: [7, 9]&#10;Color: (135, 206, 235)\" style=\"width: 20px; height: 20px;background-color: rgb(135, 206, 235);\"></td></tr><tr><td title=\"Index: [8, 0]&#10;Color: (135, 206, 235)\" style=\"width: 20px; height: 20px;background-color: rgb(135, 206, 235);\"></td><td title=\"Index: [8, 1]&#10;Color: (135, 206, 235)\" style=\"width: 20px; height: 20px;background-color: rgb(135, 206, 235);\"></td><td title=\"Index: [8, 2]&#10;Color: (135, 206, 235)\" style=\"width: 20px; height: 20px;background-color: rgb(135, 206, 235);\"></td><td title=\"Index: [8, 3]&#10;Color: (135, 206, 235)\" style=\"width: 20px; height: 20px;background-color: rgb(135, 206, 235);\"></td><td title=\"Index: [8, 4]&#10;Color: (135, 206, 235)\" style=\"width: 20px; height: 20px;background-color: rgb(135, 206, 235);\"></td><td title=\"Index: [8, 5]&#10;Color: (135, 206, 235)\" style=\"width: 20px; height: 20px;background-color: rgb(135, 206, 235);\"></td><td title=\"Index: [8, 6]&#10;Color: (135, 206, 235)\" style=\"width: 20px; height: 20px;background-color: rgb(135, 206, 235);\"></td><td title=\"Index: [8, 7]&#10;Color: (135, 206, 235)\" style=\"width: 20px; height: 20px;background-color: rgb(135, 206, 235);\"></td><td title=\"Index: [8, 8]&#10;Color: (135, 206, 235)\" style=\"width: 20px; height: 20px;background-color: rgb(135, 206, 235);\"></td><td title=\"Index: [8, 9]&#10;Color: (135, 206, 235)\" style=\"width: 20px; height: 20px;background-color: rgb(135, 206, 235);\"></td></tr><tr><td title=\"Index: [9, 0]&#10;Color: (135, 206, 235)\" style=\"width: 20px; height: 20px;background-color: rgb(135, 206, 235);\"></td><td title=\"Index: [9, 1]&#10;Color: (135, 206, 235)\" style=\"width: 20px; height: 20px;background-color: rgb(135, 206, 235);\"></td><td title=\"Index: [9, 2]&#10;Color: (135, 206, 235)\" style=\"width: 20px; height: 20px;background-color: rgb(135, 206, 235);\"></td><td title=\"Index: [9, 3]&#10;Color: (135, 206, 235)\" style=\"width: 20px; height: 20px;background-color: rgb(135, 206, 235);\"></td><td title=\"Index: [9, 4]&#10;Color: (135, 206, 235)\" style=\"width: 20px; height: 20px;background-color: rgb(135, 206, 235);\"></td><td title=\"Index: [9, 5]&#10;Color: (135, 206, 235)\" style=\"width: 20px; height: 20px;background-color: rgb(135, 206, 235);\"></td><td title=\"Index: [9, 6]&#10;Color: (135, 206, 235)\" style=\"width: 20px; height: 20px;background-color: rgb(135, 206, 235);\"></td><td title=\"Index: [9, 7]&#10;Color: (135, 206, 235)\" style=\"width: 20px; height: 20px;background-color: rgb(135, 206, 235);\"></td><td title=\"Index: [9, 8]&#10;Color: (135, 206, 235)\" style=\"width: 20px; height: 20px;background-color: rgb(135, 206, 235);\"></td><td title=\"Index: [9, 9]&#10;Color: (135, 206, 235)\" style=\"width: 20px; height: 20px;background-color: rgb(135, 206, 235);\"></td></tr></tbody></table>"
       ],
       "metadata": {},
       "output_type": "display_data",
       "text": [
        "<IPython.core.display.HTML at 0x1de02e8>"
       ]
      }
     ],
     "prompt_number": 1
    },
    {
     "cell_type": "code",
     "collapsed": false,
     "input": [],
     "language": "python",
     "metadata": {},
     "outputs": []
    },
    {
     "cell_type": "code",
     "collapsed": false,
     "input": [],
     "language": "python",
     "metadata": {},
     "outputs": []
    }
   ],
   "metadata": {}
  }
 ]
}
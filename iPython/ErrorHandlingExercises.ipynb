{
 "metadata": {
  "name": "",
  "signature": "sha256:f79771bccb09ddc3d69c74f1e2a22c47ac5c444f1cfd42a5cbfa1d7e6fd3d99d"
 },
 "nbformat": 3,
 "nbformat_minor": 0,
 "worksheets": [
  {
   "cells": [
    {
     "cell_type": "heading",
     "level": 1,
     "metadata": {},
     "source": [
      "Error Handling Exercises"
     ]
    },
    {
     "cell_type": "markdown",
     "metadata": {},
     "source": [
      "    Driver: Cameron Allen\n",
      "    Navigator: Dylan Tucker"
     ]
    },
    {
     "cell_type": "code",
     "collapsed": false,
     "input": [
      "from random import randint\n",
      "from ipythonblocks import BlockGrid\n",
      "from ipythonblocks import colors\n",
      "\n",
      "grid = BlockGrid(10,10,fill=(135,206,235)) #The visible playing field\n",
      "positionmarker = BlockGrid(100,100,fill=(255,255,255)) #A background grid that tracks previously guessed coordinates and prevents runoff errors\n",
      "print \"Let's play Pirate Ship Battleship!\\n\" \n",
      "print \"Please use integers 0 through 9 as your guesses for the row and column.\\n\"\n",
      "wind = str(raw_input(\"Argh! Which way is the wind blowing, matey? N,E,S, or W?\\n\")) #Chooses between horizontal or vertical ships\n",
      "\n",
      "def direction(wind): #Error handling for directions that are not N,E,S,W, raising a value error\n",
      "    wind = wind.upper()\n",
      "    if wind != 'N' and wind != 'S' and wind != 'W' and wind != 'E':\n",
      "        raise ValueError(\" That is not a viable direction, matey!\")\n",
      "        \n",
      "def shipsize(size): #Raises a value error if the inputted ship size is not one of the options\n",
      "    if size != 1 and size != 2 and size != 3:\n",
      "        raise ValueError(\"No ships of that size exist!\")\n",
      "\n",
      "direction(wind)\n",
      "if wind == \"N\" or wind == \"n\" or wind == \"S\" or wind == \"s\": #This section details the code for vertical ships\n",
      "    print\n",
      "    print \"What sort of ship do you see off the starboard bow?\\n1)Frigate 2)Spanish Galleon 3)British Ship of the Line\" #Ths determines whether the ships are 1,2,or 3 squares long\n",
      "    size = int(raw_input(\"1,2 or 3\\n\"))\n",
      "    shipsize(size)\n",
      "    if size == 1:\n",
      "        size = 0\n",
      "        print \"Ha, what luck! We shall be victorious today!\"\n",
      "    elif size == 2:\n",
      "        size = 1\n",
      "        print \"We shall be rich after this!\"\n",
      "    elif size == 3:\n",
      "        size = 2\n",
      "        print \"What unluck! Truly we are between the Devil and the deep blue sea!\\n\"\n",
      "\n",
      "    print \"We have %s shots! Make them count.\" %(7+size)\n",
      "    grid.show()\n",
      "\n",
      "    ship_row = randint(0,grid.height-3) #In order to fit length 3 ships, the maximum row is 7, and shis can be built down to the edge.\n",
      "    ship_col = randint(0,grid.width-1)\n",
      "    \n",
      "    n = 0\n",
      "    \n",
      "    for turn in range(7+size):\n",
      "        guess_row = int(raw_input(\"Guess Row:\"))\n",
      "        guess_col = int(raw_input(\"Guess Col:\"))\n",
      "        check = positionmarker[guess_row, guess_col] #Check is used to mark previously guessed cells\n",
      "\n",
      "\n",
      "        if guess_row in range(ship_row, ship_row+size+1) and guess_col == ship_col: #Conditions for hits and victory\n",
      "            grid[guess_row,guess_col] = (255,0,0)\n",
      "            check.red = 255\n",
      "            n+=1\n",
      "            if n == size+1:\n",
      "                grid[guess_row,guess_col] = (255,0,0)\n",
      "                print \"Argh! They'll be sailing with Davy Jones now!\"\n",
      "                print \"We sunk them in %s shots!\" %(turn+1)\n",
      "                grid.show()\n",
      "                break\n",
      "            else:\n",
      "                print \"Good shot! Keep firing!\"\n",
      "            \n",
      "        else:\n",
      "            if (guess_row < 0 or guess_row > grid.width-1) or (guess_col < 0 or guess_col > grid.height-1): #Out of bounds error\n",
      "                print \"Thar be no ships o'er there!\"\n",
      "            elif (check.red == 0 and check.blue == 0 and check.green ==0): #Repeat guess condition\n",
      "                print \"There is still no ship there, matey!\"\n",
      "            else: #Miss condition\n",
      "                print \"Fire at the ship, not the ocean!\"\n",
      "                grid[guess_row, guess_col] = colors['Black']\n",
      "                check.red = 0\n",
      "                check.green = 0\n",
      "                check.blue = 0\n",
      "            if turn == 6+size: #Game over, out of turns\n",
      "                print\n",
      "                print \"They managed to get away! What's a pirate without any plunder!?\"\n",
      "                print \"We fired %s cannonballs and got nothing for our trouble!\" %(turn+1)\n",
      "                print \"The ship was here:\"\n",
      "                if size == 0:\n",
      "                    grid[ship_row,ship_col] = colors['Yellow']\n",
      "                    grid.show()\n",
      "                elif size == 1:\n",
      "                    grid[ship_row,ship_col] = colors['Yellow']\n",
      "                    grid[ship_row+1,ship_col] = colors['Yellow']\n",
      "                    grid.show()\n",
      "                elif size == 2:\n",
      "                    grid[ship_row,ship_col] = colors['Yellow']\n",
      "                    grid[ship_row+1,ship_col] = colors['Yellow']\n",
      "                    grid[ship_row+2,ship_col] = colors['Yellow']\n",
      "                    grid.show()\n",
      "                break\n",
      "        print    \n",
      "        print \"Turn\", turn+1\n",
      "        grid.show()\n",
      "\n",
      "\n",
      "if wind == \"W\" or wind == \"w\" or wind == \"E\" or wind == \"e\": #This chunk of code is the same as above, but swaps the ships from vertical to horizontal\n",
      "    print\n",
      "    print \"What sort of ship do you see off the starboard bow?\\n1)Frigate 2)Spanish Galleon 3)British Ship of the Line\"\n",
      "    size = int(raw_input(\"1,2 or 3\\n\"))\n",
      "    shipsize(size)\n",
      "    if size == 1:\n",
      "        size = 0\n",
      "        print \"Ha, what luck! We shall be victorious today!\"\n",
      "    elif size == 2:\n",
      "        size = 1\n",
      "        print \"We shall be rich after this!\"\n",
      "    elif size == 3:\n",
      "        size = 2\n",
      "        print \"What unluck! Truly we are between the Devil and the deep blue sea!\\n\"\n",
      "\n",
      "    print \"We have %s shots! Make them count.\" %(7+size)\n",
      "    grid.show()\n",
      "\n",
      "    ship_row = randint(0,grid.height-1)\n",
      "    ship_col = randint(0,grid.width-3)\n",
      "    \n",
      "    n = 0\n",
      "\n",
      "    for turn in range(7+size):\n",
      "        guess_row = int(raw_input(\"Guess Row:\"))\n",
      "        guess_col = int(raw_input(\"Guess Col:\"))\n",
      "        check = positionmarker[guess_row, guess_col]\n",
      "\n",
      "        if guess_col in range(ship_col, ship_col+size+1) and guess_row == ship_row: #Rows and columns are flipped from the N/S conditions above\n",
      "            grid[guess_row,guess_col] = (255,0,0)\n",
      "            check.red = 255\n",
      "            n+=1\n",
      "            if n == size+1:\n",
      "                grid[guess_row,guess_col] = (255,0,0)\n",
      "                print \"Argh! They'll be sailing with Davy Jones now!\"\n",
      "                print \"We sunk them in %s shots!\" %(turn+1)\n",
      "                grid.show()\n",
      "                break\n",
      "            else:\n",
      "                print \"Good shot! Keep firing!\"\n",
      "                \n",
      "        else:\n",
      "            if (guess_row < 0 or guess_row > grid.width-1) or (guess_col < 0 or guess_col > grid.height-1): #Out of bounds error\n",
      "                print \"Thar be no ships o'er there!\"\n",
      "            elif (check.red == 0 and check.blue == 0 and check.green ==0): #Repeat guess condition\n",
      "                print \"There is still no ship there, matey!\"\n",
      "            else: #Miss condition\n",
      "                print \"Fire at the ship, not the ocean!\"\n",
      "                grid[guess_row, guess_col] = colors['Black']\n",
      "                check.red = 0\n",
      "                check.green = 0\n",
      "                check.blue = 0\n",
      "            if turn == 6+size: #Game over, out of turns\n",
      "                print\n",
      "                print \"They managed to sail away! What's a pirate without any plunder?\"\n",
      "                print \"We fired %s cannonballs and got nothing for our trouble!\" %(turn+1)\n",
      "                print \"The ship was here:\"\n",
      "                if size == 0:\n",
      "                    grid[ship_row,ship_col] = colors['Yellow']\n",
      "                    grid.show()\n",
      "                elif size == 1:\n",
      "                    grid[ship_row,ship_col] = colors['Yellow']\n",
      "                    grid[ship_row,ship_col+1] = colors['Yellow']\n",
      "                    grid.show()\n",
      "                elif size == 2:\n",
      "                    grid[ship_row,ship_col] = colors['Yellow']\n",
      "                    grid[ship_row,ship_col+1] = colors['Yellow']\n",
      "                    grid[ship_row,ship_col+2] = colors['Yellow']\n",
      "                    grid.show()\n",
      "                break\n",
      "        print    \n",
      "        print \"Turn\", turn+1\n",
      "        grid.show()\n"
     ],
     "language": "python",
     "metadata": {},
     "outputs": [
      {
       "output_type": "stream",
       "stream": "stdout",
       "text": [
        "Let's play Pirate Ship Battleship!\n",
        "\n",
        "Please use integers 0 through 9 as your guesses for the row and column.\n",
        "\n"
       ]
      },
      {
       "name": "stdout",
       "output_type": "stream",
       "stream": "stdout",
       "text": [
        "Argh! Which way is the wind blowing, matey? N,E,S, or W?\n",
        "\n"
       ]
      },
      {
       "ename": "ValueError",
       "evalue": " That is not a viable direction, matey!",
       "output_type": "pyerr",
       "traceback": [
        "\u001b[1;31m---------------------------------------------------------------------------\u001b[0m\n\u001b[1;31mValueError\u001b[0m                                Traceback (most recent call last)",
        "\u001b[1;32m<ipython-input-6-5433c3bc5c20>\u001b[0m in \u001b[0;36m<module>\u001b[1;34m()\u001b[0m\n\u001b[0;32m     18\u001b[0m         \u001b[1;32mraise\u001b[0m \u001b[0mValueError\u001b[0m\u001b[1;33m(\u001b[0m\u001b[1;34m\"No ships of that size exist!\"\u001b[0m\u001b[1;33m)\u001b[0m\u001b[1;33m\u001b[0m\u001b[0m\n\u001b[0;32m     19\u001b[0m \u001b[1;33m\u001b[0m\u001b[0m\n\u001b[1;32m---> 20\u001b[1;33m \u001b[0mdirection\u001b[0m\u001b[1;33m(\u001b[0m\u001b[0mwind\u001b[0m\u001b[1;33m)\u001b[0m\u001b[1;33m\u001b[0m\u001b[0m\n\u001b[0m\u001b[0;32m     21\u001b[0m \u001b[1;32mif\u001b[0m \u001b[0mwind\u001b[0m \u001b[1;33m==\u001b[0m \u001b[1;34m\"N\"\u001b[0m \u001b[1;32mor\u001b[0m \u001b[0mwind\u001b[0m \u001b[1;33m==\u001b[0m \u001b[1;34m\"n\"\u001b[0m \u001b[1;32mor\u001b[0m \u001b[0mwind\u001b[0m \u001b[1;33m==\u001b[0m \u001b[1;34m\"S\"\u001b[0m \u001b[1;32mor\u001b[0m \u001b[0mwind\u001b[0m \u001b[1;33m==\u001b[0m \u001b[1;34m\"s\"\u001b[0m\u001b[1;33m:\u001b[0m \u001b[1;31m#This section details the code for vertical ships\u001b[0m\u001b[1;33m\u001b[0m\u001b[0m\n\u001b[0;32m     22\u001b[0m     \u001b[1;32mprint\u001b[0m\u001b[1;33m\u001b[0m\u001b[0m\n",
        "\u001b[1;32m<ipython-input-6-5433c3bc5c20>\u001b[0m in \u001b[0;36mdirection\u001b[1;34m(wind)\u001b[0m\n\u001b[0;32m     12\u001b[0m     \u001b[0mwind\u001b[0m \u001b[1;33m=\u001b[0m \u001b[0mwind\u001b[0m\u001b[1;33m.\u001b[0m\u001b[0mupper\u001b[0m\u001b[1;33m(\u001b[0m\u001b[1;33m)\u001b[0m\u001b[1;33m\u001b[0m\u001b[0m\n\u001b[0;32m     13\u001b[0m     \u001b[1;32mif\u001b[0m \u001b[0mwind\u001b[0m \u001b[1;33m!=\u001b[0m \u001b[1;34m'N'\u001b[0m \u001b[1;32mand\u001b[0m \u001b[0mwind\u001b[0m \u001b[1;33m!=\u001b[0m \u001b[1;34m'S'\u001b[0m \u001b[1;32mand\u001b[0m \u001b[0mwind\u001b[0m \u001b[1;33m!=\u001b[0m \u001b[1;34m'W'\u001b[0m \u001b[1;32mand\u001b[0m \u001b[0mwind\u001b[0m \u001b[1;33m!=\u001b[0m \u001b[1;34m'E'\u001b[0m\u001b[1;33m:\u001b[0m\u001b[1;33m\u001b[0m\u001b[0m\n\u001b[1;32m---> 14\u001b[1;33m         \u001b[1;32mraise\u001b[0m \u001b[0mValueError\u001b[0m\u001b[1;33m(\u001b[0m\u001b[1;34m\" That is not a viable direction, matey!\"\u001b[0m\u001b[1;33m)\u001b[0m\u001b[1;33m\u001b[0m\u001b[0m\n\u001b[0m\u001b[0;32m     15\u001b[0m \u001b[1;33m\u001b[0m\u001b[0m\n\u001b[0;32m     16\u001b[0m \u001b[1;32mdef\u001b[0m \u001b[0mshipsize\u001b[0m\u001b[1;33m(\u001b[0m\u001b[0msize\u001b[0m\u001b[1;33m)\u001b[0m\u001b[1;33m:\u001b[0m \u001b[1;31m#Raises a value error if the inputted ship size is not one of the options\u001b[0m\u001b[1;33m\u001b[0m\u001b[0m\n",
        "\u001b[1;31mValueError\u001b[0m:  That is not a viable direction, matey!"
       ]
      }
     ],
     "prompt_number": 6
    },
    {
     "cell_type": "markdown",
     "metadata": {},
     "source": [
      "2.Here is a function which takes a filename, opens the file, reads the result, closes the file, and returns the contents. It should look something like this:"
     ]
    },
    {
     "cell_type": "raw",
     "metadata": {},
     "source": [
      "def read_all_from_file(filename):\n",
      "    f = open(filename)\n",
      "    contents = f.read()\n",
      "    f.close()\n",
      "    return contents"
     ]
    },
    {
     "cell_type": "markdown",
     "metadata": {},
     "source": [
      "Use runtime error handling concepts to improve this function, so that it does the following:\n",
      "1. raises an informative custom error if the file doesn't exist\n",
      "2. uses try, except, else, and/or finally to safely return the file's contents & close the file if necessary.\n",
      "3. add a keyword safe which defaults to False. If the function is called with safe=True, then return an empty string if the file doesn't exist."
     ]
    },
    {
     "cell_type": "code",
     "collapsed": false,
     "input": [
      "def read_all_from_file(filename,safe = False):\n",
      "    try:\n",
      "        f = open(filename)\n",
      "        contents = f.read()\n",
      "        f.close()\n",
      "        return contents\n",
      "    except IOError as err:\n",
      "        if safe == True:\n",
      "            print \" \"\n",
      "        else:    \n",
      "            print err\n",
      "            print \"File does not exist: \", err.filename\n",
      "            return None"
     ],
     "language": "python",
     "metadata": {},
     "outputs": [],
     "prompt_number": 16
    },
    {
     "cell_type": "code",
     "collapsed": false,
     "input": [
      "read_all_from_file('tmp.txt')"
     ],
     "language": "python",
     "metadata": {},
     "outputs": [
      {
       "metadata": {},
       "output_type": "pyout",
       "prompt_number": 17,
       "text": [
        "'this is the contents of the file'"
       ]
      }
     ],
     "prompt_number": 17
    },
    {
     "cell_type": "code",
     "collapsed": false,
     "input": [
      "read_all_from_file('file.which.does.not.exist')"
     ],
     "language": "python",
     "metadata": {},
     "outputs": [
      {
       "output_type": "stream",
       "stream": "stdout",
       "text": [
        "[Errno 2] No such file or directory: 'file.which.does.not.exist'\n",
        "File does not exist:  file.which.does.not.exist\n"
       ]
      }
     ],
     "prompt_number": 18
    },
    {
     "cell_type": "code",
     "collapsed": false,
     "input": [
      "read_all_from_file('file.which.does.not.exist', safe=True)"
     ],
     "language": "python",
     "metadata": {},
     "outputs": [
      {
       "output_type": "stream",
       "stream": "stdout",
       "text": [
        " \n"
       ]
      }
     ],
     "prompt_number": 19
    },
    {
     "cell_type": "code",
     "collapsed": false,
     "input": [],
     "language": "python",
     "metadata": {},
     "outputs": []
    }
   ],
   "metadata": {}
  }
 ]
}
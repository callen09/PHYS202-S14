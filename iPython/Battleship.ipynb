{
 "metadata": {
  "name": "",
  "signature": "sha256:43b7747d77de45a74c5df188019fd7ad29abc574679eaa50815d6a6de2b2be13"
 },
 "nbformat": 3,
 "nbformat_minor": 0,
 "worksheets": [
  {
   "cells": [
    {
     "cell_type": "heading",
     "level": 1,
     "metadata": {},
     "source": [
      "Battleship"
     ]
    },
    {
     "cell_type": "code",
     "collapsed": false,
     "input": [
      "from random import randint\n",
      "\"\"\"BATTLESHIP\"\"\"\n",
      "board = []\n",
      "# Board Set up\n",
      "for x in range(5):\n",
      "    board.append([\"O\"] * 5)\n",
      "\n",
      "def print_board(board):\n",
      "    for row in board:\n",
      "        print \" \".join(row)\n",
      "\n",
      "print \"Let's play Battleship!\"\n",
      "print_board(board)\n",
      "\n",
      "def random_row(board):\n",
      "    return randint(0, len(board) - 1)\n",
      "\n",
      "def random_col(board):\n",
      "    return randint(0, len(board[0]) - 1)\n",
      "\n",
      "ship_row = random_row(board)\n",
      "ship_col = random_col(board)\n",
      "\n",
      "\n",
      "# End of turn outcomes\n",
      "for turn in range(4):\n",
      "    guess_row = int(raw_input(\"Guess Row:\"))\n",
      "    guess_col = int(raw_input(\"Guess Col:\"))\n",
      "\n",
      "    if guess_row == ship_row and guess_col == ship_col:\n",
      "        print \"Congratulations! You sunk my battleship!\"\n",
      "        break\n",
      "    else:\n",
      "        if (guess_row < 0 or guess_row > 4) or (guess_col < 0 or guess_col > 4):\n",
      "            print \"Oops, that's not even in the ocean.\"\n",
      "        elif(board[guess_row][guess_col] == \"X\"):\n",
      "            print \"You guessed that one already.\"\n",
      "        else:\n",
      "            print \"You missed my battleship!\"\n",
      "            board[guess_row][guess_col] = \"X\"\n",
      "        if turn == 4:\n",
      "            print \"Game Over.\"\n",
      "            break\n",
      "        print \"Turn\", turn+1\n",
      "        print_board(board)"
     ],
     "language": "python",
     "metadata": {},
     "outputs": []
    }
   ],
   "metadata": {}
  }
 ]
}
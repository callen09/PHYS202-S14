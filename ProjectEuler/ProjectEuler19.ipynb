{
 "metadata": {
  "name": "",
  "signature": "sha256:abcd37132616f2e72595125e1abfb8c32a25bb4c6f942918587ae22a03f8843c"
 },
 "nbformat": 3,
 "nbformat_minor": 0,
 "worksheets": [
  {
   "cells": [
    {
     "cell_type": "heading",
     "level": 1,
     "metadata": {},
     "source": [
      "Counting Sundays\n",
      "\n",
      "Problem 19"
     ]
    },
    {
     "cell_type": "markdown",
     "metadata": {},
     "source": [
      "You are given the following information, but you may prefer to do some research for yourself.\n",
      "\n",
      "1. 1 Jan 1900 was a Monday.\n",
      "2. Thirty days has September, April, June and November. \n",
      "3. All the rest have thirty-one, Saving February alone, Which has twenty-eight, rain or shine. And on leap years, twenty-nine.\n",
      "4. A leap year occurs on any year evenly divisible by 4, but not on a century unless it is divisible by 400.\n",
      "\n",
      "How many Sundays fell on the first of the month during the twentieth century (1 Jan 1901 to 31 Dec 2000)?"
     ]
    },
    {
     "cell_type": "markdown",
     "metadata": {},
     "source": [
      "1 year = 365 days\n",
      "\n",
      "leap year = 366 days\n",
      "\n",
      "2000 was a leap year\n",
      "\n",
      "1904 was first leap year in sequence\n",
      "\n",
      "1/1/1901 was a Tuesday"
     ]
    },
    {
     "cell_type": "markdown",
     "metadata": {},
     "source": [
      "Jan[1],Feb[2],Mar[3],Apr[4],May[5],June[6],July[7],Aug[8],Sept[9],Oct[10],Nov[11],Dec[12]"
     ]
    },
    {
     "cell_type": "code",
     "collapsed": false,
     "input": [
      "def dayList():\n",
      "    dayList = [[0,0,0]]\n",
      "    for year in range(1901,2001):\n",
      "        for month in range(1,13):\n",
      "            if month in [4,6,9,11]:\n",
      "                days = 30\n",
      "            elif month in [2]:\n",
      "                if year % 4 == 0:\n",
      "                    days = 29\n",
      "                else:\n",
      "                    days = 28\n",
      "            else:\n",
      "                days = 31\n",
      "            for day in range(1, days + 1):\n",
      "                dayList.append([month,day,year])\n",
      "    return dayList\n",
      "\n",
      "def sundays():\n",
      "    days = dayList()\n",
      "    sundays = []\n",
      "    for day in range(len(days)):\n",
      "        if not (day - 6) % 7 and days[day][2] >= 1901 and not days[day][1] - 1:\n",
      "            sundays.append(days[day])\n",
      "    print \"%i Sundays as the first of the month between 1/1/1901 and 12/31/2000.\" % (len(sundays))\n",
      "    print\n",
      "    print sundays\n",
      "\n",
      "sundays()"
     ],
     "language": "python",
     "metadata": {},
     "outputs": [
      {
       "output_type": "stream",
       "stream": "stdout",
       "text": [
        "171 Sundays as the first of the month between 1/1/1901 and 12/31/2000.\n",
        "\n",
        "[[9, 1, 1901], [12, 1, 1901], [6, 1, 1902], [2, 1, 1903], [3, 1, 1903], [11, 1, 1903], [5, 1, 1904], [1, 1, 1905], [10, 1, 1905], [4, 1, 1906], [7, 1, 1906], [9, 1, 1907], [12, 1, 1907], [3, 1, 1908], [11, 1, 1908], [8, 1, 1909], [5, 1, 1910], [1, 1, 1911], [10, 1, 1911], [9, 1, 1912], [12, 1, 1912], [6, 1, 1913], [2, 1, 1914], [3, 1, 1914], [11, 1, 1914], [8, 1, 1915], [10, 1, 1916], [4, 1, 1917], [7, 1, 1917], [9, 1, 1918], [12, 1, 1918], [6, 1, 1919], [2, 1, 1920], [8, 1, 1920], [5, 1, 1921], [1, 1, 1922], [10, 1, 1922], [4, 1, 1923], [7, 1, 1923], [6, 1, 1924], [2, 1, 1925], [3, 1, 1925], [11, 1, 1925], [8, 1, 1926], [5, 1, 1927], [1, 1, 1928], [4, 1, 1928], [7, 1, 1928], [9, 1, 1929], [12, 1, 1929], [6, 1, 1930], [2, 1, 1931], [3, 1, 1931], [11, 1, 1931], [5, 1, 1932], [1, 1, 1933], [10, 1, 1933], [4, 1, 1934], [7, 1, 1934], [9, 1, 1935], [12, 1, 1935], [3, 1, 1936], [11, 1, 1936], [8, 1, 1937], [5, 1, 1938], [1, 1, 1939], [10, 1, 1939], [9, 1, 1940], [12, 1, 1940], [6, 1, 1941], [2, 1, 1942], [3, 1, 1942], [11, 1, 1942], [8, 1, 1943], [10, 1, 1944], [4, 1, 1945], [7, 1, 1945], [9, 1, 1946], [12, 1, 1946], [6, 1, 1947], [2, 1, 1948], [8, 1, 1948], [5, 1, 1949], [1, 1, 1950], [10, 1, 1950], [4, 1, 1951], [7, 1, 1951], [6, 1, 1952], [2, 1, 1953], [3, 1, 1953], [11, 1, 1953], [8, 1, 1954], [5, 1, 1955], [1, 1, 1956], [4, 1, 1956], [7, 1, 1956], [9, 1, 1957], [12, 1, 1957], [6, 1, 1958], [2, 1, 1959], [3, 1, 1959], [11, 1, 1959], [5, 1, 1960], [1, 1, 1961], [10, 1, 1961], [4, 1, 1962], [7, 1, 1962], [9, 1, 1963], [12, 1, 1963], [3, 1, 1964], [11, 1, 1964], [8, 1, 1965], [5, 1, 1966], [1, 1, 1967], [10, 1, 1967], [9, 1, 1968], [12, 1, 1968], [6, 1, 1969], [2, 1, 1970], [3, 1, 1970], [11, 1, 1970], [8, 1, 1971], [10, 1, 1972], [4, 1, 1973], [7, 1, 1973], [9, 1, 1974], [12, 1, 1974], [6, 1, 1975], [2, 1, 1976], [8, 1, 1976], [5, 1, 1977], [1, 1, 1978], [10, 1, 1978], [4, 1, 1979], [7, 1, 1979], [6, 1, 1980], [2, 1, 1981], [3, 1, 1981], [11, 1, 1981], [8, 1, 1982], [5, 1, 1983], [1, 1, 1984], [4, 1, 1984], [7, 1, 1984], [9, 1, 1985], [12, 1, 1985], [6, 1, 1986], [2, 1, 1987], [3, 1, 1987], [11, 1, 1987], [5, 1, 1988], [1, 1, 1989], [10, 1, 1989], [4, 1, 1990], [7, 1, 1990], [9, 1, 1991], [12, 1, 1991], [3, 1, 1992], [11, 1, 1992], [8, 1, 1993], [5, 1, 1994], [1, 1, 1995], [10, 1, 1995], [9, 1, 1996], [12, 1, 1996], [6, 1, 1997], [2, 1, 1998], [3, 1, 1998], [11, 1, 1998], [8, 1, 1999], [10, 1, 2000]]\n"
       ]
      }
     ],
     "prompt_number": 49
    },
    {
     "cell_type": "code",
     "collapsed": false,
     "input": [],
     "language": "python",
     "metadata": {},
     "outputs": []
    }
   ],
   "metadata": {}
  }
 ]
}
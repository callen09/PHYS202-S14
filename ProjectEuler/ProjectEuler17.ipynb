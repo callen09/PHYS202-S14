{
 "metadata": {
  "name": "",
  "signature": "sha256:bc040a829f79749c0cd864683b1f69ff9cb6f102a441590eeae4f5a1244b727f"
 },
 "nbformat": 3,
 "nbformat_minor": 0,
 "worksheets": [
  {
   "cells": [
    {
     "cell_type": "heading",
     "level": 1,
     "metadata": {},
     "source": [
      "Number letter counts\n",
      "Problem 17"
     ]
    },
    {
     "cell_type": "markdown",
     "metadata": {},
     "source": [
      "If the numbers 1 to 5 are written out in words: one, two, three, four, five, then there are 3 + 3 + 5 + 4 + 4 = 19 letters used in total.\n",
      "\n",
      "If all the numbers from 1 to 1000 (one thousand) inclusive were written out in words, how many letters would be used?\n",
      "\n",
      "\n",
      "NOTE: Do not count spaces or hyphens. For example, 342 (three hundred and forty-two) contains 23 letters and 115 (one hundred and fifteen) contains 20 letters. The use of \"and\" when writing out numbers is in compliance with British usage."
     ]
    },
    {
     "cell_type": "code",
     "collapsed": false,
     "input": [
      "def NumberLetterCount(n):\n",
      "    S = [0,3,3,5,4,4,3,5,5,4,3,6,6,8,8,7,7,9,8,8] #n/a,one,two...eighteen,nineteen\n",
      "    D = [0,3,6,6,5,5,5,7,6,6]#n/a,ten,twenty...eighty,ninety\n",
      "    H = 7 #hundred\n",
      "    T = 8 #thousand\n",
      "\n",
      "    total = 0\n",
      "\n",
      "    for i in range(1,n+1):\n",
      "        c = i % 10 # ones\n",
      "        b = ((i % 100) - c) / 10 # tens \n",
      "        a = ((i % 1000) - (b * 10) - c) / 100 # hundreds \n",
      "        if i == 1000:\n",
      "            total += T + 3 #One and Thousand\n",
      "        if a != 0:\n",
      "            total += S[a] + H # 100,200...\n",
      "            if b != 0 or c != 0: \n",
      "                total += 3 # \"and\"\n",
      "        if b == 0 or b == 1: \n",
      "            total += S[b * 10 + c] #Ones and teens\n",
      "        else:\n",
      "            total += D[b] + S[c] \n",
      "\n",
      "    print total"
     ],
     "language": "python",
     "metadata": {},
     "outputs": [],
     "prompt_number": 38
    },
    {
     "cell_type": "code",
     "collapsed": false,
     "input": [
      "NumberLetterCount(5)\n",
      "NumberLetterCount(1000)"
     ],
     "language": "python",
     "metadata": {},
     "outputs": [
      {
       "output_type": "stream",
       "stream": "stdout",
       "text": [
        "19\n",
        "21124\n"
       ]
      }
     ],
     "prompt_number": 39
    },
    {
     "cell_type": "code",
     "collapsed": false,
     "input": [],
     "language": "python",
     "metadata": {},
     "outputs": []
    }
   ],
   "metadata": {}
  }
 ]
}
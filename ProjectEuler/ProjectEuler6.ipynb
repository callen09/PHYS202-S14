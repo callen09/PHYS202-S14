{
 "metadata": {
  "name": "",
  "signature": "sha256:aea10d6dfd6123a8be3d2c7e547abbd842b18bf6e833959171cca017fdd54c69"
 },
 "nbformat": 3,
 "nbformat_minor": 0,
 "worksheets": [
  {
   "cells": [
    {
     "cell_type": "heading",
     "level": 1,
     "metadata": {},
     "source": [
      "Sum square difference\n",
      "Problem 6"
     ]
    },
    {
     "cell_type": "markdown",
     "metadata": {},
     "source": [
      "The sum of the squares of the first ten natural numbers is,\n",
      "\n",
      "1^2 + 2^2 + ... + 10^2 = 385\n",
      "\n",
      "The square of the sum of the first ten natural numbers is,\n",
      "\n",
      "(1 + 2 + ... + 10)^2 = 55^2 = 3025\n",
      "\n",
      "Hence the difference between the sum of the squares of the first ten natural numbers and the square of the sum is 3025 \u2212 385 = 2640.\n",
      "\n",
      "Find the difference between the sum of the squares of the first one hundred natural numbers and the square of the sum."
     ]
    },
    {
     "cell_type": "code",
     "collapsed": false,
     "input": [
      "sumsquare = 0\n",
      "sumtotal = 0\n",
      "\n",
      "for i in range(1,11):\n",
      "    square = i**2\n",
      "    sumsquare += square\n",
      "    \n",
      "for j in range(1,11):\n",
      "    sumtotal += j\n",
      "    squaresum = sumtotal**2\n",
      "    \n",
      "print sumsquare\n",
      "print squaresum\n",
      "print\n",
      "difference = squaresum - sumsquare\n",
      "print difference"
     ],
     "language": "python",
     "metadata": {},
     "outputs": [
      {
       "output_type": "stream",
       "stream": "stdout",
       "text": [
        "385\n",
        "3025\n",
        "\n",
        "2640\n"
       ]
      }
     ],
     "prompt_number": 26
    },
    {
     "cell_type": "code",
     "collapsed": false,
     "input": [
      "sumsquare = 0\n",
      "sumtotal = 0\n",
      "\n",
      "for i in range(1,101):\n",
      "    square = i**2\n",
      "    sumsquare += square\n",
      "    \n",
      "for j in range(1,101):\n",
      "    sumtotal += j\n",
      "    squaresum = sumtotal**2\n",
      "    \n",
      "print sumsquare\n",
      "print squaresum\n",
      "print\n",
      "difference = squaresum - sumsquare\n",
      "print difference"
     ],
     "language": "python",
     "metadata": {},
     "outputs": [
      {
       "output_type": "stream",
       "stream": "stdout",
       "text": [
        "338350\n",
        "25502500\n",
        "\n",
        "25164150\n"
       ]
      }
     ],
     "prompt_number": 27
    },
    {
     "cell_type": "code",
     "collapsed": false,
     "input": [],
     "language": "python",
     "metadata": {},
     "outputs": []
    }
   ],
   "metadata": {}
  }
 ]
}
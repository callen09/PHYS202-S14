{
 "metadata": {
  "name": "",
  "signature": "sha256:3c23ca4c29080caa3f9d2a7d00b6d8339c10b07e7762d497dfbc78d7de51f50e"
 },
 "nbformat": 3,
 "nbformat_minor": 0,
 "worksheets": [
  {
   "cells": [
    {
     "cell_type": "heading",
     "level": 1,
     "metadata": {},
     "source": [
      "Data I/O Exercises"
     ]
    },
    {
     "cell_type": "code",
     "collapsed": false,
     "input": [
      "%pylab inline\n",
      "import numpy as np"
     ],
     "language": "python",
     "metadata": {},
     "outputs": [
      {
       "output_type": "stream",
       "stream": "stdout",
       "text": [
        "Populating the interactive namespace from numpy and matplotlib\n"
       ]
      }
     ],
     "prompt_number": 2
    },
    {
     "cell_type": "markdown",
     "metadata": {},
     "source": [
      "1. Here is some code that creates a comma-delimited file of numbers with random precision, leading spaces, and formatting:\n"
     ]
    },
    {
     "cell_type": "code",
     "collapsed": false,
     "input": [
      "# Don't modify this: it simply writes the example file\n",
      "f = open('messy_data.dat', 'w')\n",
      "import random\n",
      "for i in range(100):\n",
      "    for j in range(5):\n",
      "        f.write(' ' * random.randint(0, 6))\n",
      "        f.write('%0*.*g' % (random.randint(8, 12),\n",
      "                            random.randint(5, 10),\n",
      "                            100 * random.random()))\n",
      "        if j != 4:\n",
      "            f.write(',')\n",
      "    f.write('\\n')\n",
      "f.close()"
     ],
     "language": "python",
     "metadata": {},
     "outputs": [],
     "prompt_number": 3
    },
    {
     "cell_type": "code",
     "collapsed": false,
     "input": [
      "# Look at the first four lines of the file:\n",
      "!head -4 messy_data.dat"
     ],
     "language": "python",
     "metadata": {},
     "outputs": [
      {
       "output_type": "stream",
       "stream": "stderr",
       "text": [
        "'head' is not recognized as an internal or external command,\n",
        "operable program or batch file.\n"
       ]
      }
     ],
     "prompt_number": 4
    },
    {
     "cell_type": "markdown",
     "metadata": {},
     "source": [
      "a) Write a program that reads in the contents of \"messy_data.dat\" and extracts the numbers from each line, using the string manipulations we used in section 1 (remember that float() will convert a suitable string to a floating-point number)."
     ]
    },
    {
     "cell_type": "code",
     "collapsed": false,
     "input": [
      "contents = open('messy_data.dat').read()\n",
      "out = open('data.dat','r+')\n",
      "out.write(contents.replace(',',' '))\n",
      "out.close()"
     ],
     "language": "python",
     "metadata": {},
     "outputs": [],
     "prompt_number": 5
    },
    {
     "cell_type": "code",
     "collapsed": false,
     "input": [
      "lines = open('messy_data.dat').readlines()\n",
      "out = open('data.dat','w')\n",
      "out.writelines(lines)\n",
      "out.close()"
     ],
     "language": "python",
     "metadata": {},
     "outputs": [],
     "prompt_number": 6
    },
    {
     "cell_type": "code",
     "collapsed": false,
     "input": [
      "out = open('clean_data.dat','r+')\n",
      "for line in open('messy_data.dat'):\n",
      "    line = line.split(',')\n",
      "    np.asfarray(line)\n",
      "out.close()\n",
      "print np.asfarray(line)"
     ],
     "language": "python",
     "metadata": {},
     "outputs": [
      {
       "output_type": "stream",
       "stream": "stdout",
       "text": [
        "[  4.0859055   26.76898276  94.82266074  50.42933     69.605047  ]\n"
       ]
      }
     ],
     "prompt_number": 7
    },
    {
     "cell_type": "code",
     "collapsed": false,
     "input": [
      "with open('clean_data.dat', 'r+') as f:\n",
      "    f.writelines(line)"
     ],
     "language": "python",
     "metadata": {},
     "outputs": [],
     "prompt_number": 8
    },
    {
     "cell_type": "markdown",
     "metadata": {},
     "source": [
      "(b) Next write out a new file named \"clean_data.dat\". The new file should contain the same data as the old file, but with uniform formatting and aligned columns."
     ]
    },
    {
     "cell_type": "code",
     "collapsed": false,
     "input": [
      "g = open('clean_data.dat')\n",
      "\n",
      "g.close()"
     ],
     "language": "python",
     "metadata": {},
     "outputs": [],
     "prompt_number": 9
    },
    {
     "cell_type": "code",
     "collapsed": false,
     "input": [],
     "language": "python",
     "metadata": {},
     "outputs": [],
     "prompt_number": 9
    },
    {
     "cell_type": "markdown",
     "metadata": {},
     "source": [
      "(c) Now re-do the same task using NumPy's loadtxt and savetxt functions."
     ]
    },
    {
     "cell_type": "code",
     "collapsed": false,
     "input": [
      "DataIn = np.loadtxt('messy_data.dat', delimiter = ',')\n",
      "\n",
      "myHeader = \"Cleaned up Data\"\n",
      "savetxt('clean_data.txt', DataIn, fmt = '%2.3e', header=myHeader)"
     ],
     "language": "python",
     "metadata": {},
     "outputs": [],
     "prompt_number": 23
    },
    {
     "cell_type": "code",
     "collapsed": false,
     "input": [
      "f = open('clean_data.txt')\n",
      "print f.read()\n",
      "f.close()"
     ],
     "language": "python",
     "metadata": {},
     "outputs": [
      {
       "output_type": "stream",
       "stream": "stdout",
       "text": [
        "# Cleaned up Data\n",
        "6.611e+01 3.300e+01 6.245e+01 5.550e+01 9.066e+01\n",
        "9.399e+01 4.599e+01 9.794e+01 8.134e+01 4.336e+01\n",
        "1.024e+01 1.103e+01 8.587e+01 9.570e+01 3.357e+01\n",
        "4.209e+01 6.885e+01 1.532e+01 5.369e+01 9.075e+01\n",
        "8.754e+01 2.548e+01 6.374e+00 1.910e+01 5.984e-01\n",
        "8.326e+01 7.214e+01 7.014e+01 3.266e+01 2.818e+01\n",
        "6.280e+01 2.462e+01 6.853e+00 9.015e+01 9.256e+00\n",
        "1.045e+01 5.536e+01 5.926e+01 5.745e+01 6.497e+01\n",
        "9.030e+01 3.972e+01 1.584e+01 4.065e+01 6.758e+01\n",
        "5.589e+01 8.163e+01 8.907e+00 8.106e+01 4.500e+01\n",
        "7.930e+01 8.049e+01 2.901e+01 7.199e+01 8.751e+01\n",
        "3.441e+01 8.685e+01 9.596e+01 6.264e+01 1.934e+01\n",
        "9.735e+01 2.460e+00 7.227e+01 9.857e+01 7.911e+01\n",
        "6.679e+01 2.206e+01 5.701e+01 9.956e+01 1.455e+01\n",
        "7.905e+01 2.704e+01 2.552e+01 4.125e+01 7.693e+01\n",
        "1.631e+01 3.469e+01 1.382e+01 7.737e+01 3.183e+00\n",
        "9.179e+01 9.788e+01 2.737e+01 6.196e+01 8.761e+01\n",
        "6.278e+00 3.976e+01 9.328e+01 8.337e+01 6.597e+01\n",
        "7.882e+01 5.025e+01 6.210e+01 2.679e+01 3.277e+01\n",
        "3.249e+00 8.728e+01 4.177e+01 3.150e+01 4.122e+01\n",
        "7.547e+01 1.204e+01 5.630e+01 8.829e+01 2.704e+00\n",
        "4.401e+01 3.769e+01 9.877e+01 7.103e+01 2.185e+01\n",
        "5.906e+01 3.619e+01 1.668e+01 2.419e+01 6.830e+01\n",
        "3.185e+01 2.976e+01 9.814e+01 5.000e+01 9.533e+01\n",
        "9.753e+01 8.073e+01 4.417e+01 9.232e+01 1.733e+01\n",
        "4.963e+01 8.335e+00 3.371e+01 1.982e+01 2.681e+01\n",
        "5.369e+01 2.278e+01 6.645e+01 3.648e+01 7.394e+00\n",
        "7.971e+01 3.476e+01 9.728e+01 4.203e+01 9.710e+01\n",
        "9.144e+01 4.199e+01 7.697e+01 7.802e+01 4.881e+01\n",
        "7.224e+01 4.484e+01 7.259e+01 3.686e+01 2.541e+01\n",
        "5.442e+01 3.983e+01 7.655e+01 9.223e+01 1.436e+01\n",
        "4.960e+01 4.802e+01 6.684e+01 1.886e+01 7.240e+01\n",
        "5.442e+01 5.708e+01 6.033e+01 1.538e+01 9.896e+01\n",
        "5.149e+01 8.975e+01 6.576e+00 6.316e+01 1.005e+01\n",
        "8.148e+01 8.027e+01 1.976e+01 4.905e+01 3.070e+01\n",
        "7.430e+01 3.081e+01 4.628e+01 3.725e+01 2.871e+01\n",
        "7.756e+01 1.405e+01 3.351e+01 2.509e+01 4.425e+01\n",
        "4.976e+01 2.038e+01 2.656e+01 2.255e+00 1.898e+01\n",
        "9.951e+01 6.724e+01 2.165e+01 2.124e+01 9.209e+01\n",
        "3.279e+01 8.040e+01 2.351e+01 2.834e+01 7.688e+01\n",
        "3.976e+01 7.879e+01 4.444e+01 2.574e-01 4.071e+01\n",
        "8.496e+01 5.025e+01 2.311e+00 5.444e+01 9.693e+01\n",
        "5.675e+01 7.343e+01 6.973e+01 4.914e+01 8.635e+01\n",
        "3.425e+01 1.885e+01 3.277e+01 3.846e+01 3.601e+01\n",
        "1.017e+01 4.021e+00 2.631e+01 4.118e+01 2.418e+01\n",
        "3.817e+01 3.156e+01 5.046e+01 8.332e+01 7.598e+01\n",
        "5.993e+01 7.328e+00 1.252e+01 5.476e+01 4.725e+01\n",
        "4.498e+01 5.809e+01 2.389e+01 1.109e+01 9.056e+01\n",
        "7.299e+01 4.997e+00 7.243e+01 3.336e+00 9.644e+01\n",
        "3.560e+01 5.336e+01 2.235e+01 4.329e+01 8.941e+01\n",
        "9.247e+01 5.174e+01 6.019e+01 5.398e+01 3.159e+00\n",
        "5.355e+01 2.115e+01 2.547e+00 7.747e+01 7.564e+01\n",
        "7.318e+01 4.730e+00 9.283e+01 6.242e+01 2.522e+01\n",
        "6.550e+01 4.180e+01 5.839e+01 8.345e+01 8.807e+01\n",
        "9.205e+01 3.436e+01 2.129e+01 9.994e+01 2.696e+01\n",
        "7.216e+01 7.620e+01 2.318e+01 5.321e+01 7.585e+01\n",
        "5.023e+01 4.844e+01 8.522e+01 4.139e+01 2.340e+01\n",
        "7.012e+00 8.257e+01 9.918e+01 3.381e+01 3.871e+01\n",
        "5.749e+01 2.912e+01 7.053e+01 9.920e+01 7.547e+01\n",
        "4.030e+01 5.108e+01 8.023e+01 2.054e+01 9.432e+00\n",
        "7.651e+01 3.769e+01 2.847e+01 1.192e+01 1.567e+01\n",
        "1.619e+01 9.341e+01 1.927e+01 6.955e+01 9.322e+01\n",
        "8.956e-01 6.978e+01 1.403e+01 2.077e+00 3.369e+01\n",
        "8.111e+01 8.905e+01 5.928e+01 5.555e+01 1.601e+01\n",
        "3.877e+01 1.376e+00 8.442e+01 1.651e+01 6.121e+01\n",
        "7.800e+01 1.005e+01 7.718e+01 4.232e+01 6.365e+01\n",
        "4.515e+01 5.809e+01 1.187e+01 4.104e+01 1.308e+01\n",
        "2.370e+01 8.798e+01 9.486e+01 9.682e+01 3.567e+01\n",
        "2.595e+01 6.008e+01 2.700e+01 2.654e+01 5.425e+01\n",
        "2.476e+01 6.049e+01 2.126e+01 7.919e+01 1.105e+00\n",
        "7.722e+01 2.158e+01 6.703e+01 1.304e+01 2.671e+00\n",
        "3.580e+00 3.113e+01 6.515e+01 5.832e+01 3.239e+01\n",
        "3.945e+01 4.496e+01 1.294e+01 7.376e+01 9.306e+01\n",
        "5.821e+01 1.640e+00 8.591e+01 4.570e-01 1.797e+01\n",
        "5.044e+01 3.441e+01 6.510e+01 5.909e+01 5.568e+01\n",
        "1.565e+01 2.600e+01 8.859e+01 8.584e+01 8.547e+01\n",
        "1.204e+01 3.196e+01 8.702e+01 1.815e+01 1.667e+01\n",
        "4.974e+01 1.414e+01 6.002e+01 5.237e+01 7.121e+01\n",
        "4.053e+01 4.613e+01 3.498e+01 4.569e+01 8.185e+01\n",
        "4.924e+01 1.664e+01 6.444e+00 6.113e+01 5.105e+01\n",
        "1.030e+01 9.496e+01 7.123e+01 6.389e+01 9.915e+01\n",
        "5.778e+01 4.765e+01 2.396e+01 3.754e+01 7.299e+01\n",
        "6.191e+01 2.484e+01 7.681e+01 7.498e+01 1.554e+01\n",
        "2.248e+01 8.522e+01 2.246e+01 2.819e+01 3.772e+01\n",
        "7.041e+00 1.471e+01 9.426e+01 8.576e+01 6.560e+01\n",
        "5.480e+01 6.761e+01 2.384e+01 9.418e+01 3.471e+01\n",
        "1.664e+01 6.108e+01 8.808e+01 5.673e-01 5.297e+01\n",
        "1.751e+01 2.643e+01 9.783e+01 6.895e+01 8.014e+01\n",
        "2.767e+01 6.889e+00 9.958e+01 3.019e+01 7.891e+01\n",
        "2.354e+01 8.914e+01 8.886e+01 9.426e+01 9.403e+01\n",
        "8.965e+01 4.459e+01 6.408e+01 8.302e+01 3.028e+00\n",
        "4.272e+01 5.802e+01 9.578e+01 6.059e+01 9.443e+01\n",
        "8.687e+01 9.104e+01 5.298e+00 7.144e+01 2.228e+01\n",
        "7.268e+01 7.145e+01 3.813e+01 2.458e+01 7.459e+01\n",
        "6.198e+01 8.031e+00 8.519e+01 2.293e+01 2.199e+01\n",
        "1.153e+01 4.252e+01 5.179e+01 9.778e+01 8.531e+01\n",
        "6.607e+01 3.565e+01 3.109e+01 1.840e+01 1.391e+01\n",
        "7.206e+00 3.986e+01 5.194e-01 9.610e+01 1.436e+01\n",
        "5.747e+01 9.410e+01 2.385e+01 7.531e+01 6.545e+01\n",
        "4.086e+00 2.677e+01 9.482e+01 5.043e+01 6.961e+01\n",
        "\n"
       ]
      }
     ],
     "prompt_number": 24
    },
    {
     "cell_type": "code",
     "collapsed": false,
     "input": [],
     "language": "python",
     "metadata": {},
     "outputs": []
    }
   ],
   "metadata": {}
  }
 ]
}